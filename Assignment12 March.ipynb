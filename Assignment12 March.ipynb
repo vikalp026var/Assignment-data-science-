{
 "cells": [
  {
   "cell_type": "markdown",
   "id": "24ab978e",
   "metadata": {},
   "source": [
    "Q1.Calculate the 95% confidence interval for a sample of data with a mean of 50 and a standard deviation\n",
    "of 5 using Python. Interpret the results."
   ]
  },
  {
   "cell_type": "code",
   "execution_count": 1,
   "id": "8dff58ac",
   "metadata": {},
   "outputs": [],
   "source": [
    "import scipy.stats as st"
   ]
  },
  {
   "cell_type": "code",
   "execution_count": 7,
   "id": "b7010e45",
   "metadata": {},
   "outputs": [],
   "source": [
    "n=100 #Lets\n",
    "meani=50\n",
    "std=5\n",
    "aplha=0.05\n",
    "dof=n-1"
   ]
  },
  {
   "cell_type": "code",
   "execution_count": 8,
   "id": "fb2215e2",
   "metadata": {},
   "outputs": [],
   "source": [
    "import numpy as np"
   ]
  },
  {
   "cell_type": "code",
   "execution_count": 9,
   "id": "f42275d2",
   "metadata": {},
   "outputs": [],
   "source": [
    "sem=std/np.sqrt(n)"
   ]
  },
  {
   "cell_type": "code",
   "execution_count": 10,
   "id": "9b904288",
   "metadata": {},
   "outputs": [
    {
     "data": {
      "text/plain": [
       "0.5"
      ]
     },
     "execution_count": 10,
     "metadata": {},
     "output_type": "execute_result"
    }
   ],
   "source": [
    "sem"
   ]
  },
  {
   "cell_type": "code",
   "execution_count": 18,
   "id": "a7c54dc0",
   "metadata": {},
   "outputs": [],
   "source": [
    "t1=st.chi2.ppf(1 - alpha / 2, dof)"
   ]
  },
  {
   "cell_type": "code",
   "execution_count": 19,
   "id": "ca4b5d9a",
   "metadata": {},
   "outputs": [
    {
     "data": {
      "text/plain": [
       "138.98678345093953"
      ]
     },
     "execution_count": 19,
     "metadata": {},
     "output_type": "execute_result"
    }
   ],
   "source": [
    "t1"
   ]
  },
  {
   "cell_type": "code",
   "execution_count": 21,
   "id": "8edba056",
   "metadata": {},
   "outputs": [],
   "source": [
    "High=meani+sem*t1"
   ]
  },
  {
   "cell_type": "code",
   "execution_count": 24,
   "id": "90f40810",
   "metadata": {},
   "outputs": [
    {
     "data": {
      "text/plain": [
       "119.49339172546976"
      ]
     },
     "execution_count": 24,
     "metadata": {},
     "output_type": "execute_result"
    }
   ],
   "source": [
    "High"
   ]
  },
  {
   "cell_type": "code",
   "execution_count": 25,
   "id": "360ae0cc",
   "metadata": {},
   "outputs": [],
   "source": [
    "low=meani-sem*t1"
   ]
  },
  {
   "cell_type": "code",
   "execution_count": 26,
   "id": "70d46b7b",
   "metadata": {},
   "outputs": [
    {
     "data": {
      "text/plain": [
       "-19.493391725469763"
      ]
     },
     "execution_count": 26,
     "metadata": {},
     "output_type": "execute_result"
    }
   ],
   "source": [
    "low"
   ]
  },
  {
   "cell_type": "code",
   "execution_count": 27,
   "id": "14fa0cc9",
   "metadata": {},
   "outputs": [
    {
     "name": "stdout",
     "output_type": "stream",
     "text": [
      "the confidence is (119.49339172546976, -19.493391725469763) for 95% confidence interval\n"
     ]
    }
   ],
   "source": [
    "print(f\"the confidence is {High,low} for 95% confidence interval\")"
   ]
  },
  {
   "cell_type": "markdown",
   "id": "0823840f",
   "metadata": {},
   "source": [
    "Conduct a chi-square goodness of fit test to determine if the distribution of colors of M&Ms in a bag\n",
    "matches the expected distribution of 20% blue, 20% orange, 20% green, 10% yellow, 10% red, and 20%\n",
    "brown. Use Python to perform the test with a significance level of 0.05."
   ]
  },
  {
   "cell_type": "code",
   "execution_count": 1,
   "id": "ce40c805",
   "metadata": {},
   "outputs": [],
   "source": [
    "import numpy as np"
   ]
  },
  {
   "cell_type": "code",
   "execution_count": 2,
   "id": "b2be1abf",
   "metadata": {},
   "outputs": [],
   "source": [
    "from scipy.stats import chisquare"
   ]
  },
  {
   "cell_type": "code",
   "execution_count": 3,
   "id": "4f8f1805",
   "metadata": {},
   "outputs": [],
   "source": [
    "observed_values = np.array([24, 16, 20, 12, 8, 20])"
   ]
  },
  {
   "cell_type": "code",
   "execution_count": 4,
   "id": "e3436837",
   "metadata": {},
   "outputs": [],
   "source": [
    "expected_values = np.array([0.2, 0.2, 0.2, 0.1, 0.1, 0.2]) * sum(observed_values)"
   ]
  },
  {
   "cell_type": "code",
   "execution_count": 5,
   "id": "52d17b66",
   "metadata": {},
   "outputs": [],
   "source": [
    "statistic, p_value = chisquare(observed_values, expected_values)"
   ]
  },
  {
   "cell_type": "code",
   "execution_count": 6,
   "id": "487abca3",
   "metadata": {},
   "outputs": [
    {
     "name": "stdout",
     "output_type": "stream",
     "text": [
      "Chi-square statistic: 2.4000\n",
      "P-value: 0.7915\n"
     ]
    }
   ],
   "source": [
    "print(f\"Chi-square statistic: {statistic:.4f}\")\n",
    "print(f\"P-value: {p_value:.4f}\")"
   ]
  },
  {
   "cell_type": "code",
   "execution_count": 7,
   "id": "7b00a0ba",
   "metadata": {},
   "outputs": [
    {
     "name": "stdout",
     "output_type": "stream",
     "text": [
      "The distribution of colors of M&Ms in a bag matches the expected distribution.\n"
     ]
    }
   ],
   "source": [
    "if p_value < 0.05:\n",
    "    print(\"The distribution of colors of M&Ms in a bag does not match the expected distribution.\")\n",
    "else:\n",
    "    print(\"The distribution of colors of M&Ms in a bag matches the expected distribution.\")"
   ]
  },
  {
   "cell_type": "markdown",
   "id": "1b300bb7",
   "metadata": {},
   "source": [
    "Q3. Use Python to calculate the chi-square statistic and p-value for a contingency table with the following\n",
    "data:"
   ]
  },
  {
   "cell_type": "code",
   "execution_count": 15,
   "id": "6868c466",
   "metadata": {},
   "outputs": [],
   "source": [
    "from  scipy.stats import chi2_contingency "
   ]
  },
  {
   "cell_type": "code",
   "execution_count": 16,
   "id": "9e093279",
   "metadata": {},
   "outputs": [],
   "source": [
    "observed_values = np.array([[20, 15],\n",
    "                            [10, 25],\n",
    "                            [15, 20]])"
   ]
  },
  {
   "cell_type": "code",
   "execution_count": 17,
   "id": "0e4acb2d",
   "metadata": {},
   "outputs": [],
   "source": [
    "chi2_stat, p_val, dof, expected_values = chi2_contingency(observed_values)\n"
   ]
  },
  {
   "cell_type": "code",
   "execution_count": 18,
   "id": "e247b47e",
   "metadata": {},
   "outputs": [
    {
     "name": "stdout",
     "output_type": "stream",
     "text": [
      "Chi-square statistic: 5.8333\n",
      "P-value: 0.0541\n"
     ]
    }
   ],
   "source": [
    "print(f\"Chi-square statistic: {chi2_stat:.4f}\")\n",
    "print(f\"P-value: {p_val:.4f}\")"
   ]
  },
  {
   "cell_type": "markdown",
   "id": "3581f858",
   "metadata": {},
   "source": [
    "Q4. A study of the prevalence of smoking in a population of 500 individuals found that 60 individuals\n",
    "smoked. Use Python to calculate the 95% confidence interval for the true proportion of individuals in the\n",
    "population who smoke."
   ]
  },
  {
   "cell_type": "code",
   "execution_count": 19,
   "id": "8d380097",
   "metadata": {},
   "outputs": [
    {
     "name": "stdout",
     "output_type": "stream",
     "text": [
      "The 95% confidence interval for the true proportion of individuals in the population who smoke is: (0.09151638887130706, 0.14848361112869293)\n"
     ]
    }
   ],
   "source": [
    "import statsmodels.stats.proportion as sm\n",
    "n=500\n",
    "smokers=60\n",
    "p=smokers/n\n",
    "conf_int = sm.proportion_confint(smokers, n, alpha=0.05, method='normal')\n",
    "print(f\"The 95% confidence interval for the true proportion of individuals in the population who smoke is: {conf_int}\")"
   ]
  },
  {
   "cell_type": "markdown",
   "id": "a6c7e372",
   "metadata": {},
   "source": [
    "Q5. Calculate the 90% confidence interval for a sample of data with a mean of 75 and a standard deviation\n",
    "of 12 using Python. Interpret the results."
   ]
  },
  {
   "cell_type": "code",
   "execution_count": 20,
   "id": "b90c6cd2",
   "metadata": {},
   "outputs": [],
   "source": [
    "import statsmodels.stats.proportion as sm"
   ]
  },
  {
   "cell_type": "code",
   "execution_count": 21,
   "id": "5bf8f91f",
   "metadata": {},
   "outputs": [],
   "source": [
    "meani=75\n",
    "std=12"
   ]
  },
  {
   "cell_type": "code",
   "execution_count": 23,
   "id": "c836324f",
   "metadata": {},
   "outputs": [
    {
     "name": "stdout",
     "output_type": "stream",
     "text": [
      "The 90.0% confidence interval is (72.15, 77.85)\n"
     ]
    }
   ],
   "source": [
    "import numpy as np\n",
    "import scipy.stats as stats\n",
    "sample_mean = 75\n",
    "sample_std = 12\n",
    "n = 50\n",
    "sem = sample_std / np.sqrt(n)\n",
    "conf_level = 0.90\n",
    "t_crit = stats.t.ppf((1 + conf_level) / 2, n - 1)\n",
    "lower_ci = sample_mean - t_crit * sem\n",
    "upper_ci = sample_mean + t_crit * sem\n",
    "print(f\"The {conf_level*100}% confidence interval is ({lower_ci:.2f}, {upper_ci:.2f})\")\n"
   ]
  },
  {
   "cell_type": "markdown",
   "id": "ed048d05",
   "metadata": {},
   "source": [
    "Use Python to plot the chi-square distribution with 10 degrees of freedom. Label the axes and shade the\n",
    "area corresponding to a chi-square statistic of 15."
   ]
  },
  {
   "cell_type": "code",
   "execution_count": 25,
   "id": "c448514c",
   "metadata": {},
   "outputs": [
    {
     "data": {
      "image/png": "[encoded data removed]",
      "text/plain": [
       "<Figure size 432x288 with 1 Axes>"
      ]
     },
     "metadata": {
      "needs_background": "light"
     },
     "output_type": "display_data"
    }
   ],
   "source": [
    "import numpy as np\n",
    "import matplotlib.pyplot as plt\n",
    "from scipy.stats import chi2\n",
    "df = 10\n",
    "x = np.linspace(chi2.ppf(0.001, df), chi2.ppf(0.999, df), 1000)\n",
    "fig, ax = plt.subplots()\n",
    "ax.plot(x, chi2.pdf(x, df), 'r-', lw=2, label='chi2 pdf')\n",
    "ax.fill_between(x, 0, chi2.pdf(x, df), where=x >= 15, color='yellow', alpha=0.5)\n",
    "ax.set_xlabel('Chi-Square Statistic')\n",
    "ax.set_ylabel('Probability Density')\n",
    "ax.set_title('Chi-Square Distribution with 10 Degrees of Freedom')\n",
    "plt.show()\n"
   ]
  },
  {
   "cell_type": "markdown",
   "id": "44e23012",
   "metadata": {},
   "source": [
    "Q7. A random sample of 1000 people was asked if they preferred Coke or Pepsi. Of the sample, 520\n",
    "preferred Coke. Calculate a 99% confidence interval for the true proportion of people in the population who\n",
    "prefer Coke."
   ]
  },
  {
   "cell_type": "code",
   "execution_count": 29,
   "id": "6284ca9d",
   "metadata": {},
   "outputs": [],
   "source": [
    "import statsmodels.stats.proportion as sm"
   ]
  },
  {
   "cell_type": "code",
   "execution_count": 31,
   "id": "274430f4",
   "metadata": {},
   "outputs": [
    {
     "name": "stdout",
     "output_type": "stream",
     "text": [
      "The 95% confidence interval for the true proportion of individuals in the population who prefer coke is: (0.48903505011072596, 0.5509649498892741)\n"
     ]
    }
   ],
   "source": [
    "n=1000\n",
    "coke=520\n",
    "p=coke/n\n",
    "conf=sm.proportion_confint(coke,n,alpha=0.05,method=\"normal\")\n",
    "print(f\"The 95% confidence interval for the true proportion of individuals in the population who prefer coke is: {conf}\")"
   ]
  },
  {
   "cell_type": "markdown",
   "id": "0cfb670d",
   "metadata": {},
   "source": [
    "Q8. A researcher hypothesizes that a coin is biased towards tails. They flip the coin 100 times and observe\n",
    "45 tails. Conduct a chi-square goodness of fit test to determine if the observed frequencies match the\n",
    "expected frequencies of a fair coin. Use a significance level of 0.05."
   ]
  },
  {
   "cell_type": "code",
   "execution_count": 32,
   "id": "77437a9c",
   "metadata": {},
   "outputs": [
    {
     "name": "stdout",
     "output_type": "stream",
     "text": [
      "Chi-square statistic = 1.00\n",
      "P-value = 0.3173\n",
      "The null hypothesis is not rejected. The coin is not biased towards tails.\n"
     ]
    }
   ],
   "source": [
    "import numpy as np\n",
    "from scipy.stats import chisquare\n",
    "fair_freq = np.array([0.5, 0.5])\n",
    "obs_freq = np.array([55, 45])\n",
    "statistic, p_value = chisquare(obs_freq, f_exp=fair_freq * sum(obs_freq))\n",
    "alpha = 0.05\n",
    "print(f\"Chi-square statistic = {statistic:.2f}\")\n",
    "print(f\"P-value = {p_value:.4f}\")\n",
    "if p_value < alpha:\n",
    "    print(\"The null hypothesis is rejected. The coin is biased towards tails.\")\n",
    "else:\n",
    "    print(\"The null hypothesis is not rejected. The coin is not biased towards tails.\")\n"
   ]
  },
  {
   "cell_type": "markdown",
   "id": "584d1957",
   "metadata": {},
   "source": [
    "Q9. A study was conducted to determine if there is an association between smoking status (smoker or\n",
    "non-smoker) and lung cancer diagnosis (yes or no). The results are shown in the contingency table below.\n",
    "Conduct a chi-square test for independence to determine if there is a significant association between\n",
    "smoking status and lung cancer diagnosis."
   ]
  },
  {
   "cell_type": "code",
   "execution_count": 33,
   "id": "163cbdc4",
   "metadata": {},
   "outputs": [],
   "source": [
    "from  scipy.stats import chi2_contingency "
   ]
  },
  {
   "cell_type": "code",
   "execution_count": 34,
   "id": "96e08bea",
   "metadata": {},
   "outputs": [],
   "source": [
    "observed_values = np.array([[60, 140],\n",
    "                            [30, 170]])"
   ]
  },
  {
   "cell_type": "code",
   "execution_count": 35,
   "id": "e4c772ce",
   "metadata": {},
   "outputs": [],
   "source": [
    "chi2_stat, p_val, dof, expected_values = chi2_contingency(observed_values)\n"
   ]
  },
  {
   "cell_type": "code",
   "execution_count": 36,
   "id": "6d4aab2f",
   "metadata": {},
   "outputs": [
    {
     "name": "stdout",
     "output_type": "stream",
     "text": [
      "Chi-square statistic: 12.0573\n",
      "P-value: 0.0005\n"
     ]
    }
   ],
   "source": [
    "print(f\"Chi-square statistic: {chi2_stat:.4f}\")\n",
    "print(f\"P-value: {p_val:.4f}\")"
   ]
  },
  {
   "cell_type": "markdown",
   "id": "2f1ce0fc",
   "metadata": {},
   "source": [
    "Q10. A study was conducted to determine if the proportion of people who prefer milk chocolate, dark\n",
    "chocolate, or white chocolate is different in the U.S. versus the U.K. A random sample of 500 people from\n",
    "the U.S. and a random sample of 500 people from the U.K. were surveyed. The results are shown in the\n",
    "contingency table below. Conduct a chi-square test for independence to determine if there is a significant\n",
    "association between chocolate preference and country of origin."
   ]
  },
  {
   "cell_type": "code",
   "execution_count": 37,
   "id": "84bb41ad",
   "metadata": {},
   "outputs": [],
   "source": [
    "observed_values = np.array([[200, 150,150],\n",
    "                            [225,175,100]])"
   ]
  },
  {
   "cell_type": "code",
   "execution_count": 38,
   "id": "e9db9498",
   "metadata": {},
   "outputs": [],
   "source": [
    "chi2_stat, p_val, dof, expected_values = chi2_contingency(observed_values)\n"
   ]
  },
  {
   "cell_type": "code",
   "execution_count": 39,
   "id": "db285723",
   "metadata": {},
   "outputs": [
    {
     "name": "stdout",
     "output_type": "stream",
     "text": [
      "Chi-square statistic: 13.3937\n",
      "P-value: 0.0012\n"
     ]
    }
   ],
   "source": [
    "print(f\"Chi-square statistic: {chi2_stat:.4f}\")\n",
    "print(f\"P-value: {p_val:.4f}\")"
   ]
  },
  {
   "cell_type": "markdown",
   "id": "be318260",
   "metadata": {},
   "source": [
    "Q11. A random sample of 30 people was selected from a population with an unknown mean and standard\n",
    "deviation. The sample mean was found to be 72 and the sample standard deviation was found to be 10.\n",
    "Conduct a hypothesis test to determine if the population mean is significantly different from 70. Use a\n",
    "significance level of 0.05."
   ]
  },
  {
   "cell_type": "code",
   "execution_count": 40,
   "id": "2aa712ad",
   "metadata": {},
   "outputs": [
    {
     "name": "stdout",
     "output_type": "stream",
     "text": [
      "The 5.0% confidence interval is (71.88, 72.12)\n"
     ]
    }
   ],
   "source": [
    "import numpy as np\n",
    "import scipy.stats as stats\n",
    "sample_mean = 72\n",
    "sample_std = 10\n",
    "n = 30\n",
    "sem = sample_std / np.sqrt(n)\n",
    "conf_level = 0.05\n",
    "t_crit = stats.t.ppf((1 + conf_level) / 2, n - 1)\n",
    "lower_ci = sample_mean - t_crit * sem\n",
    "upper_ci = sample_mean + t_crit * sem\n",
    "print(f\"The {conf_level*100}% confidence interval is ({lower_ci:.2f}, {upper_ci:.2f})\")\n"
   ]
  },
  {
   "cell_type": "code",
   "execution_count": null,
   "id": "37e48182",
   "metadata": {},
   "outputs": [],
   "source": []
  }
 ],
 "metadata": {
  "kernelspec": {
   "display_name": "Python 3 (ipykernel)",
   "language": "python",
   "name": "python3"
  },
  "language_info": {
   "codemirror_mode": {
    "name": "ipython",
    "version": 3
   },
   "file_extension": ".py",
   "mimetype": "text/x-python",
   "name": "python",
   "nbconvert_exporter": "python",
   "pygments_lexer": "ipython3",
   "version": "3.9.12"
  }
 },
 "nbformat": 4,
 "nbformat_minor": 5
}

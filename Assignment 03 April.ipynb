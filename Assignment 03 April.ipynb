{
 "cells": [
  {
   "cell_type": "code",
   "execution_count": 1,
   "id": "42081e48",
   "metadata": {},
   "outputs": [],
   "source": [
    "#Ans1: Precision is define the how much the data is correct classified means that how much that actually TP aming the TP+TN whereas the recall is define that how much the data is actually TP among the TP and the FN."
   ]
  },
  {
   "cell_type": "code",
   "execution_count": 2,
   "id": "b4e264b0",
   "metadata": {},
   "outputs": [],
   "source": [
    "#Ans2:F1 is derived from the Fbeta when beta is 1 the F1 is come and the fromula is harmonic mean of precision and recall .\n",
    "# Precision is define the how much the data is correct classified means that how much that actually TP aming the TP+TN whereas the recall is define that how much the data is actually TP among the TP and the FN"
   ]
  },
  {
   "cell_type": "code",
   "execution_count": 3,
   "id": "752545cc",
   "metadata": {},
   "outputs": [],
   "source": [
    "#Ans3:ROC is Receiver Operating Characteristic and the AUC is Area under ROC curve .\n",
    "#AUC is find the area of actual predictions.\n",
    "#ROC represents a probability graph to show the performance of a classification model at different threshold levels."
   ]
  },
  {
   "cell_type": "code",
   "execution_count": 5,
   "id": "e39b43f3",
   "metadata": {},
   "outputs": [],
   "source": [
    "#Ans4:BY the use of classification report .Multy class is that there are more than two class and the binary class have the two class ."
   ]
  },
  {
   "cell_type": "code",
   "execution_count": 6,
   "id": "b68bfdcf",
   "metadata": {},
   "outputs": [],
   "source": [
    "#Ans5:if there are multiple class than one class is separte and other are group so we classify the class"
   ]
  },
  {
   "cell_type": "code",
   "execution_count": 7,
   "id": "b0bdaac6",
   "metadata": {},
   "outputs": [],
   "source": [
    "#Ans6:firstly collect the dataset and then apply EDA and feature Engineering and then Model train by use of Logistic Regeesion pakage and then deploy on the aws,azure"
   ]
  },
  {
   "cell_type": "code",
   "execution_count": 8,
   "id": "5b401404",
   "metadata": {},
   "outputs": [],
   "source": [
    "#Ans7:It finally on the server that it get the input on provide the output it by the deploy "
   ]
  },
  {
   "cell_type": "code",
   "execution_count": 9,
   "id": "c5a882f4",
   "metadata": {},
   "outputs": [],
   "source": [
    "#Ans8:Multicloud deployments interconnect services from separate cloud environments for different purposes without having to connect the clouds."
   ]
  },
  {
   "cell_type": "code",
   "execution_count": null,
   "id": "8e963d96",
   "metadata": {},
   "outputs": [],
   "source": [
    "#Ans9:Benefits:\n",
    "#1.Reliability.\n",
    "#2.Scalability\n",
    "#3.Cost-effectiveness.\n",
    "#Challanges:\n",
    "#"
   ]
  }
 ],
 "metadata": {
  "kernelspec": {
   "display_name": "Python 3 (ipykernel)",
   "language": "python",
   "name": "python3"
  },
  "language_info": {
   "codemirror_mode": {
    "name": "ipython",
    "version": 3
   },
   "file_extension": ".py",
   "mimetype": "text/x-python",
   "name": "python",
   "nbconvert_exporter": "python",
   "pygments_lexer": "ipython3",
   "version": "3.9.12"
  }
 },
 "nbformat": 4,
 "nbformat_minor": 5
}

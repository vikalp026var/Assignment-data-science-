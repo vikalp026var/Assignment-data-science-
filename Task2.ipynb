{
 "cells": [
  {
   "cell_type": "code",
   "execution_count": 1,
   "id": "a682a1f0",
   "metadata": {},
   "outputs": [],
   "source": [
    "#Ans1:\n",
    "class vehicle:\n",
    "    def __init__(self, name_of_vehicle, max_speed,average_of_vehicle):\n",
    "        self.name_of_vehicle=name_of_vehicle\n",
    "        self.max_speed=max_speed\n",
    "        self.average_of_vehicle=average_of_vehicle\n",
    "        "
   ]
  },
  {
   "cell_type": "code",
   "execution_count": 4,
   "id": "6d2b1e4b",
   "metadata": {},
   "outputs": [],
   "source": [
    "#Ans2:\n",
    "class car(vehicle):\n",
    "    def seating_capacity(self,capacity):\n",
    "        return name_of_vehicle,capacity\n",
    "    "
   ]
  },
  {
   "cell_type": "code",
   "execution_count": 6,
   "id": "b37335e7",
   "metadata": {},
   "outputs": [],
   "source": [
    "#ANs3:\n",
    "#Multiple Inheritance is the Inheritance in which one class is derived from the two class."
   ]
  },
  {
   "cell_type": "code",
   "execution_count": 9,
   "id": "a982814f",
   "metadata": {},
   "outputs": [
    {
     "data": {
      "text/plain": [
       "'this is a class1'"
      ]
     },
     "execution_count": 9,
     "metadata": {},
     "output_type": "execute_result"
    }
   ],
   "source": [
    "#Example :\n",
    "class A:\n",
    "    def test1(self):\n",
    "        return \"this is a class1\"\n",
    "\n",
    "class B:\n",
    "    def test2(self):\n",
    "        return \"this is a class2\"\n",
    "class C(A,B):\n",
    "    pass\n",
    "c=C()\n",
    "c.test1()\n"
   ]
  },
  {
   "cell_type": "code",
   "execution_count": 10,
   "id": "f543abf7",
   "metadata": {},
   "outputs": [],
   "source": [
    "#Ans4:\n",
    "#Getter: A method that allows you to access an attribute in a given class.\n",
    "#Setter: A method that allows you to set or mutate the value of an attribute in a class."
   ]
  },
  {
   "cell_type": "code",
   "execution_count": 11,
   "id": "c97e5b0b",
   "metadata": {},
   "outputs": [],
   "source": [
    "#Example:\n",
    "class A:   \n",
    "    def __init__(self, age = 0):   \n",
    "         self._age = age   \n",
    "      # using the getter method   \n",
    "    def get_age(self):   \n",
    "        return self._age   \n",
    "      # using the setter method   \n",
    "    def set_age(self, a):   \n",
    "        self._age = a   \n",
    "    \n",
    "John = A() \n"
   ]
  },
  {
   "cell_type": "code",
   "execution_count": 12,
   "id": "ccccf264",
   "metadata": {},
   "outputs": [],
   "source": [
    "John.set_age(19)   "
   ]
  },
  {
   "cell_type": "code",
   "execution_count": 13,
   "id": "0c29c38b",
   "metadata": {},
   "outputs": [
    {
     "name": "stdout",
     "output_type": "stream",
     "text": [
      "19\n"
     ]
    }
   ],
   "source": [
    "print(John.get_age())  "
   ]
  },
  {
   "cell_type": "code",
   "execution_count": 14,
   "id": "c570bee0",
   "metadata": {},
   "outputs": [],
   "source": [
    "#Ans5:\n",
    "#Method overriding is an ability of any object-oriented programming language that allows a subclass or child class to provide a specific implementation of a method that is already provided by one of its super-classes or parent classes."
   ]
  },
  {
   "cell_type": "code",
   "execution_count": 15,
   "id": "9f52d405",
   "metadata": {},
   "outputs": [],
   "source": [
    "#Example:\n",
    "class A:\n",
    "    def vikalp(self):\n",
    "        return \"Hello its pw calls\""
   ]
  },
  {
   "cell_type": "code",
   "execution_count": null,
   "id": "e3855295",
   "metadata": {},
   "outputs": [],
   "source": [
    "class B(A):\n",
    "    def vikalp(self):\n",
    "        return \"\""
   ]
  }
 ],
 "metadata": {
  "kernelspec": {
   "display_name": "Python 3 (ipykernel)",
   "language": "python",
   "name": "python3"
  },
  "language_info": {
   "codemirror_mode": {
    "name": "ipython",
    "version": 3
   },
   "file_extension": ".py",
   "mimetype": "text/x-python",
   "name": "python",
   "nbconvert_exporter": "python",
   "pygments_lexer": "ipython3",
   "version": "3.9.12"
  }
 },
 "nbformat": 4,
 "nbformat_minor": 5
}

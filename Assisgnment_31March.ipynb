{
 "cells": [
  {
   "cell_type": "code",
   "execution_count": 2,
   "id": "07e35151",
   "metadata": {},
   "outputs": [],
   "source": [
    "#Ans1:\n",
    "#Step1:First collect the dataset \n",
    "#Step2:Do Expolarotary Data analysis\n",
    "#Step3:Do feature Engineering \n",
    "#Step4:Do feature Selection \n",
    "#Step5:Model Train \n",
    "#Step6:Model Deploy by making the user interface on aws,azure"
   ]
  },
  {
   "cell_type": "code",
   "execution_count": 3,
   "id": "465024cf",
   "metadata": {},
   "outputs": [],
   "source": [
    "#Ans2:Traditional web hosting is a type of hosting where a website is hosted on a single physical server or a shared server. \n",
    "#cloud hosting is a type of hosting where a website is hosted on a network of servers that work together to provide computing resources.\n"
   ]
  },
  {
   "cell_type": "code",
   "execution_count": 4,
   "id": "0eda5514",
   "metadata": {},
   "outputs": [],
   "source": [
    "#Ans3:By checking its Prices,scalibity ,Easy to use ,Security"
   ]
  },
  {
   "cell_type": "code",
   "execution_count": 5,
   "id": "5b303452",
   "metadata": {},
   "outputs": [],
   "source": [
    "#Ans4:By HTML and CSS .We need to practice on frontend part"
   ]
  },
  {
   "cell_type": "code",
   "execution_count": null,
   "id": "c1f46463",
   "metadata": {},
   "outputs": [],
   "source": [
    "#ANs5:BY making the pickle file of ridge regression and attact bbby "
   ]
  }
 ],
 "metadata": {
  "kernelspec": {
   "display_name": "Python 3 (ipykernel)",
   "language": "python",
   "name": "python3"
  },
  "language_info": {
   "codemirror_mode": {
    "name": "ipython",
    "version": 3
   },
   "file_extension": ".py",
   "mimetype": "text/x-python",
   "name": "python",
   "nbconvert_exporter": "python",
   "pygments_lexer": "ipython3",
   "version": "3.9.12"
  }
 },
 "nbformat": 4,
 "nbformat_minor": 5
}

{
 "cells": [
  {
   "cell_type": "code",
   "execution_count": 1,
   "id": "735b4dd3",
   "metadata": {},
   "outputs": [],
   "source": [
    "#Ans1:Simple Linear Regression is relationship between the dependent and independent variables \n",
    "# Multiple linear Regression is relationship between the dependent and multiple independent variables .\n",
    "# Example is prediction of rainfall based on temperature and the example of multiple linear regression is prediction of house based on multiple factors such as size of rooms and the size of bathrooms etc."
   ]
  },
  {
   "cell_type": "code",
   "execution_count": 2,
   "id": "dc142c02",
   "metadata": {},
   "outputs": [],
   "source": [
    "#Assumptions of linear regression is model is free from outliers.if the distance between the outlier and the best fit line is more than the other data set ."
   ]
  },
  {
   "cell_type": "code",
   "execution_count": 3,
   "id": "f929c311",
   "metadata": {},
   "outputs": [],
   "source": [
    "#Ans3: Interpret the slope is y-axis divided by x-axis and the intercept is when x is axis the distance on y-axis .\n",
    "#Example is y=mx+c.\n",
    "#slope =y/x\n",
    "#intercept =c"
   ]
  },
  {
   "cell_type": "code",
   "execution_count": 4,
   "id": "df9e71f5",
   "metadata": {},
   "outputs": [],
   "source": [
    "#Ans4:Gradient Descent is  an optimization algorithm which is commonly-used to train machine learning models and neural networks.\n",
    "#We find the slope for different inputs and check which one is lower slope ."
   ]
  },
  {
   "cell_type": "code",
   "execution_count": 5,
   "id": "cf5a3d68",
   "metadata": {},
   "outputs": [],
   "source": [
    "#Ans5:Multiple linear Regression is relationship between the dependent and multiple independent variables .\n",
    "#It is differs as the input variable is multiple in multiple linaer regression and the input is onle one in simple linear regression."
   ]
  },
  {
   "cell_type": "code",
   "execution_count": 6,
   "id": "3adcfc85",
   "metadata": {},
   "outputs": [],
   "source": [
    "#Ans6:It means that the two independent variables contains the same features .If the slope is same than this is best dectection of collinearity"
   ]
  },
  {
   "cell_type": "code",
   "execution_count": 7,
   "id": "1da398f5",
   "metadata": {},
   "outputs": [],
   "source": [
    "#Ans7:If the input variables has degree in polynomial form than this is relationship between the input variables and the dependent variables.\n",
    "#It is linear relationship between the dependent variables and the indepedent variables whereas the in polynomial the relation between the dependent and the independent variables is polynomial . "
   ]
  },
  {
   "cell_type": "code",
   "execution_count": null,
   "id": "78d58e58",
   "metadata": {},
   "outputs": [],
   "source": [
    "#Ans8:Advantage is Polynomial provides the best approximation of the relationship between the dependent and independent variable. "
   ]
  }
 ],
 "metadata": {
  "kernelspec": {
   "display_name": "Python 3 (ipykernel)",
   "language": "python",
   "name": "python3"
  },
  "language_info": {
   "codemirror_mode": {
    "name": "ipython",
    "version": 3
   },
   "file_extension": ".py",
   "mimetype": "text/x-python",
   "name": "python",
   "nbconvert_exporter": "python",
   "pygments_lexer": "ipython3",
   "version": "3.9.12"
  }
 },
 "nbformat": 4,
 "nbformat_minor": 5
}

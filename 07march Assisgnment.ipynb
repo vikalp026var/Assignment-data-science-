{
 "cells": [
  {
   "cell_type": "code",
   "execution_count": 1,
   "id": "ffb3cd27",
   "metadata": {},
   "outputs": [],
   "source": [
    "#Ans1:Three measures of central tendency are  mean ,median and mode"
   ]
  },
  {
   "cell_type": "code",
   "execution_count": 2,
   "id": "3598789a",
   "metadata": {},
   "outputs": [],
   "source": [
    "#Ans2:Mean is total sum of digits divide the number of terms which say about the average no of digits ,median is used to find the central tendency when outliers is present,mode is find as maximum no of fquency of digits ."
   ]
  },
  {
   "cell_type": "code",
   "execution_count": 3,
   "id": "5e923765",
   "metadata": {},
   "outputs": [],
   "source": [
    "#Ans3:mean is 177.01875,median is 177.0,mode is 177."
   ]
  },
  {
   "cell_type": "code",
   "execution_count": 14,
   "id": "53ec8470",
   "metadata": {},
   "outputs": [],
   "source": [
    "#Ans4: standard deviation is 1.7885814036548633\n"
   ]
  },
  {
   "cell_type": "code",
   "execution_count": 17,
   "id": "01e90130",
   "metadata": {},
   "outputs": [],
   "source": [
    "#Ans5:Lets take a bell curve in which we can find the variance and standard deviation such that if the variance is high than the height is low and the variance is low than the height is high .and the range is find by the bellcurve distrubtion."
   ]
  },
  {
   "cell_type": "code",
   "execution_count": 18,
   "id": "53d571b7",
   "metadata": {},
   "outputs": [],
   "source": [
    "#Ans6:Venn diagram is very interesting method that we can perform all the operation of sets ."
   ]
  },
  {
   "cell_type": "code",
   "execution_count": 19,
   "id": "cf749018",
   "metadata": {},
   "outputs": [],
   "source": [
    "#Ans7:(i)(2,6)\n",
    "#(ii):(0,2,3,4,5,6,7,8,10)"
   ]
  },
  {
   "cell_type": "code",
   "execution_count": 20,
   "id": "65149bc6",
   "metadata": {},
   "outputs": [],
   "source": [
    "#Ans8:Skewness can be say that when the data is collected at point rather than the other point ."
   ]
  },
  {
   "cell_type": "code",
   "execution_count": 21,
   "id": "88fcb47b",
   "metadata": {},
   "outputs": [],
   "source": [
    "#Ans9:median is right to mean ."
   ]
  },
  {
   "cell_type": "code",
   "execution_count": 22,
   "id": "7c33b43b",
   "metadata": {},
   "outputs": [],
   "source": [
    "#Ans10:Covariance can be defined as the how much variable are vary and correlation can be defined as the the relation between the variables .It is used in feature Engineering."
   ]
  },
  {
   "cell_type": "code",
   "execution_count": 23,
   "id": "d599e2e9",
   "metadata": {},
   "outputs": [],
   "source": [
    "#Ans11:Sample mean=sum (i=0 to n )xi/n"
   ]
  },
  {
   "cell_type": "code",
   "execution_count": 24,
   "id": "49d58d9d",
   "metadata": {},
   "outputs": [],
   "source": [
    "#Ans12:mean =median=mode"
   ]
  },
  {
   "cell_type": "code",
   "execution_count": 25,
   "id": "db38fe5f",
   "metadata": {},
   "outputs": [],
   "source": [
    "#Ans13:correlation=cov(x,y)/std(x)std(y)"
   ]
  },
  {
   "cell_type": "code",
   "execution_count": 26,
   "id": "549241c8",
   "metadata": {},
   "outputs": [],
   "source": [
    "#Ans14:median is used to find the central tendency when the outliers is present."
   ]
  },
  {
   "cell_type": "code",
   "execution_count": null,
   "id": "e0bed4f1",
   "metadata": {},
   "outputs": [],
   "source": []
  }
 ],
 "metadata": {
  "kernelspec": {
   "display_name": "Python 3 (ipykernel)",
   "language": "python",
   "name": "python3"
  },
  "language_info": {
   "codemirror_mode": {
    "name": "ipython",
    "version": 3
   },
   "file_extension": ".py",
   "mimetype": "text/x-python",
   "name": "python",
   "nbconvert_exporter": "python",
   "pygments_lexer": "ipython3",
   "version": "3.9.12"
  }
 },
 "nbformat": 4,
 "nbformat_minor": 5
}

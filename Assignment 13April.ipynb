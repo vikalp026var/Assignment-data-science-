{
 "cells": [
  {
   "cell_type": "code",
   "execution_count": 1,
   "id": "d4509198",
   "metadata": {},
   "outputs": [],
   "source": [
    "#Ans1: Random Forest Regressor is a technique in which the different decision tree models are train by giving the training samples and after this it test by test set and taking their average of the accruacy."
   ]
  },
  {
   "cell_type": "code",
   "execution_count": 2,
   "id": "843f96d9",
   "metadata": {},
   "outputs": [],
   "source": [
    "#Ans2:It reduces the overfitting by giving the best accuracy among the different decision tree models."
   ]
  },
  {
   "cell_type": "code",
   "execution_count": 3,
   "id": "2a1a271e",
   "metadata": {},
   "outputs": [],
   "source": [
    "#Ans3:By taking the average of the accuracy of multiple decision tree "
   ]
  },
  {
   "cell_type": "code",
   "execution_count": 4,
   "id": "ac8b1763",
   "metadata": {},
   "outputs": [],
   "source": [
    "#Ans4:In the case of a random forest, hyperparameters include the number of decision trees in the forest and the number of features considered by each tree when splitting a node. "
   ]
  },
  {
   "cell_type": "code",
   "execution_count": 5,
   "id": "263bc3ee",
   "metadata": {},
   "outputs": [],
   "source": [
    "#Ans5:Difference is Random forest is combination of multiple dicision tree .whereas the Decision tree is the hyperparameter ."
   ]
  },
  {
   "cell_type": "code",
   "execution_count": 6,
   "id": "8d0ae9f5",
   "metadata": {},
   "outputs": [],
   "source": [
    "#Ans6:ADvantage is it reduce the overfitting and It can perform both regression and classification tasks.\n",
    "#and disadvantage is The main limitation of random forest is that a large number of trees can make the algorithm too slow and ineffective for real-time predictions."
   ]
  },
  {
   "cell_type": "code",
   "execution_count": 7,
   "id": "af684703",
   "metadata": {},
   "outputs": [],
   "source": [
    "#Ans7:Average of all prediciton which are produces by multiple decision tree ."
   ]
  },
  {
   "cell_type": "code",
   "execution_count": 8,
   "id": "176f67c1",
   "metadata": {},
   "outputs": [],
   "source": [
    "#ANs8:Yes ."
   ]
  },
  {
   "cell_type": "code",
   "execution_count": null,
   "id": "0baad99f",
   "metadata": {},
   "outputs": [],
   "source": []
  }
 ],
 "metadata": {
  "kernelspec": {
   "display_name": "Python 3 (ipykernel)",
   "language": "python",
   "name": "python3"
  },
  "language_info": {
   "codemirror_mode": {
    "name": "ipython",
    "version": 3
   },
   "file_extension": ".py",
   "mimetype": "text/x-python",
   "name": "python",
   "nbconvert_exporter": "python",
   "pygments_lexer": "ipython3",
   "version": "3.9.12"
  }
 },
 "nbformat": 4,
 "nbformat_minor": 5
}

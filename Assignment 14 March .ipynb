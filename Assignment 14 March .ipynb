{
 "cells": [
  {
   "cell_type": "code",
   "execution_count": 4,
   "id": "91715424",
   "metadata": {},
   "outputs": [],
   "source": [
    "#Ans1\n",
    "import numpy as np\n",
    "from scipy.stats import  f\n",
    "def variance_ratio_test(data1, data2):\n",
    "    var1 = np.var(data1, ddof=1)\n",
    "    var2 = np.var(data2, ddof=1)\n",
    "    if var2 > var1:\n",
    "        data1, data2 = data2, data1\n",
    "        var1, var2 = var2, var1\n",
    "    f_value = var1 / var2\n",
    "    df1 = len(data1) - 1\n",
    "    df2 = len(data2) - 1\n",
    "    p_value = f.sf(f_value, df1, df2)\n",
    "    \n",
    "    return f_value, p_value"
   ]
  },
  {
   "cell_type": "code",
   "execution_count": 5,
   "id": "a44ff749",
   "metadata": {},
   "outputs": [],
   "source": [
    "#Ans2:\n",
    "from scipy.stats import f\n",
    "def critical_f_value(alpha, dfn, dfd):\n",
    "    f_crit = f.ppf(1 - alpha/2, dfn, dfd)\n",
    "    return f_crit"
   ]
  },
  {
   "cell_type": "code",
   "execution_count": 6,
   "id": "5e967347",
   "metadata": {},
   "outputs": [
    {
     "name": "stdout",
     "output_type": "stream",
     "text": [
      "F-value: 0.9188969840319089\n",
      "Degrees of freedom (numerator, denominator): 19 29\n",
      "p-value: 0.5677779422294373\n"
     ]
    }
   ],
   "source": [
    "#Ans3:\n",
    "import numpy as np\n",
    "from scipy.stats import f\n",
    "mean1, var1 = 0, 1\n",
    "mean2, var2 = 0, 2\n",
    "n1, n2 = 20, 30\n",
    "data1 = np.random.normal(mean1, np.sqrt(var1), n1)\n",
    "data2 = np.random.normal(mean2, np.sqrt(var2), n2)\n",
    "f_value, p_value = np.var(data1, ddof=1) / np.var(data2, ddof=1), f.sf(np.var(data1, ddof=1) / np.var(data2, ddof=1), n1-1, n2-1)\n",
    "dfn, dfd = n1-1, n2-1\n",
    "print(\"F-value:\", f_value)\n",
    "print(\"Degrees of freedom (numerator, denominator):\", dfn, dfd)\n",
    "print(\"p-value:\", p_value)\n"
   ]
  },
  {
   "cell_type": "code",
   "execution_count": 7,
   "id": "545adcab",
   "metadata": {},
   "outputs": [
    {
     "name": "stdout",
     "output_type": "stream",
     "text": [
      "Fail to reject null hypothesis. There is insufficient evidence to conclude that the variances are different.\n"
     ]
    }
   ],
   "source": [
    "#Ans4:\n",
    "import numpy as np\n",
    "from scipy.stats import f\n",
    "alpha = 0.05\n",
    "s1_sq = 10\n",
    "s2_sq = 15\n",
    "n1 = n2 = 12\n",
    "f_value = s1_sq / s2_sq\n",
    "dfn = n1 - 1\n",
    "dfd = n2 - 1\n",
    "p_value = 2 * min(f.cdf(f_value, dfn, dfd), 1 - f.cdf(f_value, dfn, dfd))\n",
    "if p_value < alpha:\n",
    "    print(\"Reject null hypothesis. The variances of the two populations are significantly different.\")\n",
    "else:\n",
    "    print(\"Fail to reject null hypothesis. There is insufficient evidence to conclude that the variances are different.\")\n"
   ]
  },
  {
   "cell_type": "code",
   "execution_count": 8,
   "id": "b287dbc4",
   "metadata": {},
   "outputs": [
    {
     "name": "stdout",
     "output_type": "stream",
     "text": [
      "Reject null hypothesis. The claimed population variance is not justified.\n"
     ]
    }
   ],
   "source": [
    "#Ans5:\n",
    "import numpy as np\n",
    "from scipy.stats import f\n",
    "alpha = 0.01\n",
    "s_sq = 0.006\n",
    "sigma_sq = 0.005\n",
    "n = 25\n",
    "f_value = s_sq / sigma_sq\n",
    "dfn = n - 1\n",
    "dfd = np.inf\n",
    "p_value = 2 * min(f.cdf(f_value, dfn, dfd), 1 - f.cdf(f_value, dfn, dfd))\n",
    "if p_value < alpha:\n",
    "    print(\"Reject null hypothesis. The claimed population variance is not justified.\")\n",
    "else:\n",
    "    print(\"Fail to reject null hypothesis. There is insufficient evidence to conclude that the claimed population variance is not justified.\")\n"
   ]
  },
  {
   "cell_type": "code",
   "execution_count": 10,
   "id": "09956757",
   "metadata": {},
   "outputs": [
    {
     "data": {
      "text/plain": [
       "(1.25, 1.3541666666666667)"
      ]
     },
     "execution_count": 10,
     "metadata": {},
     "output_type": "execute_result"
    }
   ],
   "source": [
    "#Ans6:\n",
    "def f_distribution_mean_var(dfn, dfd):\n",
    "    mean = dfd / (dfd - 2)\n",
    "    variance = (2 * dfd**2 * (dfn + dfd - 2)) / (dfn * (dfd - 2)**2 * (dfd - 4))\n",
    "    return mean, variance\n",
    "f_distribution_mean_var(5,10)"
   ]
  },
  {
   "cell_type": "code",
   "execution_count": 11,
   "id": "a1792b94",
   "metadata": {},
   "outputs": [
    {
     "name": "stdout",
     "output_type": "stream",
     "text": [
      "The variances are not significantly different (fail to reject the null hypothesis)\n"
     ]
    }
   ],
   "source": [
    "#Ans7:\n",
    "import scipy.stats as stats\n",
    "n1 = 10\n",
    "n2 = 15\n",
    "s1_sq = 25\n",
    "s2_sq = 20\n",
    "if s1_sq > s2_sq:\n",
    "    F = s1_sq / s2_sq\n",
    "    dfn = n1 - 1\n",
    "    dfd = n2 - 1\n",
    "else:\n",
    "    F = s2_sq / s1_sq\n",
    "    dfn = n2 - 1\n",
    "    dfd = n1 - 1\n",
    "p_value = 2 * min(stats.f.cdf(F, dfn, dfd), 1 - stats.f.cdf(F, dfn, dfd))\n",
    "significance_level = 0.1\n",
    "if p_value < significance_level:\n",
    "    print(\"The variances are significantly different (reject the null hypothesis)\")\n",
    "else:\n",
    "    print(\"The variances are not significantly different (fail to reject the null hypothesis)\")\n",
    "\n"
   ]
  },
  {
   "cell_type": "code",
   "execution_count": 12,
   "id": "eaa14deb",
   "metadata": {},
   "outputs": [
    {
     "name": "stdout",
     "output_type": "stream",
     "text": [
      "The variances are not significantly different (fail to reject the null hypothesis)\n"
     ]
    }
   ],
   "source": [
    "#Ans8:\n",
    "import numpy as np\n",
    "import scipy.stats as stats\n",
    "restaurant_a = np.array([24, 25, 28, 23, 22, 20, 27])\n",
    "restaurant_b = np.array([31, 33, 35, 30, 32, 36])\n",
    "n1 = len(restaurant_a)\n",
    "n2 = len(restaurant_b)\n",
    "s1_sq = np.var(restaurant_a, ddof=1)\n",
    "s2_sq = np.var(restaurant_b, ddof=1)\n",
    "if s1_sq > s2_sq:\n",
    "    F = s1_sq / s2_sq\n",
    "    dfn = n1 - 1\n",
    "    dfd = n2 - 1\n",
    "else:\n",
    "    F = s2_sq / s1_sq\n",
    "    dfn = n2 - 1\n",
    "    dfd = n1 - 1\n",
    "p_value = 2 * min(stats.f.cdf(F, dfn, dfd), 1 - stats.f.cdf(F, dfn, dfd))\n",
    "significance_level = 0.05\n",
    "if p_value < significance_level:\n",
    "    print(\"The variances are significantly different (reject the null hypothesis)\")\n",
    "else:\n",
    "    print(\"The variances are not significantly different (fail to reject the null hypothesis)\")\n",
    "\n"
   ]
  },
  {
   "cell_type": "code",
   "execution_count": null,
   "id": "41a07e69",
   "metadata": {},
   "outputs": [],
   "source": [
    "#Ans9:\n",
    "import numpy as np\n",
    "import scipy.stats as stats\n",
    "restaurant_a = np.array([80,85,90,92,87,83])\n",
    "restaurant_b = np.array([75,78,82,79,81,84])\n",
    "\n",
    "# Sample sizes and variances\n",
    "n1 = len(restaurant_a)\n",
    "n2 = len(restaurant_b)\n",
    "s1_sq = np.var(restaurant_a, ddof=1)\n",
    "s2_sq = np.var(restaurant_b, ddof=1)\n",
    "\n",
    "# Calculate the test statistic F\n",
    "if s1_sq > s2_sq:\n",
    "    F = s1_sq / s2_sq\n",
    "    dfn = n1 - 1\n",
    "    dfd = n2 - 1\n",
    "else:\n",
    "    F = s2_sq / s1_sq\n",
    "    dfn = n2 - 1\n",
    "    dfd = n1 - 1\n",
    "p_value = 2 * min(stats.f.cdf(F, dfn, dfd), 1 - stats.f.cdf(F, dfn, dfd))\n",
    "\n",
    "# Compare the p-value to the significance level\n",
    "significance_level = 0.05\n",
    "if p_value < significance_level:\n",
    "    print(\"The variances are significantly different (reject the null hypothesis)\")\n",
    "else:\n",
    "    print(\"The variances are not significantly different (fail to reject the null hypothesis)\")\n",
    "\n",
    "# Output:\n",
    "# The variances are significantly different (reject the null hypothesis)\n"
   ]
  }
 ],
 "metadata": {
  "kernelspec": {
   "display_name": "Python 3 (ipykernel)",
   "language": "python",
   "name": "python3"
  },
  "language_info": {
   "codemirror_mode": {
    "name": "ipython",
    "version": 3
   },
   "file_extension": ".py",
   "mimetype": "text/x-python",
   "name": "python",
   "nbconvert_exporter": "python",
   "pygments_lexer": "ipython3",
   "version": "3.9.12"
  }
 },
 "nbformat": 4,
 "nbformat_minor": 5
}

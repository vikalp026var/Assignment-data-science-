{
 "cells": [
  {
   "cell_type": "code",
   "execution_count": 1,
   "id": "1b14cc4d",
   "metadata": {},
   "outputs": [],
   "source": [
    "#Ans1:The curse dimensionality reduction is the reduce irrelevent features means that if we have the number of features in which the some features have the same information so we have to  reduce the features that increase the accuracy ."
   ]
  },
  {
   "cell_type": "code",
   "execution_count": 3,
   "id": "a9d7ebfa",
   "metadata": {},
   "outputs": [],
   "source": [
    "#Ans2:If the model have more number of irrelevant features then it decrease the accuracy so we have to reduce the dimension for increasing the accuracy ."
   ]
  },
  {
   "cell_type": "code",
   "execution_count": 4,
   "id": "3e75e665",
   "metadata": {},
   "outputs": [],
   "source": [
    "#Ans3:If the model have more number of irrelevant features then it decrease the accuracy so we have to reduce the dimension for increasing the accuracy ."
   ]
  },
  {
   "cell_type": "code",
   "execution_count": 5,
   "id": "9d4a21bf",
   "metadata": {},
   "outputs": [],
   "source": [
    "#Ans4:If we have more number of features and it also contain irrelevant features so we have need to select the features which is called feature selection ."
   ]
  },
  {
   "cell_type": "code",
   "execution_count": 6,
   "id": "5d15d300",
   "metadata": {},
   "outputs": [],
   "source": [
    "#Ans5:    We lost some data during the dimensionality reduction process, which can impact how well future training algorithms work.\n",
    "#It may need a lot of processing power.\n",
    "#Interpreting transformed characteristics might be challenging."
   ]
  },
  {
   "cell_type": "code",
   "execution_count": 7,
   "id": "82d3bcb8",
   "metadata": {},
   "outputs": [],
   "source": [
    "#Ans6:if the model have more features but it accuracy is low so we have to select the features and this is overfitting ."
   ]
  },
  {
   "cell_type": "code",
   "execution_count": null,
   "id": "02046667",
   "metadata": {},
   "outputs": [],
   "source": [
    "#Ans7:When the accuracy is high "
   ]
  }
 ],
 "metadata": {
  "kernelspec": {
   "display_name": "Python 3 (ipykernel)",
   "language": "python",
   "name": "python3"
  },
  "language_info": {
   "codemirror_mode": {
    "name": "ipython",
    "version": 3
   },
   "file_extension": ".py",
   "mimetype": "text/x-python",
   "name": "python",
   "nbconvert_exporter": "python",
   "pygments_lexer": "ipython3",
   "version": "3.9.12"
  }
 },
 "nbformat": 4,
 "nbformat_minor": 5
}

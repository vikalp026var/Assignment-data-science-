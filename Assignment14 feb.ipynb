{
 "cells": [
  {
   "cell_type": "code",
   "execution_count": 1,
   "id": "83218d1b",
   "metadata": {},
   "outputs": [],
   "source": [
    "#Ans1:Multithreading enables us to run multiple threads concurrently.It is ability of a program or an operating system to enable more than one user at a time without requiring multiple copies of the program running on the computer.\n",
    "#module is threading"
   ]
  },
  {
   "cell_type": "code",
   "execution_count": 2,
   "id": "11d05fd9",
   "metadata": {},
   "outputs": [],
   "source": [
    "#Ans2: It allows you to have different parts of your program run concurrently and can simplify your design."
   ]
  },
  {
   "cell_type": "code",
   "execution_count": 5,
   "id": "3daf5d30",
   "metadata": {},
   "outputs": [
    {
     "name": "stdout",
     "output_type": "stream",
     "text": [
      "Number of active threads: 7\n",
      "Value by Thread 1: 1\n"
     ]
    }
   ],
   "source": [
    "#ActiveCount()\n",
    "import time\n",
    "import threading\n",
    "\n",
    "def thread_1(i):\n",
    "    time.sleep(2)\n",
    "    print(\"Number of active threads:\", threading.active_count())\n",
    "    print('Value by Thread 1:', i)\n",
    "thread1 = threading.Thread(target=thread_1, args=(1,))\n",
    "# Starting the threads\n",
    "thread1.start()\n",
    "\n"
   ]
  },
  {
   "cell_type": "code",
   "execution_count": 6,
   "id": "d261f129",
   "metadata": {},
   "outputs": [
    {
     "name": "stdout",
     "output_type": "stream",
     "text": [
      "Number of active threads: <Thread(Thread-8, started 6672)>\n",
      "Value by Thread 1: 1\n"
     ]
    }
   ],
   "source": [
    "#Currentthread\n",
    "import time\n",
    "import threading\n",
    "\n",
    "def thread_1(i):\n",
    "    time.sleep(2)\n",
    "    print(\"Number of active threads:\", threading.current_thread())\n",
    "    print('Value by Thread 1:', i)\n",
    "thread1 = threading.Thread(target=thread_1, args=(1,))\n",
    "# Starting the threads\n",
    "thread1.start()\n",
    "\n"
   ]
  },
  {
   "cell_type": "code",
   "execution_count": 7,
   "id": "213ae3e3",
   "metadata": {},
   "outputs": [
    {
     "name": "stdout",
     "output_type": "stream",
     "text": [
      "Number of active threads: [<_MainThread(MainThread, started 14744)>, <Thread(IOPub, started daemon 1168)>, <Heartbeat(Heartbeat, started daemon 13220)>, <ControlThread(Control, started daemon 7068)>, <HistorySavingThread(IPythonHistorySavingThread, started 10368)>, <ParentPollerWindows(Thread-4, started daemon 15380)>, <Thread(Thread-9, started 9628)>]\n",
      "Value by Thread 1: 1\n"
     ]
    }
   ],
   "source": [
    "#Enumerate()\n",
    "import time\n",
    "import threading\n",
    "\n",
    "def thread_1(i):\n",
    "    time.sleep(2)\n",
    "    print(\"Number of active threads:\", threading.enumerate())\n",
    "    print('Value by Thread 1:', i)\n",
    "thread1 = threading.Thread(target=thread_1, args=(1,))\n",
    "# Starting the threads\n",
    "thread1.start()\n",
    "\n"
   ]
  },
  {
   "cell_type": "code",
   "execution_count": 8,
   "id": "b6d3a84b",
   "metadata": {},
   "outputs": [],
   "source": [
    "#Ans3:run()-->Method representing the thread’s activity.\n",
    "#start()-->Start the thread’s activity.\n",
    "#join()-->A thread can be joined many times.\n",
    "#isalive()-->Return whether the thread is alive."
   ]
  },
  {
   "cell_type": "code",
   "execution_count": 5,
   "id": "1c3c51ba",
   "metadata": {},
   "outputs": [
    {
     "name": "stdout",
     "output_type": "stream",
     "text": [
      "0\n",
      "1\n",
      "4\n",
      "9\n",
      "16\n",
      "25\n",
      "36\n",
      "49\n",
      "64\n",
      "81\n",
      "0\n",
      "1\n",
      "8\n",
      "27\n",
      "64\n",
      "125\n",
      "216\n",
      "343\n",
      "512\n",
      "729\n"
     ]
    }
   ],
   "source": [
    "#Ans4:\n",
    "import threading\n",
    "\n",
    "def print_squares(i):\n",
    "        print(i**2)\n",
    "\n",
    "def print_cubes(i):\n",
    "        print(i**3)\n",
    "\n",
    "# create the threads\n",
    "t1 = [threading.Thread(target=print_squares,args=(i,)) for i in range(10)]\n",
    "t2 = [threading.Thread(target=print_cubes,args=(i,)) for i in range(10)]\n",
    "\n",
    "# start the threads\n",
    "for t in t1:\n",
    "    t.start()\n",
    "for y in t2:\n",
    "    y.start()\n",
    "\n"
   ]
  },
  {
   "cell_type": "code",
   "execution_count": 6,
   "id": "341b003f",
   "metadata": {},
   "outputs": [],
   "source": [
    "#Ans5:\n",
    "#Advantage:\n",
    "#1:Imporved performance.\n",
    "#2.Responsiveness.\n",
    "#3.Resource Sharing.\n",
    "#Disadvantage:\n",
    "#1.Complexity\n",
    "#2.Debugging\n",
    "#3.Overhead"
   ]
  },
  {
   "cell_type": "code",
   "execution_count": 7,
   "id": "4d18cbac",
   "metadata": {},
   "outputs": [],
   "source": [
    "#Ans6:\n",
    "#Deadlock:\n",
    "#A deadlock occurs when two or more processes or threads are blocked waiting for each other to release resources that they are holding.\n",
    "#Race condition:\n",
    "#A race condition occurs when the behavior of a program depends on the order and timing of events that are not under the control of the program."
   ]
  },
  {
   "cell_type": "code",
   "execution_count": null,
   "id": "b7d7f525",
   "metadata": {},
   "outputs": [],
   "source": []
  }
 ],
 "metadata": {
  "kernelspec": {
   "display_name": "Python 3 (ipykernel)",
   "language": "python",
   "name": "python3"
  },
  "language_info": {
   "codemirror_mode": {
    "name": "ipython",
    "version": 3
   },
   "file_extension": ".py",
   "mimetype": "text/x-python",
   "name": "python",
   "nbconvert_exporter": "python",
   "pygments_lexer": "ipython3",
   "version": "3.9.12"
  }
 },
 "nbformat": 4,
 "nbformat_minor": 5
}

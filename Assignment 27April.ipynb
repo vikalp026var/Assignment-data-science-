{
 "cells": [
  {
   "cell_type": "code",
   "execution_count": 5,
   "id": "4e39a5fe",
   "metadata": {},
   "outputs": [],
   "source": [
    "#There are three types of clustering algorithm \n",
    "#(i)K-means Clustering \n",
    "#(ii)Hierarichal clutering\n",
    "#(iii)DBSCAN Clustering \n",
    "#There are define the value of k in kmeans then make the cluster based on k value.\n",
    "#Hierarichal is like that data is  split into hiearchial way \n",
    "#DBSCAN is like that the clusters in coloring "
   ]
  },
  {
   "cell_type": "code",
   "execution_count": 6,
   "id": "60d91084",
   "metadata": {},
   "outputs": [],
   "source": [
    "#Ans2:K means is define as the k value and then make the clusters based on k value by measuring the distance and if the data is near to which clusters then data is lie in that cluster ."
   ]
  },
  {
   "cell_type": "code",
   "execution_count": 7,
   "id": "b4afeb17",
   "metadata": {},
   "outputs": [],
   "source": [
    "#Ans3:K means is work on large datasets but k-means has trouble clustering data where clusters are of varying sizes and density"
   ]
  },
  {
   "cell_type": "code",
   "execution_count": 8,
   "id": "6db892c2",
   "metadata": {},
   "outputs": [],
   "source": [
    "#ANs4:By elbow method and silhouute method we can choose the optimal clusters"
   ]
  },
  {
   "cell_type": "code",
   "execution_count": 9,
   "id": "07bcd401",
   "metadata": {},
   "outputs": [],
   "source": [
    "#ANs5:It is unsupervised method in which data is binned in similar type of data and real world scernios is in email"
   ]
  },
  {
   "cell_type": "code",
   "execution_count": 10,
   "id": "151b18c0",
   "metadata": {},
   "outputs": [],
   "source": [
    "#Ans6:It shows the relationship and grouping"
   ]
  },
  {
   "cell_type": "code",
   "execution_count": 11,
   "id": "964282ef",
   "metadata": {},
   "outputs": [],
   "source": [
    "#ANs7:dataset should be scaled and have not none values"
   ]
  },
  {
   "cell_type": "code",
   "execution_count": null,
   "id": "76846116",
   "metadata": {},
   "outputs": [],
   "source": []
  }
 ],
 "metadata": {
  "kernelspec": {
   "display_name": "Python 3 (ipykernel)",
   "language": "python",
   "name": "python3"
  },
  "language_info": {
   "codemirror_mode": {
    "name": "ipython",
    "version": 3
   },
   "file_extension": ".py",
   "mimetype": "text/x-python",
   "name": "python",
   "nbconvert_exporter": "python",
   "pygments_lexer": "ipython3",
   "version": "3.9.12"
  }
 },
 "nbformat": 4,
 "nbformat_minor": 5
}

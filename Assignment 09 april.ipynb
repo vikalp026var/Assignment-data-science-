{
 "cells": [
  {
   "cell_type": "code",
   "execution_count": 1,
   "id": "466b6e3b",
   "metadata": {},
   "outputs": [],
   "source": [
    "#Ans1: It is totally depend on the conditional probability .It is used to check the probabilty and select the best one . "
   ]
  },
  {
   "cell_type": "code",
   "execution_count": 2,
   "id": "6ec52591",
   "metadata": {},
   "outputs": [],
   "source": [
    "#Ans2:P(A/B)=P(A).P(B/A)/P(B)"
   ]
  },
  {
   "cell_type": "code",
   "execution_count": 3,
   "id": "1d7e5c04",
   "metadata": {},
   "outputs": [],
   "source": [
    "#Ans3:For checking the best probability  and find the best probability ."
   ]
  },
  {
   "cell_type": "code",
   "execution_count": 4,
   "id": "01a5c10d",
   "metadata": {},
   "outputs": [],
   "source": [
    "#Ans4::P(A/B)=P(A).P(B/A)/P(B)"
   ]
  },
  {
   "cell_type": "code",
   "execution_count": 5,
   "id": "1198768b",
   "metadata": {},
   "outputs": [],
   "source": [
    "#Ans5:If the the dataset inn the form of categorical then it is lie in the binomial and the if the dataset is in the form of text type then it is type in multinomial and if the dataset is in normal distribute then it is guassian   "
   ]
  },
  {
   "cell_type": "code",
   "execution_count": 6,
   "id": "4cc478f6",
   "metadata": {},
   "outputs": [],
   "source": [
    "#Ans6:\n",
    "To use Naive Bayes to classify a new instance with features X1=3 and X2=4, we first need to calculate the posterior probabilities of the instance belonging to each class, given its features.\n",
    "\n",
    "Using the Naive Bayes algorithm, the posterior probability of a class given the features can be calculated as:\n",
    "\n",
    "P(Class | X1, X2) = P(X1, X2 | Class) * P(Class) / P(X1, X2)\n",
    "\n",
    "Since the prior probabilities for each class are equal, we can ignore the P(Class) term in the equation.\n",
    "\n",
    "We can calculate the likelihood of the features given each class as:\n",
    "\n",
    "P(X1=3, X2=4 | Class=A) = P(X1=3 | Class=A) * P(X2=4 | Class=A)\n",
    "= 4/14 * 3/14\n",
    "= 0.06\n",
    "\n",
    "P(X1=3, X2=4 | Class=B) = P(X1=3 | Class=B) * P(X2=4 | Class=B)\n",
    "= 1/9 * 3/9\n",
    "= 0.037\n",
    "\n",
    "To calculate P(X1, X2), we need to sum the likelihoods of the features given each class, weighted by their prior probabilities:\n",
    "\n",
    "P(X1=3, X2=4) = P(X1=3, X2=4 | Class=A) * P(Class=A) + P(X1=3, X2=4 | Class=B) * P(Class=B)\n",
    "= 0.06 * 0.5 + 0.037 * 0.5\n",
    "= 0.0485\n",
    "\n",
    "Finally, we can calculate the posterior probabilities of each class as:\n",
    "\n",
    "P(Class=A | X1=3, X2=4) = P(X1=3, X2=4 | Class=A) * P(Class=A) / P(X1=3, X2=4)\n",
    "= 0.06 * 0.5 / 0.0485\n",
    "= 0.619\n",
    "\n",
    "P(Class=B | X1=3, X2=4) = P(X1=3, X2=4 | Class=B) * P(Class=B) / P(X1=3, X2=4)\n",
    "= 0.037 * 0.5 / 0.0485\n",
    "= 0.381\n",
    "\n",
    "Therefore, Naive Bayes would predict that the new instance belongs to class A, since it has a higher posterior probability of 0.619 compared to class B's probability of 0.381.\n"
   ]
  },
  {
   "cell_type": "code",
   "execution_count": 7,
   "id": "9bac886b",
   "metadata": {},
   "outputs": [],
   "source": [
    "ner=BernoulliNB()"
   ]
  },
  {
   "cell_type": "code",
   "execution_count": 8,
   "id": "f7c1cdf7",
   "metadata": {},
   "outputs": [
    {
     "data": {
      "text/plain": [
       "BernoulliNB()"
      ]
     },
     "execution_count": 8,
     "metadata": {},
     "output_type": "execute_result"
    }
   ],
   "source": [
    "ner"
   ]
  },
  {
   "cell_type": "code",
   "execution_count": null,
   "id": "b75f35cd",
   "metadata": {},
   "outputs": [],
   "source": []
  }
 ],
 "metadata": {
  "kernelspec": {
   "display_name": "Python 3 (ipykernel)",
   "language": "python",
   "name": "python3"
  },
  "language_info": {
   "codemirror_mode": {
    "name": "ipython",
    "version": 3
   },
   "file_extension": ".py",
   "mimetype": "text/x-python",
   "name": "python",
   "nbconvert_exporter": "python",
   "pygments_lexer": "ipython3",
   "version": "3.9.12"
  }
 },
 "nbformat": 4,
 "nbformat_minor": 5
}

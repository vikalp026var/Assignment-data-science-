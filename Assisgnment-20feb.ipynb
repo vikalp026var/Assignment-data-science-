{
 "cells": [
  {
   "cell_type": "code",
   "execution_count": 1,
   "id": "223a8d26",
   "metadata": {},
   "outputs": [],
   "source": [
    "#Ans1:GET carries request parameter appended in URL string while POST carries request parameter in message body "
   ]
  },
  {
   "cell_type": "code",
   "execution_count": 2,
   "id": "8d31ef89",
   "metadata": {},
   "outputs": [],
   "source": [
    "#Ans2:Request is use in flask as contains all the data sent from the Client to Server."
   ]
  },
  {
   "cell_type": "code",
   "execution_count": 3,
   "id": "1c7ebb0d",
   "metadata": {},
   "outputs": [],
   "source": [
    "#Ans3:Redirects the user to some specified URL with the specified status code. "
   ]
  },
  {
   "cell_type": "code",
   "execution_count": 4,
   "id": "67c374d7",
   "metadata": {},
   "outputs": [],
   "source": [
    "#Ans4:Templates are files that contain static data as well as placeholders for dynamic data.A template is rendered with specific data to produce a final document"
   ]
  },
  {
   "cell_type": "code",
   "execution_count": 7,
   "id": "d3ffaf20",
   "metadata": {},
   "outputs": [
    {
     "ename": "SyntaxError",
     "evalue": "invalid syntax (4041999591.py, line 2)",
     "output_type": "error",
     "traceback": [
      "\u001b[1;36m  Input \u001b[1;32mIn [7]\u001b[1;36m\u001b[0m\n\u001b[1;33m    import IPython.display import Image\u001b[0m\n\u001b[1;37m                           ^\u001b[0m\n\u001b[1;31mSyntaxError\u001b[0m\u001b[1;31m:\u001b[0m invalid syntax\n"
     ]
    }
   ],
   "source": [
    "#Ans5:\n",
    "import IPython.display import Image \n",
    "Image(filename=\"vikalp.png\",width=400,height=400)"
   ]
  },
  {
   "cell_type": "code",
   "execution_count": null,
   "id": "1d16da5f",
   "metadata": {},
   "outputs": [],
   "source": []
  }
 ],
 "metadata": {
  "kernelspec": {
   "display_name": "Python 3 (ipykernel)",
   "language": "python",
   "name": "python3"
  },
  "language_info": {
   "codemirror_mode": {
    "name": "ipython",
    "version": 3
   },
   "file_extension": ".py",
   "mimetype": "text/x-python",
   "name": "python",
   "nbconvert_exporter": "python",
   "pygments_lexer": "ipython3",
   "version": "3.9.12"
  }
 },
 "nbformat": 4,
 "nbformat_minor": 5
}

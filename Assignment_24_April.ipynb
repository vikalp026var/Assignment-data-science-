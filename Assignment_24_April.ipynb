{
 "cells": [
  {
   "cell_type": "code",
   "execution_count": 1,
   "id": "893168a9",
   "metadata": {},
   "outputs": [],
   "source": [
    "#Ans1:PCA is used to select the important features .Two features can be select by one feature only by the projection on particular axis ."
   ]
  },
  {
   "cell_type": "code",
   "execution_count": 2,
   "id": "bab1d4c4",
   "metadata": {},
   "outputs": [],
   "source": [
    "#ANs2:Principal Component Analysis (PCA) is a dimensionality reduction technique used to transform a high-dimensional dataset into a lower-dimensional representation. The optimization problem in PCA aims to find a set of orthogonal vectors, called principal components, that capture the maximum amount of variance in the data."
   ]
  },
  {
   "cell_type": "code",
   "execution_count": 3,
   "id": "9441a132",
   "metadata": {},
   "outputs": [],
   "source": [
    "#ANs3:Av=Lambda*v where A is the covariance matrix and v is the vector and lambda is the principal component "
   ]
  },
  {
   "cell_type": "code",
   "execution_count": 5,
   "id": "877ed9b7",
   "metadata": {},
   "outputs": [],
   "source": [
    "#Ans4:if there are 3features than the principal component is 3 and if the features are 2 then the principal component is 2 .\n",
    "#if the less number of features than the permonace is better than the features with 2"
   ]
  },
  {
   "cell_type": "code",
   "execution_count": 6,
   "id": "af5bab38",
   "metadata": {},
   "outputs": [],
   "source": [
    "#Ans5:PCA is used to dimension reduction through which feature is select "
   ]
  },
  {
   "cell_type": "code",
   "execution_count": 7,
   "id": "4a91162f",
   "metadata": {},
   "outputs": [],
   "source": [
    "#Ans6:Nothing but to select the most appropiate feature"
   ]
  },
  {
   "cell_type": "code",
   "execution_count": 8,
   "id": "1cfa9cd4",
   "metadata": {},
   "outputs": [],
   "source": [
    "#Ans7:Spread is directly propotional to variance "
   ]
  },
  {
   "cell_type": "code",
   "execution_count": 9,
   "id": "1319b0eb",
   "metadata": {},
   "outputs": [],
   "source": [
    "#Ans8:If the variance is more than it can be PC1,if the varaince is less than it can be PC2 and more ."
   ]
  },
  {
   "cell_type": "code",
   "execution_count": null,
   "id": "32c8fd40",
   "metadata": {},
   "outputs": [],
   "source": [
    "#Ans9:"
   ]
  }
 ],
 "metadata": {
  "kernelspec": {
   "display_name": "Python 3 (ipykernel)",
   "language": "python",
   "name": "python3"
  },
  "language_info": {
   "codemirror_mode": {
    "name": "ipython",
    "version": 3
   },
   "file_extension": ".py",
   "mimetype": "text/x-python",
   "name": "python",
   "nbconvert_exporter": "python",
   "pygments_lexer": "ipython3",
   "version": "3.9.12"
  }
 },
 "nbformat": 4,
 "nbformat_minor": 5
}

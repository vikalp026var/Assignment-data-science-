{
 "cells": [
  {
   "cell_type": "code",
   "execution_count": 1,
   "id": "fab283c6",
   "metadata": {},
   "outputs": [],
   "source": [
    "#Ans1:The purpose is when the input is given to the neural networks then it passes through the various hidden layers and give the output this process is called forawrd propagation"
   ]
  },
  {
   "cell_type": "code",
   "execution_count": 2,
   "id": "7dd9f329",
   "metadata": {},
   "outputs": [],
   "source": [
    "#ANs2:w1x1+b is the forward propagation "
   ]
  },
  {
   "cell_type": "code",
   "execution_count": 3,
   "id": "3b9b5ca5",
   "metadata": {},
   "outputs": [],
   "source": [
    "#ANs3:In the hidden layer the activation function is use to activate the neuron that particular nuron is fire or not ."
   ]
  },
  {
   "cell_type": "code",
   "execution_count": 4,
   "id": "ffddc75b",
   "metadata": {},
   "outputs": [],
   "source": [
    "#Ans4:The weights and biases develop how a neural network propels data flow forward through the network; this is called forward propagation."
   ]
  },
  {
   "cell_type": "code",
   "execution_count": 5,
   "id": "1f9d4b09",
   "metadata": {},
   "outputs": [],
   "source": [
    "#Ans5:It is used in to classify the multiple class ."
   ]
  },
  {
   "cell_type": "code",
   "execution_count": 7,
   "id": "44c229f7",
   "metadata": {},
   "outputs": [],
   "source": [
    "#Ans6:To initalize the weights by checking the error .it will contineouly intialize till the error will become zero ."
   ]
  },
  {
   "cell_type": "code",
   "execution_count": 8,
   "id": "38a38f10",
   "metadata": {},
   "outputs": [],
   "source": [
    "#Ans7:Backpropagation is actually a major motivating factor in the historical use of sigmoid activation functions due to its convenient derivative: g ′ ( x ) = ∂ σ ( x ) ∂ x = σ ( x ) ( 1 − σ ( x ) ) ."
   ]
  },
  {
   "cell_type": "code",
   "execution_count": 9,
   "id": "11cd5098",
   "metadata": {},
   "outputs": [],
   "source": [
    "#Ans8:In simple terms, after each forward pass through a network, backpropagation performs a backward pass while adjusting the model's parameters (weights and biases)"
   ]
  },
  {
   "cell_type": "code",
   "execution_count": null,
   "id": "fca12707",
   "metadata": {},
   "outputs": [],
   "source": [
    "#Ans9:"
   ]
  }
 ],
 "metadata": {
  "kernelspec": {
   "display_name": "Python 3 (ipykernel)",
   "language": "python",
   "name": "python3"
  },
  "language_info": {
   "codemirror_mode": {
    "name": "ipython",
    "version": 3
   },
   "file_extension": ".py",
   "mimetype": "text/x-python",
   "name": "python",
   "nbconvert_exporter": "python",
   "pygments_lexer": "ipython3",
   "version": "3.9.12"
  }
 },
 "nbformat": 4,
 "nbformat_minor": 5
}

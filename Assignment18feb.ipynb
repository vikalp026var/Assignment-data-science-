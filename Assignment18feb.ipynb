{
 "cells": [
  {
   "cell_type": "code",
   "execution_count": 1,
   "id": "e4fe31d2",
   "metadata": {},
   "outputs": [],
   "source": [
    "#Ans1: API is application programming Interface,Build of API through the hhtp/TCP/IP. ,We can take the example of Google pay In which the transaction between Google pay and their bank Through the API ."
   ]
  },
  {
   "cell_type": "code",
   "execution_count": 2,
   "id": "0e56274b",
   "metadata": {},
   "outputs": [],
   "source": [
    "#Ans2:Advantage of API is:-\n",
    "#1. Lower Maintenance to Do.\n",
    "#2.Reduced testing Cost.\n",
    "#3.Universal Language Understanding.\n",
    "#Disadvantage of API is:-\n",
    "#1.It doesn't measure front-end performance or how quickly pages render in different browsers.\n",
    "#2.Once the API is compromised, all other applications and systems become vulnerable."
   ]
  },
  {
   "cell_type": "code",
   "execution_count": 3,
   "id": "5e022d27",
   "metadata": {},
   "outputs": [],
   "source": [
    "#Ans3:Web API is the subset of API in it is used to transfer the information from the http to server through the API called the WEb API .\n",
    "#Difference between the API and the Web API :-\n",
    "#1.API used the TCP/IP and the http for buliding the API whereas the WEB APi is used http .\n",
    "#Web API is the subset of the API. "
   ]
  },
  {
   "cell_type": "code",
   "execution_count": 4,
   "id": "c494c8fa",
   "metadata": {},
   "outputs": [],
   "source": [
    "#Ans4:REST is Representional  State Transfer Protocol based on Web API used the http for transfer the infromation to server through the PUT,GET,POST,DELETE.It is Simple,Scalibility .\n",
    "#SOAP is more Secure than the REST and used the WSDL(Web Service Description Language) through XML (Extensible Markup Language) files .\n",
    "#SOAP is light weight than REST Architecture.\n"
   ]
  },
  {
   "cell_type": "code",
   "execution_count": null,
   "id": "2550a3fe",
   "metadata": {},
   "outputs": [],
   "source": [
    "#ANS5:REST is less secure than SOAP.\n",
    "#SOAP is light weight than REST .\n",
    "#REST is use HTTP whereas SOAP use the HTTP/STTP/TCP."
   ]
  }
 ],
 "metadata": {
  "kernelspec": {
   "display_name": "Python 3 (ipykernel)",
   "language": "python",
   "name": "python3"
  },
  "language_info": {
   "codemirror_mode": {
    "name": "ipython",
    "version": 3
   },
   "file_extension": ".py",
   "mimetype": "text/x-python",
   "name": "python",
   "nbconvert_exporter": "python",
   "pygments_lexer": "ipython3",
   "version": "3.9.12"
  }
 },
 "nbformat": 4,
 "nbformat_minor": 5
}

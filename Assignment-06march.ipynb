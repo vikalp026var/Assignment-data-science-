{
 "cells": [
  {
   "cell_type": "code",
   "execution_count": 1,
   "id": "653721b8",
   "metadata": {},
   "outputs": [],
   "source": [
    "##Ans1:It is collection ,viualisation,analysisation of data."
   ]
  },
  {
   "cell_type": "code",
   "execution_count": 2,
   "id": "04cb23e7",
   "metadata": {},
   "outputs": [],
   "source": [
    "#Ans2:Types of Statics is Descriptive and Inferential:-\n",
    "#Example of Descriptive is Measure of central tendency and Measure of Dispersion .\n",
    "#Example of Inferential is T Test ,chi Square,F Test ,Anova"
   ]
  },
  {
   "cell_type": "code",
   "execution_count": 3,
   "id": "cc89c570",
   "metadata": {},
   "outputs": [],
   "source": [
    "#Ans3:Types of data is Quantative and Qualitative :-\n",
    "#Qualitative is of two type is Nominal and ordinal Examples of Nomial example is Gender and the example of ordinal is customer feedback \n",
    "#Quantative is of alsp of two types is Discreate and Continuous and the example of Discreate is No of Student and no of children and the example of Continous is Temperature ."
   ]
  },
  {
   "cell_type": "code",
   "execution_count": 4,
   "id": "dc5d191b",
   "metadata": {},
   "outputs": [],
   "source": [
    "#Ans4:(i) Qualiative\n",
    "#(ii) Qualitative\n",
    "#(iii)Quantative\n",
    "#(iv)Quantative"
   ]
  },
  {
   "cell_type": "code",
   "execution_count": 5,
   "id": "3e06f7f1",
   "metadata": {},
   "outputs": [],
   "source": [
    "#Ans5:Nominal Scale data :-\n",
    "#Ex:-Color\n",
    "#Ordinal Scale data:-\n",
    "#Ex:-Customer feedback(Sentiment anlaysis)\n",
    "#Interval scale data:-\n",
    "#Ex:-Temperature\n",
    "#ratio scale data:-\n",
    "#Ex:-Student marks"
   ]
  },
  {
   "cell_type": "code",
   "execution_count": 6,
   "id": "ed5364bd",
   "metadata": {},
   "outputs": [],
   "source": [
    "#Ans6:It is important of scaling the data that data is lying between the data \n",
    "#Example is when we have data of  Martial status that what have category is to given . "
   ]
  },
  {
   "cell_type": "code",
   "execution_count": 7,
   "id": "8d592436",
   "metadata": {},
   "outputs": [],
   "source": [
    "#Ans7:Nominal data have normal data that there is no order but ordinal data have the order of data .\n",
    "#Example :- Nomial is gender whereas ordinal have Sentiment anlaysis."
   ]
  },
  {
   "cell_type": "code",
   "execution_count": 8,
   "id": "2904e7b6",
   "metadata": {},
   "outputs": [],
   "source": [
    "#Ans8:box plot is used as range \n"
   ]
  },
  {
   "cell_type": "code",
   "execution_count": 9,
   "id": "ae4ae4f5",
   "metadata": {},
   "outputs": [],
   "source": [
    "#aAns9:Types of Statics is Descriptive and Inferential:-\n",
    "#Example of Descriptive is Measure of central tendency and Measure of Dispersion .\n",
    "#Example of Inferential is T Test ,chi Square,F Test ,Anova"
   ]
  },
  {
   "cell_type": "code",
   "execution_count": null,
   "id": "33471b89",
   "metadata": {},
   "outputs": [],
   "source": [
    "#Ans10:Common measures is mean ,median ,mode are some commmon measires of centrak tendency and varaibility used as variance and  stndard deviation.\n",
    "#by use mean ,mode,median function"
   ]
  }
 ],
 "metadata": {
  "kernelspec": {
   "display_name": "Python 3 (ipykernel)",
   "language": "python",
   "name": "python3"
  },
  "language_info": {
   "codemirror_mode": {
    "name": "ipython",
    "version": 3
   },
   "file_extension": ".py",
   "mimetype": "text/x-python",
   "name": "python",
   "nbconvert_exporter": "python",
   "pygments_lexer": "ipython3",
   "version": "3.9.12"
  }
 },
 "nbformat": 4,
 "nbformat_minor": 5
}

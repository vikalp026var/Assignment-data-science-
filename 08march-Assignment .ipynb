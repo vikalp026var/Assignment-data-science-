{
 "cells": [
  {
   "cell_type": "code",
   "execution_count": 1,
   "id": "5c52f7fe",
   "metadata": {},
   "outputs": [],
   "source": [
    "#Ans1:It is Contineous random variables Example is heights of students in classrooom "
   ]
  },
  {
   "cell_type": "code",
   "execution_count": 2,
   "id": "ddbea522",
   "metadata": {},
   "outputs": [],
   "source": [
    "#Ans2:Types of Probability distribution function are as folloows \n",
    "#1.Normal/Guassioan Distribution Function.\n",
    "#2.Bernolli's Distribution Function.\n",
    "#3.Uniform Distribution\n",
    "#4.Possion Distribution function.\n",
    "#5.Log Normal Distribution Function\n",
    "#6.Binomial Distribution"
   ]
  },
  {
   "cell_type": "code",
   "execution_count": 3,
   "id": "e94f99da",
   "metadata": {},
   "outputs": [],
   "source": [
    "#Ans3:\n",
    "import numpy as np"
   ]
  },
  {
   "cell_type": "code",
   "execution_count": 12,
   "id": "68ca611f",
   "metadata": {},
   "outputs": [],
   "source": [
    "sample=np.random.normal(loc=25,size=1000)"
   ]
  },
  {
   "cell_type": "code",
   "execution_count": 13,
   "id": "ca79283b",
   "metadata": {},
   "outputs": [
    {
     "data": {
      "text/plain": [
       "25.01647241104485"
      ]
     },
     "execution_count": 13,
     "metadata": {},
     "output_type": "execute_result"
    }
   ],
   "source": [
    "np.mean(sample)"
   ]
  },
  {
   "cell_type": "code",
   "execution_count": 5,
   "id": "ebd9e263",
   "metadata": {},
   "outputs": [],
   "source": [
    "#Ans4:Properties of binomial distribution are :-\n",
    "#1.Every experment outcome is binary .\n",
    "#2.These experiment is perfored for n trials\n",
    "#3.Group of bernollis is binomial "
   ]
  },
  {
   "cell_type": "code",
   "execution_count": 6,
   "id": "d6e28d1c",
   "metadata": {},
   "outputs": [],
   "source": [
    "#Examples is For coin ,for students ranking "
   ]
  },
  {
   "cell_type": "code",
   "execution_count": 8,
   "id": "ed260dc6",
   "metadata": {},
   "outputs": [
    {
     "data": {
      "image/png": "[encoded data removed]",
      "text/plain": [
       "<Figure size 432x288 with 1 Axes>"
      ]
     },
     "metadata": {
      "needs_background": "light"
     },
     "output_type": "display_data"
    }
   ],
   "source": [
    "#Ans5:\n",
    "import numpy as np\n",
    "import matplotlib.pyplot as plt\n",
    "sample_size = 1000\n",
    "p = 0.4\n",
    "sample = np.random.binomial(n=1, p=p, size=sample_size)\n",
    "plt.hist(sample, bins=2, color='red', edgecolor='black')\n",
    "plt.xlabel('Outcome')\n",
    "plt.ylabel('Count')\n",
    "plt.xticks([0, 1], ['Failure', 'Success'])\n",
    "plt.title(f'Histogram of {sample_size} binomial trials with p={p}')\n",
    "plt.show()\n"
   ]
  },
  {
   "cell_type": "code",
   "execution_count": 9,
   "id": "39caf165",
   "metadata": {},
   "outputs": [],
   "source": [
    "#Ans6:\n",
    "import numpy as np"
   ]
  },
  {
   "cell_type": "code",
   "execution_count": 10,
   "id": "7fa0fa9d",
   "metadata": {},
   "outputs": [],
   "source": [
    "sample=np.random.poisson(lam=5,size=100)"
   ]
  },
  {
   "cell_type": "code",
   "execution_count": 11,
   "id": "9c9ce6b7",
   "metadata": {},
   "outputs": [
    {
     "data": {
      "text/plain": [
       "5.17"
      ]
     },
     "execution_count": 11,
     "metadata": {},
     "output_type": "execute_result"
    }
   ],
   "source": [
    "np.mean(sample)"
   ]
  },
  {
   "cell_type": "code",
   "execution_count": 14,
   "id": "9abcf7ae",
   "metadata": {},
   "outputs": [],
   "source": [
    "#Ans7:Binomial distribution are continuous random variables whereas Possion are discreate random variables .\n",
    "#pr(k,n,p)=nCk p^k(1-p)^n-k\n",
    "#p=e^-lambda lambda^x/xfectorial "
   ]
  },
  {
   "cell_type": "code",
   "execution_count": 15,
   "id": "c951d9c1",
   "metadata": {},
   "outputs": [],
   "source": [
    "#Ans8:\n",
    "import numpy as np"
   ]
  },
  {
   "cell_type": "code",
   "execution_count": 16,
   "id": "a7ba84e7",
   "metadata": {},
   "outputs": [],
   "source": [
    "sample=np.random.poisson(size=1000,lam=5)"
   ]
  },
  {
   "cell_type": "code",
   "execution_count": 17,
   "id": "99418c66",
   "metadata": {},
   "outputs": [
    {
     "data": {
      "text/plain": [
       "5.079"
      ]
     },
     "execution_count": 17,
     "metadata": {},
     "output_type": "execute_result"
    }
   ],
   "source": [
    "np.mean(sample)"
   ]
  },
  {
   "cell_type": "code",
   "execution_count": 18,
   "id": "819947d8",
   "metadata": {},
   "outputs": [
    {
     "data": {
      "text/plain": [
       "4.996759"
      ]
     },
     "execution_count": 18,
     "metadata": {},
     "output_type": "execute_result"
    }
   ],
   "source": [
    "np.var(sample\n",
    "      )"
   ]
  },
  {
   "cell_type": "code",
   "execution_count": null,
   "id": "1c19b8d1",
   "metadata": {},
   "outputs": [],
   "source": [
    "#mean and variance in binomial distributin are np,npq whereas mean an d variance in poisson distributi"
   ]
  }
 ],
 "metadata": {
  "kernelspec": {
   "display_name": "Python 3 (ipykernel)",
   "language": "python",
   "name": "python3"
  },
  "language_info": {
   "codemirror_mode": {
    "name": "ipython",
    "version": 3
   },
   "file_extension": ".py",
   "mimetype": "text/x-python",
   "name": "python",
   "nbconvert_exporter": "python",
   "pygments_lexer": "ipython3",
   "version": "3.9.12"
  }
 },
 "nbformat": 4,
 "nbformat_minor": 5
}

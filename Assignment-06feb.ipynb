{
 "cells": [
  {
   "cell_type": "code",
   "execution_count": 15,
   "id": "45f4e8b2",
   "metadata": {},
   "outputs": [
    {
     "name": "stdout",
     "output_type": "stream",
     "text": [
      "4134711838987085478833841242112000\n"
     ]
    }
   ],
   "source": [
    " #Ans 1:\n",
    "from functools import reduce \n",
    "def pro(list4):\n",
    "    mut=reduce(lambda x,y:x*y,list4)\n",
    "    print(mut)\n",
    "def list2(list3):\n",
    "    l=[]\n",
    "    for i in list3:\n",
    "        if type(i)==int:\n",
    "            l.append(i)\n",
    "        elif type(i)==list:\n",
    "            l.extend(list2(i))\n",
    "        elif type(i)==set:\n",
    "            l.extend(list(i))\n",
    "        elif type(i)==tuple:\n",
    "            l.extend(i)\n",
    "        elif type(i)==dict:\n",
    "            for k,v in i.items():\n",
    "                if type(k)==int or type(k)==float:\n",
    "                    l.append(k)\n",
    "                if type(v)==int or type(v)==float:\n",
    "                    l.append(v)\n",
    "                if type(v) in [list,tuple,set]:\n",
    "                    l.extend(list2(v))\n",
    "    return l\n",
    "list1 = [1,2,3,4, [44,55,66, True], False, (34,56,78,89,34), {1,2,3,3,2,1}, {1:34, \"key2\": [55, 67, 78, 89], 4: (45,\n",
    "22, 61, 34)}, [56, 'data science'], 'Machine Learning']  \n",
    "    \n",
    "list3=list2(list1)\n",
    "pro(list3)\n",
    "    \n",
    "            "
   ]
  },
  {
   "cell_type": "code",
   "execution_count": 17,
   "id": "02b9dac6",
   "metadata": {},
   "outputs": [
    {
     "name": "stdout",
     "output_type": "stream",
     "text": [
      "r$dzmg$gl$yvxlnv$z$wzgz$hxrvmgrhg"
     ]
    }
   ],
   "source": [
    "#Ans 2:\n",
    "l=\"abcdefghijklmnopqrstuvwxyz\"\n",
    "alpha= list(map(lambda x: x, l))\n",
    "\n",
    "alpha1=alpha[::-1]\n",
    "\n",
    "en={}\n",
    "s,l=0,len(alpha)-1\n",
    "\n",
    "while s<len(alpha):\n",
    "    \n",
    "    en[alpha[s]]=alpha[l]\n",
    "    s+=1\n",
    "    l-=1\n",
    "    \n",
    "en[\" \"]=\"$\"\n",
    "data=\"I want to become a Data Scientist\"\n",
    "data=data.lower()\n",
    "for i in data:\n",
    "    d=en[i]\n",
    "    print(d,end=\"\")\n",
    "            "
   ]
  },
  {
   "cell_type": "code",
   "execution_count": null,
   "id": "fa44fb33",
   "metadata": {},
   "outputs": [],
   "source": []
  },
  {
   "cell_type": "code",
   "execution_count": null,
   "id": "6c8da9df",
   "metadata": {},
   "outputs": [],
   "source": []
  },
  {
   "cell_type": "code",
   "execution_count": null,
   "id": "f4d85822",
   "metadata": {},
   "outputs": [],
   "source": []
  },
  {
   "cell_type": "code",
   "execution_count": null,
   "id": "85743b19",
   "metadata": {},
   "outputs": [],
   "source": []
  },
  {
   "cell_type": "code",
   "execution_count": null,
   "id": "75d78317",
   "metadata": {},
   "outputs": [],
   "source": []
  }
 ],
 "metadata": {
  "kernelspec": {
   "display_name": "Python 3 (ipykernel)",
   "language": "python",
   "name": "python3"
  },
  "language_info": {
   "codemirror_mode": {
    "name": "ipython",
    "version": 3
   },
   "file_extension": ".py",
   "mimetype": "text/x-python",
   "name": "python",
   "nbconvert_exporter": "python",
   "pygments_lexer": "ipython3",
   "version": "3.9.12"
  }
 },
 "nbformat": 4,
 "nbformat_minor": 5
}

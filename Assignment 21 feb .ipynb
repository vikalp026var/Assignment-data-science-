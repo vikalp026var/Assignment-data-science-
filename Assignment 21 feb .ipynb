{
 "cells": [
  {
   "cell_type": "code",
   "execution_count": 1,
   "id": "af88a94b",
   "metadata": {},
   "outputs": [],
   "source": [
    "#Ans1: Web Scraping is the process of collecting and parsing raw data from the Web.\n",
    "#The areas is Email marketing ,social media sentiment analysis ,price comparison."
   ]
  },
  {
   "cell_type": "code",
   "execution_count": 2,
   "id": "daa8fda1",
   "metadata": {},
   "outputs": [],
   "source": [
    "#Ans2:There are different methods is copy paste ,google sheets,text pattern matching ."
   ]
  },
  {
   "cell_type": "code",
   "execution_count": 3,
   "id": "1adec17c",
   "metadata": {},
   "outputs": [],
   "source": [
    "#Ans3: Beautiful Soup provides simple methods for navigating, searching, and modifying a parse tree in HTML, XML files and it  is used for web scrapping"
   ]
  },
  {
   "cell_type": "code",
   "execution_count": 4,
   "id": "7d376119",
   "metadata": {},
   "outputs": [],
   "source": [
    "#Ans4:Because we can make a server in flask through pyhton and link the html and css file when we run phython code and server become live ."
   ]
  },
  {
   "cell_type": "code",
   "execution_count": null,
   "id": "42e0cad8",
   "metadata": {},
   "outputs": [],
   "source": [
    "#Ans5:Beanstalk,codepipeline,Github.When we write the program in flask and push in github through a repositary and connect the github and beans"
   ]
  }
 ],
 "metadata": {
  "kernelspec": {
   "display_name": "Python 3 (ipykernel)",
   "language": "python",
   "name": "python3"
  },
  "language_info": {
   "codemirror_mode": {
    "name": "ipython",
    "version": 3
   },
   "file_extension": ".py",
   "mimetype": "text/x-python",
   "name": "python",
   "nbconvert_exporter": "python",
   "pygments_lexer": "ipython3",
   "version": "3.9.12"
  }
 },
 "nbformat": 4,
 "nbformat_minor": 5
}

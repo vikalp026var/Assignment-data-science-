{
 "cells": [
  {
   "cell_type": "code",
   "execution_count": 1,
   "id": "8659d52e",
   "metadata": {},
   "outputs": [],
   "source": [
    "#Ans 1:Anomaly detection refers to the process of identifying patterns or instances that deviate significantly from the norm or expected behavior within a dataset.It purpose is to detect the outliers "
   ]
  },
  {
   "cell_type": "code",
   "execution_count": 2,
   "id": "07f9e079",
   "metadata": {},
   "outputs": [],
   "source": [
    "#ANs2:The key challange in anomaly detectection is Lack of labeled Anomaly Data ,Imbalanced data ,High Dimension data  "
   ]
  },
  {
   "cell_type": "code",
   "execution_count": 3,
   "id": "0b631286",
   "metadata": {},
   "outputs": [],
   "source": [
    "#Ans3:The main difference between supervised and unsupervised anomaly detection is the approach involved, where supervised approach makes use of predefined algorithms and AI training, while unsupervised approach uses a general outlier-detection mechanism based on pattern matching."
   ]
  },
  {
   "cell_type": "code",
   "execution_count": 4,
   "id": "08ea9bd7",
   "metadata": {},
   "outputs": [],
   "source": [
    "#Ans4:The most popular unsupervised anomaly detection algorithms include Isolation Forest ,DBSCAN Clustering,Local Outlier factor Anomaly Detection"
   ]
  },
  {
   "cell_type": "code",
   "execution_count": 5,
   "id": "d301a7f1",
   "metadata": {},
   "outputs": [],
   "source": [
    "#Ans5:If it is outlier then assume the no other data point is around"
   ]
  },
  {
   "cell_type": "code",
   "execution_count": 7,
   "id": "4f69f069",
   "metadata": {},
   "outputs": [],
   "source": [
    "#Ans6:The Local Outlier Factor (LOF) algorithm is an unsupervised anomaly detection method which computes the local density deviation of a given data point with respect to its neighbors."
   ]
  },
  {
   "cell_type": "code",
   "execution_count": 8,
   "id": "a71079be",
   "metadata": {},
   "outputs": [],
   "source": [
    "#Ans7:Formula is s=2^-E(h(n))/c(m) where E(h(x)) is the average search depth for n from the isolated tree and c(m) is the average depth of all the data point  "
   ]
  },
  {
   "cell_type": "code",
   "execution_count": 9,
   "id": "30801779",
   "metadata": {},
   "outputs": [],
   "source": [
    "#Ans8:Anomaly Score: Since all K=10 neighbors are of the same class, we can consider the data point as a normal instance, and its anomaly score would be low or close to 0. Anomaly Score = 0."
   ]
  },
  {
   "cell_type": "code",
   "execution_count": 10,
   "id": "6de3e976",
   "metadata": {},
   "outputs": [],
   "source": [
    "#S=2^-5/10=0.5"
   ]
  },
  {
   "cell_type": "code",
   "execution_count": null,
   "id": "de161e3e",
   "metadata": {},
   "outputs": [],
   "source": []
  },
  {
   "cell_type": "code",
   "execution_count": null,
   "id": "e448f8e8",
   "metadata": {},
   "outputs": [],
   "source": []
  },
  {
   "cell_type": "code",
   "execution_count": null,
   "id": "e76783ab",
   "metadata": {},
   "outputs": [],
   "source": []
  }
 ],
 "metadata": {
  "kernelspec": {
   "display_name": "Python 3 (ipykernel)",
   "language": "python",
   "name": "python3"
  },
  "language_info": {
   "codemirror_mode": {
    "name": "ipython",
    "version": 3
   },
   "file_extension": ".py",
   "mimetype": "text/x-python",
   "name": "python",
   "nbconvert_exporter": "python",
   "pygments_lexer": "ipython3",
   "version": "3.9.12"
  }
 },
 "nbformat": 4,
 "nbformat_minor": 5
}

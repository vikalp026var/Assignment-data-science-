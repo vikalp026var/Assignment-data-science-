{
 "cells": [
  {
   "cell_type": "code",
   "execution_count": 1,
   "id": "626c5f55",
   "metadata": {},
   "outputs": [],
   "source": [
    "#Ans1:Elastic Net Regression is the combination of Lasso and the ridge Regression.It differs other regression techinques by the regulariation it handle both regulartion L1 and L2."
   ]
  },
  {
   "cell_type": "code",
   "execution_count": 2,
   "id": "27a26867",
   "metadata": {},
   "outputs": [],
   "source": [
    "#Ans2:If the slope is minimum then we choose the optimal values of the regularisation."
   ]
  },
  {
   "cell_type": "code",
   "execution_count": 3,
   "id": "60276aa7",
   "metadata": {},
   "outputs": [],
   "source": [
    "#Ans3:Advantage:\n",
    "#It handle both penalties.\n",
    "#Disadvantage:\n",
    "#the sequential cross-validation procedure used to determine the penalty parameters results in overshrinkage of the coefficients."
   ]
  },
  {
   "cell_type": "code",
   "execution_count": 4,
   "id": "f25c528b",
   "metadata": {},
   "outputs": [],
   "source": [
    "#Ans4:If we have the working of the reduce the overfitting as well as feature selection both then we use the Elastic Net Regression"
   ]
  },
  {
   "cell_type": "code",
   "execution_count": 5,
   "id": "23f17721",
   "metadata": {},
   "outputs": [],
   "source": [
    "#Ans5:The cofficient shrinks to zero "
   ]
  },
  {
   "cell_type": "code",
   "execution_count": 6,
   "id": "074df307",
   "metadata": {},
   "outputs": [],
   "source": [
    "#Ans6:By the feature Enginnering if the value is miss then use either mean of the other values,or median ."
   ]
  },
  {
   "cell_type": "code",
   "execution_count": 7,
   "id": "9a33ac67",
   "metadata": {},
   "outputs": [],
   "source": [
    "#Ans7:Through L1 Regularisation and Lasso regression"
   ]
  },
  {
   "cell_type": "code",
   "execution_count": 8,
   "id": "f4517cac",
   "metadata": {},
   "outputs": [],
   "source": [
    "#Ans8:By pickle module we use them "
   ]
  },
  {
   "cell_type": "code",
   "execution_count": 9,
   "id": "01f72f8d",
   "metadata": {},
   "outputs": [],
   "source": [
    "#Ans9:If we want to train the model store in disk then we have to make the pickle file and then deploy on aws,Azure,etc"
   ]
  },
  {
   "cell_type": "code",
   "execution_count": null,
   "id": "77633fd3",
   "metadata": {},
   "outputs": [],
   "source": []
  }
 ],
 "metadata": {
  "kernelspec": {
   "display_name": "Python 3 (ipykernel)",
   "language": "python",
   "name": "python3"
  },
  "language_info": {
   "codemirror_mode": {
    "name": "ipython",
    "version": 3
   },
   "file_extension": ".py",
   "mimetype": "text/x-python",
   "name": "python",
   "nbconvert_exporter": "python",
   "pygments_lexer": "ipython3",
   "version": "3.9.12"
  }
 },
 "nbformat": 4,
 "nbformat_minor": 5
}

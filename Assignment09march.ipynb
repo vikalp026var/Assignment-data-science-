{
 "cells": [
  {
   "cell_type": "code",
   "execution_count": 2,
   "id": "85a86794",
   "metadata": {},
   "outputs": [],
   "source": [
    "#Ans1:Probability Mass Function is a discrete Distribution whereas Probability Distribution is a continueous distribution function.\n",
    "#Example of PMF is Tossing a coin and for distribute the height of adults."
   ]
  },
  {
   "cell_type": "code",
   "execution_count": 3,
   "id": "38dd3a68",
   "metadata": {},
   "outputs": [],
   "source": [
    "#Ans2:The Cumulative Distribution Function (CDF) of a real-valued random variable X, evaluated at x, is the probability function that X will take a value less than or equal to x. It is used to describe the probability distribution of random variables in a table."
   ]
  },
  {
   "cell_type": "code",
   "execution_count": 4,
   "id": "89e61567",
   "metadata": {},
   "outputs": [],
   "source": [
    "#Ans3:Height, birth weight, reading ability, job satisfaction are the some examples .It will be the bell curve "
   ]
  },
  {
   "cell_type": "code",
   "execution_count": 8,
   "id": "8e38ed43",
   "metadata": {},
   "outputs": [],
   "source": [
    "#Ans4:It is also called guassian distribution and used to find the mean and median and mode .\n",
    "#Examples are coin ,age ."
   ]
  },
  {
   "cell_type": "code",
   "execution_count": 9,
   "id": "381750b3",
   "metadata": {},
   "outputs": [],
   "source": [
    "#Ans5:The discrete probability distribution of a random variable which takes the value 0 with probability q=1-p.\n",
    "#Examples:Tossing a coin or person will pass or not .Group of bernoulli is Binomial ."
   ]
  },
  {
   "cell_type": "code",
   "execution_count": 10,
   "id": "744e3b53",
   "metadata": {},
   "outputs": [],
   "source": [
    "#Ans6:u=50,std=10,Z_score=60-50/10=1\n",
    "#so probality is 1"
   ]
  },
  {
   "cell_type": "code",
   "execution_count": 12,
   "id": "c6ca15b1",
   "metadata": {},
   "outputs": [],
   "source": [
    "#Ans7:Uniform ditribution can be defined as the value is ditribute normally can be say as the symmetic .\n",
    "#Ex:-age."
   ]
  },
  {
   "cell_type": "code",
   "execution_count": 13,
   "id": "991895a5",
   "metadata": {},
   "outputs": [],
   "source": [
    "#Ans8:Z_score is used to standarise the value.Z_score=x(i)-u/std.It is used to find the area."
   ]
  },
  {
   "cell_type": "code",
   "execution_count": 14,
   "id": "4323c42c",
   "metadata": {},
   "outputs": [],
   "source": [
    "#Ans9:The sampling distribution of the mean will always be normally distributed as long as the sample size is large .\n",
    "#Significance is  it allows us to safely assume that the sampling distribution of the mean will be normal in most cases."
   ]
  },
  {
   "cell_type": "code",
   "execution_count": null,
   "id": "7a0251b9",
   "metadata": {},
   "outputs": [],
   "source": [
    "#Ans10:    The data must have randomization rule. It needs to be sampled at random.\n",
    "   # The samples should be unrelated to one another. One sample should not impact the others.\n",
    "#When taking samples without replacement, the sample size should not exceed 10% of the population."
   ]
  }
 ],
 "metadata": {
  "kernelspec": {
   "display_name": "Python 3 (ipykernel)",
   "language": "python",
   "name": "python3"
  },
  "language_info": {
   "codemirror_mode": {
    "name": "ipython",
    "version": 3
   },
   "file_extension": ".py",
   "mimetype": "text/x-python",
   "name": "python",
   "nbconvert_exporter": "python",
   "pygments_lexer": "ipython3",
   "version": "3.9.12"
  }
 },
 "nbformat": 4,
 "nbformat_minor": 5
}

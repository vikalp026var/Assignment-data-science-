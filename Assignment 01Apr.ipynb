{
 "cells": [
  {
   "cell_type": "code",
   "execution_count": 1,
   "id": "d95ea9c6",
   "metadata": {},
   "outputs": [],
   "source": [
    "#Ans1: Linear Regression is a type of regression which defines the relationship between the dependent and independent variable is continous .\n",
    "#Logistic Regression is a type of classification where model is realtionship between the dependent and independent varable is categorical .\n",
    "#Example is when we have the know the many sysptoms about the disease then model can predict where the person have disease or not ."
   ]
  },
  {
   "cell_type": "code",
   "execution_count": 2,
   "id": "81ca79df",
   "metadata": {},
   "outputs": [],
   "source": [
    "#Ans2:cost function 1/1+e^-(b0+b1x)\n",
    "#it is optimized when it lies between the 0 or 1"
   ]
  },
  {
   "cell_type": "code",
   "execution_count": 3,
   "id": "a426f006",
   "metadata": {},
   "outputs": [],
   "source": [
    "#Ans3:L1 which selects the features ,L2 which reduce the overfitting,Elasticnet which is the combination of L1,L2."
   ]
  },
  {
   "cell_type": "code",
   "execution_count": 4,
   "id": "201706b0",
   "metadata": {},
   "outputs": [],
   "source": [
    "#Ans4:ROC curve is give the area that how much the model is accurate ,it curves the the give the accuracy."
   ]
  },
  {
   "cell_type": "code",
   "execution_count": 5,
   "id": "64369356",
   "metadata": {},
   "outputs": [],
   "source": [
    "#Ans5:Which is L1 regularisation which selects the feature ,it reduce the overfitting reduce the features which is correlate more."
   ]
  },
  {
   "cell_type": "code",
   "execution_count": 6,
   "id": "86c5d178",
   "metadata": {},
   "outputs": [],
   "source": [
    "#Ans6:By the Stratified k fold cross Validation in which we define the k and we make the fold for validation and other dataset is used for training and validation data is used for predictions"
   ]
  },
  {
   "cell_type": "code",
   "execution_count": null,
   "id": "39a903ec",
   "metadata": {},
   "outputs": [],
   "source": [
    "#ANS7:Yes when the outliers is present the best fir line is move towards the outliers which predict more than 1 or less than 0.if the multicolliearity is present then we can select the features through L1 regularisation."
   ]
  }
 ],
 "metadata": {
  "kernelspec": {
   "display_name": "Python 3 (ipykernel)",
   "language": "python",
   "name": "python3"
  },
  "language_info": {
   "codemirror_mode": {
    "name": "ipython",
    "version": 3
   },
   "file_extension": ".py",
   "mimetype": "text/x-python",
   "name": "python",
   "nbconvert_exporter": "python",
   "pygments_lexer": "ipython3",
   "version": "3.9.12"
  }
 },
 "nbformat": 4,
 "nbformat_minor": 5
}

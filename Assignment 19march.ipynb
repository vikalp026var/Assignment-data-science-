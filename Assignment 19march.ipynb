{
 "cells": [
  {
   "cell_type": "code",
   "execution_count": 1,
   "id": "a50bd175",
   "metadata": {},
   "outputs": [],
   "source": [
    "#Ans1: Min Max Scaling is used to scaled the numerical data into range between 0 and 1.\n",
    "#Its application is performs a linear transformation on the original data ."
   ]
  },
  {
   "cell_type": "code",
   "execution_count": 2,
   "id": "e640bf7e",
   "metadata": {},
   "outputs": [],
   "source": [
    "#Ans2:Unit vector is nothing but its magnitude is 1 and its formula is A(cap)=A(vector)/|A|.\n",
    "#Its application is Scaling is done considering the whole feature vector to be of unit length. "
   ]
  },
  {
   "cell_type": "code",
   "execution_count": 3,
   "id": "17501a05",
   "metadata": {},
   "outputs": [],
   "source": [
    "#Ans3:PCA is nothing but Principal component anallysis which is used to reduce the dimension .When the feature is correlate with the others so we are ignore the dimension which is correlate the others by using the pca .\n",
    "#Example is Date and Day is the feature of any dataset so we can delete the feature of Day which is correlate to Date ."
   ]
  },
  {
   "cell_type": "code",
   "execution_count": 4,
   "id": "71023f52",
   "metadata": {},
   "outputs": [],
   "source": [
    "#Ans4:PCA is the technique of Feature Extraction .PCA is nothing but Principal component anallysis which is used to reduce the dimension .When the feature is correlate with the others so we are ignore the dimension which is correlate the others by using the pca .\n",
    "#Example is Date and Day is the feature of any dataset so we can delete the feature of Day which is correlate to Date .this is the example of Feature Extraction "
   ]
  },
  {
   "cell_type": "code",
   "execution_count": 5,
   "id": "f5cd055f",
   "metadata": {},
   "outputs": [],
   "source": [
    "#ANs5:Here we have the features of  price ,rafting and the delivery time of recommendation system .Firstly we have the find maximum value and the minimum value of the features and then apply the formula x-xmin/xmax-xmin.then the scale the data between the 0 and 1 and then store the scale data  into new valriable and then the delete the orginial fetaure ."
   ]
  },
  {
   "cell_type": "code",
   "execution_count": 6,
   "id": "7462cfd1",
   "metadata": {},
   "outputs": [],
   "source": [
    "#Ans6:If we have the features of dataset which is company and financial data  and  then select the feature which is most important whcih is give the unique information "
   ]
  },
  {
   "cell_type": "code",
   "execution_count": 7,
   "id": "29013ded",
   "metadata": {},
   "outputs": [],
   "source": [
    "#Ans7:\n",
    "a=[1,5,10,15,20]\n",
    "import pandas as pd"
   ]
  },
  {
   "cell_type": "code",
   "execution_count": 8,
   "id": "77e2b9ff",
   "metadata": {},
   "outputs": [
    {
     "data": {
      "text/html": [
       "<div>\n",
       "<style scoped>\n",
       "    .dataframe tbody tr th:only-of-type {\n",
       "        vertical-align: middle;\n",
       "    }\n",
       "\n",
       "    .dataframe tbody tr th {\n",
       "        vertical-align: top;\n",
       "    }\n",
       "\n",
       "    .dataframe thead th {\n",
       "        text-align: right;\n",
       "    }\n",
       "</style>\n",
       "<table border=\"1\" class=\"dataframe\">\n",
       "  <thead>\n",
       "    <tr style=\"text-align: right;\">\n",
       "      <th></th>\n",
       "      <th>0</th>\n",
       "    </tr>\n",
       "  </thead>\n",
       "  <tbody>\n",
       "    <tr>\n",
       "      <th>0</th>\n",
       "      <td>1</td>\n",
       "    </tr>\n",
       "    <tr>\n",
       "      <th>1</th>\n",
       "      <td>5</td>\n",
       "    </tr>\n",
       "    <tr>\n",
       "      <th>2</th>\n",
       "      <td>10</td>\n",
       "    </tr>\n",
       "    <tr>\n",
       "      <th>3</th>\n",
       "      <td>15</td>\n",
       "    </tr>\n",
       "    <tr>\n",
       "      <th>4</th>\n",
       "      <td>20</td>\n",
       "    </tr>\n",
       "  </tbody>\n",
       "</table>\n",
       "</div>"
      ],
      "text/plain": [
       "    0\n",
       "0   1\n",
       "1   5\n",
       "2  10\n",
       "3  15\n",
       "4  20"
      ]
     },
     "execution_count": 8,
     "metadata": {},
     "output_type": "execute_result"
    }
   ],
   "source": [
    "pd.DataFrame(a)"
   ]
  },
  {
   "cell_type": "code",
   "execution_count": 18,
   "id": "b05767d6",
   "metadata": {},
   "outputs": [],
   "source": [
    "# X_scaled = (1 - 1) / (20 - 1) * (1 - (-1)) + (-1)\n",
    "# = 0 / 19 * 2 - 1\n",
    "# = -1\n",
    "\n",
    "# For the value 5:\n",
    "# X_scaled = (5 - 1) / (20 - 1) * (1 - (-1)) + (-1)\n",
    "# = 4 / 19 * 2 - 1\n",
    "# = -0.7368\n",
    "\n",
    "# For the value 10:\n",
    "# X_scaled = (10 - 1) / (20 - 1) * (1 - (-1)) + (-1)\n",
    "# = 9 / 19 * 2 - 1\n",
    "# = -0.2632\n",
    "\n",
    "# For the value 15:\n",
    "# X_scaled = (15 - 1) / (20 - 1) * (1 - (-1)) + (-1)\n",
    "# = 14 / 19 * 2 - 1\n",
    "# = 0.2632\n",
    "\n",
    "# For the value 20:\n",
    "# X_scaled = (20 - 1) / (20 - 1) * (1 - (-1)) + (-1)\n",
    "# = 19 / 19 * 2 - 1\n",
    "# = 1"
   ]
  },
  {
   "cell_type": "code",
   "execution_count": null,
   "id": "ab7c70f9",
   "metadata": {},
   "outputs": [],
   "source": [
    "#Ans8:"
   ]
  }
 ],
 "metadata": {
  "kernelspec": {
   "display_name": "Python 3 (ipykernel)",
   "language": "python",
   "name": "python3"
  },
  "language_info": {
   "codemirror_mode": {
    "name": "ipython",
    "version": 3
   },
   "file_extension": ".py",
   "mimetype": "text/x-python",
   "name": "python",
   "nbconvert_exporter": "python",
   "pygments_lexer": "ipython3",
   "version": "3.9.12"
  }
 },
 "nbformat": 4,
 "nbformat_minor": 5
}

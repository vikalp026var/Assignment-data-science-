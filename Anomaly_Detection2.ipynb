{
 "cells": [
  {
   "cell_type": "code",
   "execution_count": 1,
   "id": "23509a69",
   "metadata": {},
   "outputs": [],
   "source": [
    "#Ans1:A method for automatic feature selection in anomaly detection is proposed which determines optimal mixture coefficients for various sets of features. "
   ]
  },
  {
   "cell_type": "code",
   "execution_count": 2,
   "id": "7b034bc8",
   "metadata": {},
   "outputs": [],
   "source": [
    "#Ans2:Isolation Forest Anomaly Detection ,DBSACN Anomaly Detection,Local Outlier Function used to detect the outlier"
   ]
  },
  {
   "cell_type": "code",
   "execution_count": 3,
   "id": "e1d1bb06",
   "metadata": {},
   "outputs": [],
   "source": [
    "#Ans3:DBSACN stands for density-based spatial clustering of applications with noise.It works depend on hyperparameters means ther are two hyperparameter one is radius and second one is min. points and there three\n",
    "#componenets one is core point,border point and noise point \n",
    "#if the data point is greater than the minpoint then it will be core point and if the data point is less than than minpoints then it will be border point and if the data point is no around the center then it will be noise or outlier "
   ]
  },
  {
   "cell_type": "code",
   "execution_count": 4,
   "id": "6daddb7d",
   "metadata": {},
   "outputs": [],
   "source": [
    "#Ans4:Epsilon mean minimum point it help to dettect the outlier ."
   ]
  },
  {
   "cell_type": "code",
   "execution_count": 5,
   "id": "8e5da79f",
   "metadata": {},
   "outputs": [],
   "source": [
    "#ANs5:DBSACN stands for density-based spatial clustering of applications with noise.It works depend on hyperparameters means ther are two hyperparameter one is radius and second one is min. points and there three\n",
    "#componenets one is core point,border point and noise point \n",
    "#if the data point is greater than the minpoint then it will be core point and if the data point is less than than minpoints then it will be border point and if the data point is no around the center then it will be noise or outlier "
   ]
  },
  {
   "cell_type": "code",
   "execution_count": 6,
   "id": "70cc30a4",
   "metadata": {},
   "outputs": [],
   "source": [
    "#Ams6:One is radius and second one is minipoint "
   ]
  },
  {
   "cell_type": "code",
   "execution_count": 7,
   "id": "674535ed",
   "metadata": {},
   "outputs": [],
   "source": [
    "#Ans7:for clustering "
   ]
  },
  {
   "cell_type": "code",
   "execution_count": 8,
   "id": "889c0ac2",
   "metadata": {},
   "outputs": [],
   "source": [
    "#Ans8:local outlier means it is probably near to the data point and global oultlier it is probably far from data point  "
   ]
  },
  {
   "cell_type": "code",
   "execution_count": null,
   "id": "69d591b3",
   "metadata": {},
   "outputs": [],
   "source": [
    "#Ans10:if the S=2^-E(h(m))"
   ]
  }
 ],
 "metadata": {
  "kernelspec": {
   "display_name": "Python 3 (ipykernel)",
   "language": "python",
   "name": "python3"
  },
  "language_info": {
   "codemirror_mode": {
    "name": "ipython",
    "version": 3
   },
   "file_extension": ".py",
   "mimetype": "text/x-python",
   "name": "python",
   "nbconvert_exporter": "python",
   "pygments_lexer": "ipython3",
   "version": "3.9.12"
  }
 },
 "nbformat": 4,
 "nbformat_minor": 5
}

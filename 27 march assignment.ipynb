{
 "cells": [
  {
   "cell_type": "code",
   "execution_count": 1,
   "id": "edbf5784",
   "metadata": {},
   "outputs": [],
   "source": [
    "#Ans1: R squared is measure the accuracy of regression .\n",
    "#formula is 1-SSE/TSS"
   ]
  },
  {
   "cell_type": "code",
   "execution_count": 3,
   "id": "bb3ea92a",
   "metadata": {},
   "outputs": [],
   "source": [
    "#Ans2:Adjusted R^2 is also measure the accuracy of regression.it is differ from r^2 square as R^2 is greater than adjusted r^2 ."
   ]
  },
  {
   "cell_type": "code",
   "execution_count": 6,
   "id": "22687934",
   "metadata": {},
   "outputs": [],
   "source": [
    "#Ans3:when there are multiple variables in the regression model. "
   ]
  },
  {
   "cell_type": "code",
   "execution_count": 8,
   "id": "738fe010",
   "metadata": {},
   "outputs": [],
   "source": [
    "#ANs4:RMSE is Root Mean Square Error ,MSE is Mean Squared Error ,MAE is Mean Absolute Error .\n",
    "#RMSE=sqrt((yi-y^)^2/n)\n",
    "#MSE=(yi-y^)^2/n\n",
    "#MAE=|yi-y^i|/n"
   ]
  },
  {
   "cell_type": "code",
   "execution_count": 9,
   "id": "565aed3c",
   "metadata": {},
   "outputs": [],
   "source": [
    "#Ans5: Advantage :-\n",
    "#MSE\n",
    "#(i)Equation is differentiable.\n",
    "#(ii)It has only one local or global minima .\n",
    "#MAE\n",
    "#(i)Robust to Outlier \n",
    "#(ii)It is in same unit .\n",
    "#RMSE\n",
    "#(i)It is same unit \n",
    "#(ii)It is Differentaible\n",
    "#Disadvantage:-\n",
    "#MSE\n",
    "#(i)Not Robust to outlier.\n",
    "#(ii)It is not in same unit \n",
    "#MAE:-\n",
    "#(i)Convergence takes more time .\n",
    "#RMSE\n",
    "#(i)Not Robust to outlier\n"
   ]
  },
  {
   "cell_type": "code",
   "execution_count": 10,
   "id": "913ba5bc",
   "metadata": {},
   "outputs": [],
   "source": [
    "#ANs6:lasso Regression is L2 regularisation which help in reduce the overfitting.\n",
    "#It is also help in feature selectio by making the cofficient zero .\n",
    "#It approciate use in when we have more independent features"
   ]
  },
  {
   "cell_type": "code",
   "execution_count": 12,
   "id": "a0aa037d",
   "metadata": {},
   "outputs": [],
   "source": [
    "# Ans7:By the formula \n",
    "#cost=(yi-y^)^2/n+lambda(m)^2\n",
    "#by adding the lambda which is vary for different the input features"
   ]
  },
  {
   "cell_type": "code",
   "execution_count": 13,
   "id": "053b42c2",
   "metadata": {},
   "outputs": [],
   "source": [
    "#Ans8:Regularization leads to dimensionality reduction.Becuase they reduce the dimension "
   ]
  },
  {
   "cell_type": "code",
   "execution_count": 15,
   "id": "9432089d",
   "metadata": {},
   "outputs": [],
   "source": [
    "#Ans9:B beacuse MAE is less than A.No"
   ]
  },
  {
   "cell_type": "code",
   "execution_count": 16,
   "id": "b99b2961",
   "metadata": {},
   "outputs": [],
   "source": [
    "#Ans10: We will choose the B model "
   ]
  },
  {
   "cell_type": "code",
   "execution_count": null,
   "id": "1f935dfd",
   "metadata": {},
   "outputs": [],
   "source": []
  }
 ],
 "metadata": {
  "kernelspec": {
   "display_name": "Python 3 (ipykernel)",
   "language": "python",
   "name": "python3"
  },
  "language_info": {
   "codemirror_mode": {
    "name": "ipython",
    "version": 3
   },
   "file_extension": ".py",
   "mimetype": "text/x-python",
   "name": "python",
   "nbconvert_exporter": "python",
   "pygments_lexer": "ipython3",
   "version": "3.9.12"
  }
 },
 "nbformat": 4,
 "nbformat_minor": 5
}

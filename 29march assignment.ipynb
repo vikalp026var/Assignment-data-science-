{
 "cells": [
  {
   "cell_type": "code",
   "execution_count": 1,
   "id": "a4fe5aaf",
   "metadata": {},
   "outputs": [],
   "source": [
    "#Ans1: Lasso Regression is L1 regularisation and used for feature selection"
   ]
  },
  {
   "cell_type": "code",
   "execution_count": 2,
   "id": "b2070d5a",
   "metadata": {},
   "outputs": [],
   "source": [
    "#Ans2:It reduce the irrevalant feature"
   ]
  },
  {
   "cell_type": "code",
   "execution_count": 3,
   "id": "81d8d2d5",
   "metadata": {},
   "outputs": [],
   "source": [
    "#Ans3: if the slope is minimum"
   ]
  },
  {
   "cell_type": "code",
   "execution_count": 4,
   "id": "81a7210d",
   "metadata": {},
   "outputs": [],
   "source": [
    "#ans4:Lambda is tuning parameter if the we choose the parameter according to slope then it reduce feature "
   ]
  },
  {
   "cell_type": "code",
   "execution_count": 5,
   "id": "05000a76",
   "metadata": {},
   "outputs": [],
   "source": [
    "#Ans5:No  propose imposing a weighted lasso penalty on a nonlinear regression model and thereby selecting the number of basis functions effectively."
   ]
  },
  {
   "cell_type": "code",
   "execution_count": 6,
   "id": "14eb347d",
   "metadata": {},
   "outputs": [],
   "source": [
    "#Ans6:Ridge Regression is L2 regulariation and use for reduce the overfitting whereas Lasso regression L2 regularistaion and use for feature selection"
   ]
  },
  {
   "cell_type": "code",
   "execution_count": 7,
   "id": "aa15b5c7",
   "metadata": {},
   "outputs": [],
   "source": [
    "#Ans7: Yes it reduce the multicollinarity "
   ]
  },
  {
   "cell_type": "code",
   "execution_count": null,
   "id": "c0b1a15e",
   "metadata": {},
   "outputs": [],
   "source": [
    "#Ans8:"
   ]
  }
 ],
 "metadata": {
  "kernelspec": {
   "display_name": "Python 3 (ipykernel)",
   "language": "python",
   "name": "python3"
  },
  "language_info": {
   "codemirror_mode": {
    "name": "ipython",
    "version": 3
   },
   "file_extension": ".py",
   "mimetype": "text/x-python",
   "name": "python",
   "nbconvert_exporter": "python",
   "pygments_lexer": "ipython3",
   "version": "3.9.12"
  }
 },
 "nbformat": 4,
 "nbformat_minor": 5
}

{
 "cells": [
  {
   "cell_type": "code",
   "execution_count": 1,
   "id": "38717373",
   "metadata": {},
   "outputs": [],
   "source": [
    "#Ans1: Database is a system that stores the data and anyalsis them .\n",
    "#In SQL the data is arranged in structure way but in NOSQL the data is not arranged in particular structure .\n"
   ]
  },
  {
   "cell_type": "code",
   "execution_count": 2,
   "id": "c0f4e431",
   "metadata": {},
   "outputs": [],
   "source": [
    "#ANS2: Data Definition Language (DDL) is used to create and modify the structure of objects in a database using predefined commands and a specific syntax. \n",
    "#Create is used to create the table ,Drop is used to drop the data,ALTER is used to update the structure of the table in the database and Truncate is used to delete the data."
   ]
  },
  {
   "cell_type": "code",
   "execution_count": 3,
   "id": "185c5902",
   "metadata": {},
   "outputs": [],
   "source": [
    "#Ans3: Data Manipulation Language which is used to manipulate data itself.Insert is ued to insert the data in the database,Update is ued to update the data structure,Delete is ued to delete the data ."
   ]
  },
  {
   "cell_type": "code",
   "execution_count": 4,
   "id": "1d383474",
   "metadata": {},
   "outputs": [],
   "source": [
    "#Ans5: A primary key is used to ensure data in the specific column is unique.A foreign key is a column or group of columns in a relational database table that provides a link between data in two tables. "
   ]
  },
  {
   "cell_type": "code",
   "execution_count": 6,
   "id": "cd58e22d",
   "metadata": {},
   "outputs": [
    {
     "ename": "ModuleNotFoundError",
     "evalue": "No module named 'mysql'",
     "output_type": "error",
     "traceback": [
      "\u001b[1;31m---------------------------------------------------------------------------\u001b[0m",
      "\u001b[1;31mModuleNotFoundError\u001b[0m                       Traceback (most recent call last)",
      "Input \u001b[1;32mIn [6]\u001b[0m, in \u001b[0;36m<cell line: 2>\u001b[1;34m()\u001b[0m\n\u001b[0;32m      1\u001b[0m \u001b[38;5;66;03m#Ans6:\u001b[39;00m\n\u001b[1;32m----> 2\u001b[0m \u001b[38;5;28;01mimport\u001b[39;00m \u001b[38;5;21;01mmysql\u001b[39;00m\u001b[38;5;21;01m.\u001b[39;00m\u001b[38;5;21;01mconnector\u001b[39;00m\n\u001b[0;32m      3\u001b[0m mydb\u001b[38;5;241m=\u001b[39mmysql\u001b[38;5;241m.\u001b[39mconnector\u001b[38;5;241m.\u001b[39mconnect(\n\u001b[0;32m      4\u001b[0m host\u001b[38;5;241m=\u001b[39m\u001b[38;5;124m\"\u001b[39m\u001b[38;5;124mlocalhost\u001b[39m\u001b[38;5;124m\"\u001b[39m,\n\u001b[0;32m      5\u001b[0m user\u001b[38;5;241m=\u001b[39m\u001b[38;5;124m\"\u001b[39m\u001b[38;5;124mabc\u001b[39m\u001b[38;5;124m\"\u001b[39m,\n\u001b[0;32m      6\u001b[0m password\u001b[38;5;241m=\u001b[39m\u001b[38;5;124m\"\u001b[39m\u001b[38;5;124mpassword\u001b[39m\u001b[38;5;124m\"\u001b[39m)\n\u001b[0;32m      7\u001b[0m \u001b[38;5;28mprint\u001b[39m(mydb)\n",
      "\u001b[1;31mModuleNotFoundError\u001b[0m: No module named 'mysql'"
     ]
    }
   ],
   "source": [
    "#Ans6:\n",
    "import mysql.connector\n",
    "mydb=mysql.connector.connect(\n",
    "host=\"localhost\",\n",
    "user=\"abc\",\n",
    "password=\"password\")\n",
    "print(mydb)\n",
    "mycursor=mydb.cursor()\n",
    "mycursor.execute(\"Show Data base\")\n",
    "for x in mycursor:\n",
    "    print(x)\n",
    "#cursor is point to each data in the table,execute means the data into the database"
   ]
  },
  {
   "cell_type": "code",
   "execution_count": 7,
   "id": "846b5a14",
   "metadata": {},
   "outputs": [
    {
     "ename": "SyntaxError",
     "evalue": "invalid syntax (1722576521.py, line 2)",
     "output_type": "error",
     "traceback": [
      "\u001b[1;36m  Input \u001b[1;32mIn [7]\u001b[1;36m\u001b[0m\n\u001b[1;33m    SELECT Customers.customer_id, Customers.first_name, Orders.amount, Orders.order_id\u001b[0m\n\u001b[1;37m           ^\u001b[0m\n\u001b[1;31mSyntaxError\u001b[0m\u001b[1;31m:\u001b[0m invalid syntax\n"
     ]
    }
   ],
   "source": [
    "#Ans7:\n",
    "SELECT Customers.customer_id, Customers.first_name, Orders.amount, Orders.order_id\n",
    "FROM Customers\n",
    "JOIN Orders\n",
    "ON Customers.customer_id = Orders.customer_id\n",
    "WHERE Orders.order_id <=4\n",
    "ORDER BY Orders.order_id ASC\n",
    "LIMIT 2\n"
   ]
  },
  {
   "cell_type": "code",
   "execution_count": 8,
   "id": "72ccc2cc",
   "metadata": {},
   "outputs": [
    {
     "ename": "SyntaxError",
     "evalue": "invalid syntax (4133763382.py, line 1)",
     "output_type": "error",
     "traceback": [
      "\u001b[1;36m  Input \u001b[1;32mIn [8]\u001b[1;36m\u001b[0m\n\u001b[1;33m    SELECT first_name FROM Customers;\u001b[0m\n\u001b[1;37m           ^\u001b[0m\n\u001b[1;31mSyntaxError\u001b[0m\u001b[1;31m:\u001b[0m invalid syntax\n"
     ]
    }
   ],
   "source": [
    "SELECT first_name FROM Customers;\n"
   ]
  },
  {
   "cell_type": "code",
   "execution_count": null,
   "id": "b246bc73",
   "metadata": {},
   "outputs": [],
   "source": []
  }
 ],
 "metadata": {
  "kernelspec": {
   "display_name": "Python 3 (ipykernel)",
   "language": "python",
   "name": "python3"
  },
  "language_info": {
   "codemirror_mode": {
    "name": "ipython",
    "version": 3
   },
   "file_extension": ".py",
   "mimetype": "text/x-python",
   "name": "python",
   "nbconvert_exporter": "python",
   "pygments_lexer": "ipython3",
   "version": "3.9.12"
  }
 },
 "nbformat": 4,
 "nbformat_minor": 5
}

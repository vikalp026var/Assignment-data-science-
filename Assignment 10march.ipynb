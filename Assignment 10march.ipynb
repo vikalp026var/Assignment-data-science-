{
 "cells": [
  {
   "cell_type": "code",
   "execution_count": 1,
   "id": "57791b76",
   "metadata": {},
   "outputs": [],
   "source": [
    "#Ans1:It is the statisics which observed numerical value used to estimate an unknown populatin parameters\n",
    "#Point estimate is single numerical value used to estimate the unkonown population.\n",
    "#Interval Estimate is the range of values used to estimate the unknown population parameters interval ."
   ]
  },
  {
   "cell_type": "code",
   "execution_count": 2,
   "id": "6c9c2487",
   "metadata": {},
   "outputs": [],
   "source": [
    "#Ans2:\n",
    "import numpy as np\n",
    "def estimate(l):\n",
    "    print(np.mean(l))\n",
    "    print(np.std(l))"
   ]
  },
  {
   "cell_type": "code",
   "execution_count": 3,
   "id": "66dc70c8",
   "metadata": {},
   "outputs": [],
   "source": [
    "#ANs3:There are two testing in Hypothesis Testing 1.Null Hpothesis(H0) and 2.Alternate Hpothesis(H1)\n",
    "#Null Hpothesis :Lets assumption is correct \n",
    "#Alternate Hpothesis :Assumption is wrong \n",
    "#We can calculate based on testing and decide that null hpothesis is correct or wrong .\n"
   ]
  },
  {
   "cell_type": "code",
   "execution_count": 4,
   "id": "7ea1534d",
   "metadata": {},
   "outputs": [],
   "source": [
    "#Ans4:Null Hpothesis :the average weight of male college students is not greater than\n",
    "#the average weight of female college students.\n",
    "#Alternate Hpothesis :the average weight of male college students is   greater than\n",
    "#the average weight of female college students."
   ]
  },
  {
   "cell_type": "code",
   "execution_count": 5,
   "id": "428aa495",
   "metadata": {},
   "outputs": [
    {
     "name": "stdout",
     "output_type": "stream",
     "text": [
      "T-statistic: -2.44\n",
      "P-value: 0.0178\n",
      "Reject the null hypothesis: the means are significantly different.\n"
     ]
    }
   ],
   "source": [
    "#Ans5:\n",
    "import numpy as np\n",
    "from scipy.stats import ttest_ind\n",
    "pop1 = np.random.normal(loc=10, scale=2, size=100)\n",
    "pop2 = np.random.normal(loc=12, scale=2, size=100)\n",
    "sample1 = np.random.choice(pop1, size=30)\n",
    "sample2 = np.random.choice(pop2, size=30)\n",
    "t_stat, p_value = ttest_ind(sample1, sample2, equal_var=True)\n",
    "print(f\"T-statistic: {t_stat:.2f}\")\n",
    "print(f\"P-value: {p_value:.4f}\")\n",
    "alpha = 0.05\n",
    "if p_value < alpha:\n",
    "    print(\"Reject the null hypothesis: the means are significantly different.\")\n",
    "else:\n",
    "    print(\"Fail to reject the null hypothesis: there is not enough evidence to conclude that the means are different.\")\n"
   ]
  },
  {
   "cell_type": "code",
   "execution_count": 7,
   "id": "74c32cab",
   "metadata": {},
   "outputs": [],
   "source": [
    "#Ans6:Null Hpothesis :Lets assumption is correct\n",
    "#Example :The person is not guilty .\n",
    "#Alternate Hpothesis :Assumption is wrong\n",
    "#Example:The person is guilty "
   ]
  },
  {
   "cell_type": "code",
   "execution_count": 8,
   "id": "f557a5c9",
   "metadata": {},
   "outputs": [],
   "source": [
    "#Ans7:#Null Hpothesis :Lets assumption is correct \n",
    "#Alternate Hpothesis :Assumption is wrong \n",
    "#We can calculate based on testing and decide that null hpothesis is correct or wrong .\n"
   ]
  },
  {
   "cell_type": "code",
   "execution_count": 9,
   "id": "ba844a1c",
   "metadata": {},
   "outputs": [],
   "source": [
    "#Ans8:P value is a no calculated from a statics test how likely you are to have found a particular set of observation if it null hypothesis were true \n",
    "#P value is used in hypothesis testing to help decide whether to reject the null hpothesis .\n",
    "#P value<0.05 the the reject the null hypothesis ."
   ]
  },
  {
   "cell_type": "code",
   "execution_count": 12,
   "id": "137c3b07",
   "metadata": {},
   "outputs": [
    {
     "data": {
      "text/plain": [
       "Text(0.5, 1.0, 'T ditribution')"
      ]
     },
     "execution_count": 12,
     "metadata": {},
     "output_type": "execute_result"
    },
    {
     "data": {
      "image/png": "[encoded data removed]",
      "text/plain": [
       "<Figure size 432x288 with 1 Axes>"
      ]
     },
     "metadata": {
      "needs_background": "light"
     },
     "output_type": "display_data"
    }
   ],
   "source": [
    "#Ans9:\n",
    "import matplotlib.pyplot as plt\n",
    "import numpy as np\n",
    "from scipy.stats import t \n",
    "df=10\n",
    "x = np.linspace(t.ppf(0.01, df), t.ppf(0.99, df), 100)\n",
    "y = t.pdf(x, df)\n",
    "plt.plot(x,y,'r')\n",
    "plt.xlabel(\"X\")\n",
    "plt.ylabel(\"probability density \")\n",
    "plt.title(\"T ditribution\")"
   ]
  },
  {
   "cell_type": "code",
   "execution_count": 14,
   "id": "1dada73a",
   "metadata": {},
   "outputs": [],
   "source": [
    "#Ans11:Statiscial Analysis using the z_score population standard deviation .\n",
    "#if the we know the std deviation or sample size is less than 30."
   ]
  },
  {
   "cell_type": "code",
   "execution_count": 15,
   "id": "e42a77e6",
   "metadata": {},
   "outputs": [],
   "source": [
    "#Ans12:T test is used to find the hypothesis and the formula is same as the t=x-u/std/n^1/2"
   ]
  },
  {
   "cell_type": "code",
   "execution_count": 16,
   "id": "7f718bfc",
   "metadata": {},
   "outputs": [],
   "source": [
    "#Ans13:x=50,mean=500,std=50,CI=95%\n",
    "#Confidence interval = sample mean ± (t-value x standard error)\n",
    "#500 ± (2.009 x 7.07)\n",
    "# 500 ± 14.21\n",
    "#(485.79, 514.21)"
   ]
  },
  {
   "cell_type": "code",
   "execution_count": 18,
   "id": "d9baba77",
   "metadata": {},
   "outputs": [],
   "source": [
    "#Ans14:\n",
    "#x=100,mean=8,std=3,Aplha=0.05\n",
    "#t=x-mean/std/n*1/2\n",
    "#t=(8 - 10) / (3 / sqrt(100))\n",
    "#t= -4.47\n",
    "#t<aplha so we reject  null hpothesis .\n",
    "#it means that  blood is not less than 10mm hg "
   ]
  },
  {
   "cell_type": "code",
   "execution_count": 19,
   "id": "2e51e998",
   "metadata": {},
   "outputs": [],
   "source": [
    "#ANs15:mean=5,std=0.5,s=25,smean=4.8,aplha=0.01\n",
    "#t=5-4.8/0.5/5\n",
    "#2\n",
    "#which is greater than alpha so we accept the null hypothesis "
   ]
  },
  {
   "cell_type": "code",
   "execution_count": 21,
   "id": "8b51b86a",
   "metadata": {},
   "outputs": [],
   "source": [
    "#Ans16:\n",
    "#pooled standard deviation = sqrt(((30-1)*10^2 + (40-1)*8^2) / (30 + 40 - 2))\n",
    "#= 9.06\n",
    "#t = (5 - 0) / (9.06 * sqrt(1/30 + 1/40))\n",
    "#= 2.67\n",
    "#we reject the null hypothesis and conclude that the population means for the two groups are significantly different with a significance level of 0.01"
   ]
  },
  {
   "cell_type": "code",
   "execution_count": null,
   "id": "a222f485",
   "metadata": {},
   "outputs": [],
   "source": [
    "#Ans17:standard error = standard deviation / sqrt(sample size) = 1.5 / sqrt(50) = 0.212\n",
    "#Confidence interval = 4 ± 2.68 * 0.212\n",
    "#= (3.45, 4.55)\n",
    "#We can be 99% confident that the population mean number of ads watched by viewers during a TV program falls within the range of 3.45 to 4.55 ads."
   ]
  }
 ],
 "metadata": {
  "kernelspec": {
   "display_name": "Python 3 (ipykernel)",
   "language": "python",
   "name": "python3"
  },
  "language_info": {
   "codemirror_mode": {
    "name": "ipython",
    "version": 3
   },
   "file_extension": ".py",
   "mimetype": "text/x-python",
   "name": "python",
   "nbconvert_exporter": "python",
   "pygments_lexer": "ipython3",
   "version": "3.9.12"
  }
 },
 "nbformat": 4,
 "nbformat_minor": 5
}

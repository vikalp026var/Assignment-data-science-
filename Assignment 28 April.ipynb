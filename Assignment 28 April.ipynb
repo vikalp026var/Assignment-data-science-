{
 "cells": [
  {
   "cell_type": "code",
   "execution_count": 1,
   "id": "0b3190e7",
   "metadata": {},
   "outputs": [],
   "source": [
    "# Hierarchical Clustering is just like the cluster in heierachal form .It is very different from the other clustering techniques that it forms the cluster by taking one neighbour one another . "
   ]
  },
  {
   "cell_type": "code",
   "execution_count": 2,
   "id": "baeb621d",
   "metadata": {},
   "outputs": [],
   "source": [
    "#Ans2:First is Aggleromative and other is divisive .Aggleromative is just like that it forms the minor cluster to major cluster and the divisive is just like that the major cluster into minor cluster . "
   ]
  },
  {
   "cell_type": "code",
   "execution_count": 3,
   "id": "c30d7b61",
   "metadata": {},
   "outputs": [],
   "source": [
    "#Ans3:By euclidian distance we can the measure the ditance from their centroid "
   ]
  },
  {
   "cell_type": "code",
   "execution_count": 4,
   "id": "874a07ef",
   "metadata": {},
   "outputs": [],
   "source": [
    "#Ans4:By the elbow method we can measure the optimal value of k "
   ]
  },
  {
   "cell_type": "code",
   "execution_count": 5,
   "id": "50826959",
   "metadata": {},
   "outputs": [],
   "source": [
    "#Ans5:Dendogram is the combiantion of Aggleromative and the divisive ."
   ]
  },
  {
   "cell_type": "code",
   "execution_count": 6,
   "id": "ab21f4e9",
   "metadata": {},
   "outputs": [],
   "source": [
    "#Ans6:Hierarchical clustering can be used for both numeric and categorical data. However, the choice of distance metric may depend on the type of data being clustered. For numeric data, Euclidean distance is commonly used, while for categorical data, Manhattan distance or other distance metrics may be used."
   ]
  },
  {
   "cell_type": "code",
   "execution_count": null,
   "id": "ebb53e0b",
   "metadata": {},
   "outputs": [],
   "source": [
    "#Ans7:"
   ]
  }
 ],
 "metadata": {
  "kernelspec": {
   "display_name": "Python 3 (ipykernel)",
   "language": "python",
   "name": "python3"
  },
  "language_info": {
   "codemirror_mode": {
    "name": "ipython",
    "version": 3
   },
   "file_extension": ".py",
   "mimetype": "text/x-python",
   "name": "python",
   "nbconvert_exporter": "python",
   "pygments_lexer": "ipython3",
   "version": "3.9.12"
  }
 },
 "nbformat": 4,
 "nbformat_minor": 5
}

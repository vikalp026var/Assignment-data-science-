{
 "cells": [
  {
   "cell_type": "markdown",
   "id": "80206083",
   "metadata": {},
   "source": [
    "Ans1\n"
   ]
  },
  {
   "cell_type": "code",
   "execution_count": 1,
   "id": "d0032632",
   "metadata": {},
   "outputs": [],
   "source": [
    "#Artificial Intelligence :It is smart technique that can perform their own task without the human intervention.\n",
    "#Example:Alexa,Siri,Self Driving car the example of artificial intelligence .\n",
    "#Machine Learning:It is the subset of Artificial Intelligence that use  of data and algorithms to imitate the way that humans learn, gradually improving its accuracy.\n",
    "#Example:Credit Card Fraud Detection are the example of machine learning .\n",
    "#Deep Learning :It is the subset of machine learning which is the neural network .\n",
    "#Example :Image Processing ,Natural Language Processing are the example of Deep Learning ."
   ]
  },
  {
   "cell_type": "markdown",
   "id": "9d8f4414",
   "metadata": {},
   "source": [
    "Ans2:"
   ]
  },
  {
   "cell_type": "code",
   "execution_count": 2,
   "id": "121fdbb8",
   "metadata": {},
   "outputs": [],
   "source": [
    "#Supervised learning is the most imporatant part of Data Science that the user give the labelled data set means the input with their corresponding output to model and the model predict the output according their input .\n",
    "#Example:Regression,Classification etc."
   ]
  },
  {
   "cell_type": "markdown",
   "id": "be0a9233",
   "metadata": {},
   "source": [
    "Ans3:"
   ]
  },
  {
   "cell_type": "code",
   "execution_count": 3,
   "id": "a03de52c",
   "metadata": {},
   "outputs": [],
   "source": [
    "#Unsupervised learning is also the most important part of data Science in which user provide the unlabbeld data set means input but no corresponding output .\n",
    "#PCA,Kmeans Clustering etc."
   ]
  },
  {
   "cell_type": "markdown",
   "id": "f81c4f7e",
   "metadata": {},
   "source": [
    "Ans4:"
   ]
  },
  {
   "cell_type": "code",
   "execution_count": 4,
   "id": "6d98a4d6",
   "metadata": {},
   "outputs": [],
   "source": [
    "#ML,DL are the subset of AI and the DS is the superset of AI."
   ]
  },
  {
   "cell_type": "markdown",
   "id": "c23dcdfe",
   "metadata": {},
   "source": [
    "Ans5:"
   ]
  },
  {
   "cell_type": "code",
   "execution_count": 5,
   "id": "f67f220d",
   "metadata": {},
   "outputs": [],
   "source": [
    "#Supervised Learning is the way that the model takes the labelled data set And the Unsupervised is the way that the model take unlablled dataset and semisupervised is the way that the model take the labelled and unlabelled data set ."
   ]
  },
  {
   "cell_type": "markdown",
   "id": "48f6b467",
   "metadata": {},
   "source": [
    "Ans6:"
   ]
  },
  {
   "cell_type": "code",
   "execution_count": 6,
   "id": "b61b48e2",
   "metadata": {},
   "outputs": [],
   "source": [
    "#Basically data set is divide into train and test and validation set and the model is train by the train dataset and model test by test dataset through validation there is hypertuning mean take one data and check the error of model ."
   ]
  },
  {
   "cell_type": "markdown",
   "id": "18cf55bd",
   "metadata": {},
   "source": [
    "Ans7:"
   ]
  },
  {
   "cell_type": "code",
   "execution_count": 7,
   "id": "9e043c8f",
   "metadata": {},
   "outputs": [],
   "source": [
    "#Unsupervised Learning be used in anomaly detetion by making the clustering the similar data in a group"
   ]
  },
  {
   "cell_type": "markdown",
   "id": "b84b8b96",
   "metadata": {},
   "source": [
    "Ans8:"
   ]
  },
  {
   "cell_type": "code",
   "execution_count": 8,
   "id": "bf7704ac",
   "metadata": {},
   "outputs": [],
   "source": [
    "#Supervised Learning algorith use in regression ,classification,Decision tree.\n",
    "#Unsupervised Learning algorithm use in PCA ,K-means Clustering."
   ]
  },
  {
   "cell_type": "code",
   "execution_count": null,
   "id": "1e4826b0",
   "metadata": {},
   "outputs": [],
   "source": []
  }
 ],
 "metadata": {
  "kernelspec": {
   "display_name": "Python 3 (ipykernel)",
   "language": "python",
   "name": "python3"
  },
  "language_info": {
   "codemirror_mode": {
    "name": "ipython",
    "version": 3
   },
   "file_extension": ".py",
   "mimetype": "text/x-python",
   "name": "python",
   "nbconvert_exporter": "python",
   "pygments_lexer": "ipython3",
   "version": "3.9.12"
  }
 },
 "nbformat": 4,
 "nbformat_minor": 5
}

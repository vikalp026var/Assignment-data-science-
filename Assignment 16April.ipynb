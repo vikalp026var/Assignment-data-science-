{
 "cells": [
  {
   "cell_type": "code",
   "execution_count": 1,
   "id": "ba9b50ba",
   "metadata": {},
   "outputs": [],
   "source": [
    "#Ans1: Boosting is nothing but esemble of multiple Decision trees in which model  is train in sequential ."
   ]
  },
  {
   "cell_type": "code",
   "execution_count": 2,
   "id": "5bf2b243",
   "metadata": {},
   "outputs": [],
   "source": [
    "#Ans2:Advantage is Boosting can be used with several hyper-parameter tuning options to improve fitting.\n",
    "#limiations:It has weak leaners ."
   ]
  },
  {
   "cell_type": "code",
   "execution_count": 3,
   "id": "b32ad96a",
   "metadata": {},
   "outputs": [],
   "source": [
    "#Ans3:It works in such way that the several models is train in sequential way and the many have weak learn so it transfer to others models ."
   ]
  },
  {
   "cell_type": "code",
   "execution_count": 4,
   "id": "aef1024d",
   "metadata": {},
   "outputs": [],
   "source": [
    "#Ans4:(i)Adaboost ,(ii)Gradient boost ,(iii) Xgboost  "
   ]
  },
  {
   "cell_type": "code",
   "execution_count": 5,
   "id": "0206e58c",
   "metadata": {},
   "outputs": [],
   "source": [
    "#Ans5:Decision tree"
   ]
  },
  {
   "cell_type": "code",
   "execution_count": 6,
   "id": "157c5337",
   "metadata": {},
   "outputs": [],
   "source": [
    "#Ans6:It pass the assignment of weight to the weak learners"
   ]
  },
  {
   "cell_type": "code",
   "execution_count": 7,
   "id": "b40fee9c",
   "metadata": {},
   "outputs": [],
   "source": [
    "#Ans7:It is same as the it pass the data for train to the multiple models in sequentially and the firstly find the stump and update weight and then normalise the weight and then select the bin assignment "
   ]
  },
  {
   "cell_type": "code",
   "execution_count": 8,
   "id": "4bd441c3",
   "metadata": {},
   "outputs": [],
   "source": [
    "#Ans8:The error function that AdaBoost uses is an exponential loss function. "
   ]
  },
  {
   "cell_type": "code",
   "execution_count": 9,
   "id": "79100c88",
   "metadata": {},
   "outputs": [],
   "source": [
    "#Ans9:for correctly classified points :\n",
    "#weight *e^-(0.896)\n",
    "#for in correctly classified points :\n",
    "#Weight *e^perfomance of stump"
   ]
  },
  {
   "cell_type": "code",
   "execution_count": null,
   "id": "76a6c9fb",
   "metadata": {},
   "outputs": [],
   "source": [
    "#Ans10:"
   ]
  }
 ],
 "metadata": {
  "kernelspec": {
   "display_name": "Python 3 (ipykernel)",
   "language": "python",
   "name": "python3"
  },
  "language_info": {
   "codemirror_mode": {
    "name": "ipython",
    "version": 3
   },
   "file_extension": ".py",
   "mimetype": "text/x-python",
   "name": "python",
   "nbconvert_exporter": "python",
   "pygments_lexer": "ipython3",
   "version": "3.9.12"
  }
 },
 "nbformat": 4,
 "nbformat_minor": 5
}

{
 "cells": [
  {
   "cell_type": "code",
   "execution_count": 2,
   "id": "29a9c465",
   "metadata": {},
   "outputs": [],
   "source": [
    "#Ans1: Decision tree classifier is an algorithm where the root node and the leaf node and root node is describe the problem and root node is describe the decision\n",
    "#as root node is split into leaf "
   ]
  },
  {
   "cell_type": "code",
   "execution_count": 4,
   "id": "1317807b",
   "metadata": {},
   "outputs": [],
   "source": [
    "#Ans2:Mathematical intuition is by describe the entropy and information gain \n",
    "#Entropy =-p(+)log2p(+)-p(-)log2p(-)\n",
    "#infromation gaiin=H(s)-summation (sv)/(s)H(sv)\n",
    "#if the information is high then it have the root"
   ]
  },
  {
   "cell_type": "code",
   "execution_count": 5,
   "id": "0a37acc2",
   "metadata": {},
   "outputs": [],
   "source": [
    "#Ans3:It can be solve the Ginni Entropy and Entropy "
   ]
  },
  {
   "cell_type": "code",
   "execution_count": 6,
   "id": "bf7cab5b",
   "metadata": {},
   "outputs": [],
   "source": [
    "#Ans4:#Entropy =-p(+)log2p(+)-p(-)log2p(-)\n",
    "#infromation gaiin=H(s)-summation (sv)/(s)H(sv)\n",
    "#if the information is high then it have the root\n",
    "#  if the Entropy has 1 then it is pure split so it would be leaf"
   ]
  },
  {
   "cell_type": "code",
   "execution_count": 7,
   "id": "e8c8e900",
   "metadata": {},
   "outputs": [],
   "source": [
    "#Ans5:It is matrix where the TP,TN,FP,FN are to measure Accuracy,precision,Recall,FBeta of the model "
   ]
  },
  {
   "cell_type": "code",
   "execution_count": 8,
   "id": "e807b399",
   "metadata": {},
   "outputs": [],
   "source": [
    "#We can the Exaple of Human has Diabetes or not so we can calculate the TP and others and can be measure the precision ,accuracy and others"
   ]
  },
  {
   "cell_type": "code",
   "execution_count": 9,
   "id": "36446619",
   "metadata": {},
   "outputs": [],
   "source": [
    "##Ans7:It is matrix where the TP,TN,FP,FN are to measure Accuracy,precision,Recall,FBeta of the model "
   ]
  },
  {
   "cell_type": "code",
   "execution_count": null,
   "id": "13c91479",
   "metadata": {},
   "outputs": [],
   "source": [
    "#Ans8:Because it ca"
   ]
  }
 ],
 "metadata": {
  "kernelspec": {
   "display_name": "Python 3 (ipykernel)",
   "language": "python",
   "name": "python3"
  },
  "language_info": {
   "codemirror_mode": {
    "name": "ipython",
    "version": 3
   },
   "file_extension": ".py",
   "mimetype": "text/x-python",
   "name": "python",
   "nbconvert_exporter": "python",
   "pygments_lexer": "ipython3",
   "version": "3.9.12"
  }
 },
 "nbformat": 4,
 "nbformat_minor": 5
}

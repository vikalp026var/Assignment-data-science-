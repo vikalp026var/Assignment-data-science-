{
 "cells": [
  {
   "cell_type": "markdown",
   "id": "f35d0504",
   "metadata": {},
   "source": [
    "Q1. What is the purpose of grid search cv in machine learning, and how does it work?"
   ]
  },
  {
   "cell_type": "code",
   "execution_count": 1,
   "id": "dca1f463",
   "metadata": {},
   "outputs": [],
   "source": [
    "#Ans :Grid search Cv is the combination of grid and the croos validation in which it make the group of L1,L2 and the elatic net regularistaion in the grid way it purpose that it increase the model perfomance and the accuracy ."
   ]
  },
  {
   "cell_type": "markdown",
   "id": "1b27acdc",
   "metadata": {},
   "source": [
    "Q2. Describe the difference between grid search cv and randomize search cv, and when might you choose\n",
    "one over the other?"
   ]
  },
  {
   "cell_type": "code",
   "execution_count": 2,
   "id": "66fb716c",
   "metadata": {},
   "outputs": [],
   "source": [
    "#Ans :Grid search Cv is the combination of grid and the croos validation in which it make the group of L1,L2 and the elatic net regularistaion in the grid way it purpose that it increase the model perfomance and the accuracy .\n",
    "#Randomised seacrh cv is take the comibation of regularisation in random way "
   ]
  },
  {
   "cell_type": "markdown",
   "id": "711bf042",
   "metadata": {},
   "source": [
    "Q3. What is data leakage, and why is it a problem in machine learning? Provide an example."
   ]
  },
  {
   "cell_type": "code",
   "execution_count": 3,
   "id": "385430c0",
   "metadata": {},
   "outputs": [],
   "source": [
    "# when the data that we are using to train an ML algorithm has the information the model is trying to predict. \n",
    "#Example is when we predict the temperature but model is train in such a way that it know the information of test data so this problem is under data leakage."
   ]
  },
  {
   "cell_type": "markdown",
   "id": "40c3eb6c",
   "metadata": {},
   "source": [
    "Q4. How can you prevent data leakage when building a machine learning model?\n"
   ]
  },
  {
   "cell_type": "code",
   "execution_count": 4,
   "id": "df718394",
   "metadata": {},
   "outputs": [],
   "source": [
    "#Ans:One of the best ways to get rid of data leakage is to perform k-fold cross validation where the overall data is divided into k parts. After dividing into k parts, we use each part as the cross-validation data and the remaining as training data."
   ]
  },
  {
   "cell_type": "markdown",
   "id": "135deec2",
   "metadata": {},
   "source": [
    "Q5. What is a confusion matrix, and what does it tell you about the performance of a classification model?"
   ]
  },
  {
   "cell_type": "code",
   "execution_count": 5,
   "id": "06b1c4db",
   "metadata": {},
   "outputs": [],
   "source": [
    "#Ans : Confusion matrics is the 2d matrics which tell the raltonship of the actual and the prediction data .It performance can be predict by the measure the accuracy,precision,Recall,Fbeta ."
   ]
  },
  {
   "cell_type": "markdown",
   "id": "05d38ab0",
   "metadata": {},
   "source": [
    "Q6. Explain the difference between precision and recall in the context of a confusion matrix."
   ]
  },
  {
   "cell_type": "code",
   "execution_count": 6,
   "id": "8b96a369",
   "metadata": {},
   "outputs": [],
   "source": [
    "#Ans :Precision is the ratio of TP and the TP+FP whereas the Recall is the ratio of TP and the TP+FN"
   ]
  },
  {
   "cell_type": "markdown",
   "id": "0e048f86",
   "metadata": {},
   "source": [
    "Q7. How can you interpret a confusion matrix to determine which types of errors your model is making?"
   ]
  },
  {
   "cell_type": "code",
   "execution_count": 7,
   "id": "8b45467b",
   "metadata": {},
   "outputs": [],
   "source": [
    "#By the measure the accuracy ,precesion,Recall,FBeta "
   ]
  },
  {
   "cell_type": "markdown",
   "id": "435c1ee3",
   "metadata": {},
   "source": [
    "Q8. What are some common metrics that can be derived from a confusion matrix, and how are they\n",
    "calculated?"
   ]
  },
  {
   "cell_type": "code",
   "execution_count": 8,
   "id": "5d70813a",
   "metadata": {},
   "outputs": [],
   "source": [
    "#Ans:Precison:TP/TP+FP\n",
    "#Recall:TP/TP+FN\n",
    "#FBeta=(1+Beta^2)Precison*Recall/Precision+Recall\n",
    "#Accuracy=TP/ALL"
   ]
  },
  {
   "cell_type": "markdown",
   "id": "030cc4c1",
   "metadata": {},
   "source": [
    "Q9. What is the relationship between the accuracy of a model and the values in its confusion matrix?"
   ]
  },
  {
   "cell_type": "code",
   "execution_count": 9,
   "id": "2217344f",
   "metadata": {},
   "outputs": [],
   "source": [
    "#Accuracy=TP/TP+FP+TN+FN"
   ]
  },
  {
   "cell_type": "markdown",
   "id": "4f940192",
   "metadata": {},
   "source": [
    "Q10. How can you use a confusion matrix to identify potential biases or limitations in your machine learning\n",
    "model?"
   ]
  },
  {
   "cell_type": "code",
   "execution_count": null,
   "id": "37ffaade",
   "metadata": {},
   "outputs": [],
   "source": []
  }
 ],
 "metadata": {
  "kernelspec": {
   "display_name": "Python 3 (ipykernel)",
   "language": "python",
   "name": "python3"
  },
  "language_info": {
   "codemirror_mode": {
    "name": "ipython",
    "version": 3
   },
   "file_extension": ".py",
   "mimetype": "text/x-python",
   "name": "python",
   "nbconvert_exporter": "python",
   "pygments_lexer": "ipython3",
   "version": "3.9.12"
  }
 },
 "nbformat": 4,
 "nbformat_minor": 5
}

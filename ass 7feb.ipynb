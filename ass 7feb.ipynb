{
 "cells": [
  {
   "cell_type": "code",
   "execution_count": 1,
   "id": "c804f407",
   "metadata": {},
   "outputs": [],
   "source": [
    "def valid():\n",
    "    print(\"Enter the password:\")\n",
    "    t= input()\n",
    "    c=0\n",
    "    p=0\n",
    "    l=0\n",
    "    d=0\n",
    "    for i in t:\n",
    "        if(i.isupper()):\n",
    "            c+=1\n",
    "        elif (i.islower()):\n",
    "            p+=1\n",
    "        elif (i.isdigit()):\n",
    "            l+=1\n",
    "        else:\n",
    "            d+=1\n",
    "    if c>=2 and p>=2 and l>=1 and d==3 and len(t)==10:\n",
    "        print(\"Valid Password :\")\n",
    "    else:\n",
    "        print(\"Invalid Password\")"
   ]
  },
  {
   "cell_type": "code",
   "execution_count": 3,
   "id": "ca64b163",
   "metadata": {},
   "outputs": [
    {
     "name": "stdout",
     "output_type": "stream",
     "text": [
      "Enter the password:\n",
      "PPaa1&%$aa\n",
      "Valid Password :\n"
     ]
    }
   ],
   "source": [
    "valid()"
   ]
  },
  {
   "cell_type": "code",
   "execution_count": 17,
   "id": "63a4dbc0",
   "metadata": {},
   "outputs": [
    {
     "name": "stdout",
     "output_type": "stream",
     "text": [
      "Enter the string:\n",
      "nzdjn\n"
     ]
    },
    {
     "data": {
      "text/plain": [
       "[True]"
      ]
     },
     "execution_count": 17,
     "metadata": {},
     "output_type": "execute_result"
    }
   ],
   "source": [
    "#An2\n",
    "# i \n",
    "print(\"Enter the string:\")\n",
    "st=input()\n",
    "[True if st[0].isalpha() else False]\n",
    "    "
   ]
  },
  {
   "cell_type": "code",
   "execution_count": 23,
   "id": "f322fb52",
   "metadata": {},
   "outputs": [],
   "source": [
    "#ii\n",
    "def num(l):\n",
    "    p=l.isnumeric()\n",
    "    print(p)"
   ]
  },
  {
   "cell_type": "code",
   "execution_count": 28,
   "id": "30de7e49",
   "metadata": {},
   "outputs": [
    {
     "name": "stdout",
     "output_type": "stream",
     "text": [
      "Enter the String :\n",
      "85545521\n",
      "True\n"
     ]
    }
   ],
   "source": [
    "print(\"Enter the String :\")\n",
    "k=input()\n",
    "num(k)"
   ]
  },
  {
   "cell_type": "code",
   "execution_count": 29,
   "id": "c0d66ce4",
   "metadata": {},
   "outputs": [
    {
     "name": "stdout",
     "output_type": "stream",
     "text": [
      "[('orange', 80), ('mango', 99), ('grapes', 1000)]\n"
     ]
    }
   ],
   "source": [
    "#iii\n",
    "fruits = [(\"mango\", 99), (\"orange\", 80), (\"grapes\", 1000)]\n",
    "sort_fruits = sorted(fruits, key=lambda x: x[1])\n",
    "\n",
    "print(sort_fruits)\n",
    "            "
   ]
  },
  {
   "cell_type": "code",
   "execution_count": 33,
   "id": "7246b08a",
   "metadata": {},
   "outputs": [
    {
     "data": {
      "text/plain": [
       "[1, 4, 9, 16, 25, 36, 49, 64, 81, 100]"
      ]
     },
     "execution_count": 33,
     "metadata": {},
     "output_type": "execute_result"
    }
   ],
   "source": [
    "#iv\n",
    "l=[1,2,3,4,5,6,7,8,9,10]\n",
    "list(map(lambda x:x**2,l))\n"
   ]
  },
  {
   "cell_type": "code",
   "execution_count": 37,
   "id": "a20f9c4c",
   "metadata": {},
   "outputs": [
    {
     "data": {
      "text/plain": [
       "[1, 8, 27, 64, 125, 216, 343, 512, 729, 1000]"
      ]
     },
     "execution_count": 37,
     "metadata": {},
     "output_type": "execute_result"
    }
   ],
   "source": [
    "#v\n",
    "l=[1,2,3,4,5,6,7,8,9,10]\n",
    "list(map(lambda x:x**3,l))"
   ]
  },
  {
   "cell_type": "markdown",
   "id": "063da092",
   "metadata": {},
   "source": [
    "#vi \n",
    "\n"
   ]
  },
  {
   "cell_type": "code",
   "execution_count": 39,
   "id": "861b730c",
   "metadata": {},
   "outputs": [
    {
     "name": "stdout",
     "output_type": "stream",
     "text": [
      "This program is only check the number is even or not \n",
      "Enter the number :23\n"
     ]
    },
    {
     "data": {
      "text/plain": [
       "[False]"
      ]
     },
     "execution_count": 39,
     "metadata": {},
     "output_type": "execute_result"
    }
   ],
   "source": [
    "#vi\n",
    "print(\"This program is only check the number is even or not \")\n",
    "n=int(input(\"Enter the number :\"))\n",
    "[True if n%2==0 else False]"
   ]
  },
  {
   "cell_type": "code",
   "execution_count": 41,
   "id": "4852dc9d",
   "metadata": {},
   "outputs": [
    {
     "data": {
      "text/plain": [
       "[1, 3, 5, 7, 9]"
      ]
     },
     "execution_count": 41,
     "metadata": {},
     "output_type": "execute_result"
    }
   ],
   "source": [
    "l=[1,2,3,4,5,6,7,8,9,10]\n",
    "list(filter(lambda x:x%2!=0,l))"
   ]
  },
  {
   "cell_type": "code",
   "execution_count": 43,
   "id": "726e3fc7",
   "metadata": {},
   "outputs": [
    {
     "name": "stdout",
     "output_type": "stream",
     "text": [
      "Positive list is : [1, 2, 3, 4, 5, 6, 0]\n",
      "Negative list is : [-1, -2, -3, -4, -5]\n"
     ]
    }
   ],
   "source": [
    "#vii\n",
    "l=[1,2,3,4,5,6,-1,-2,-3,-4,-5,0]\n",
    "p=[]\n",
    "n=[]\n",
    "for i in l:\n",
    "    if i>=0:\n",
    "        p.append(i)\n",
    "    else:\n",
    "        n.append(i)\n",
    "print(\"Positive list is :\",p)\n",
    "print(\"Negative list is :\",n)\n",
    "        "
   ]
  },
  {
   "cell_type": "code",
   "execution_count": null,
   "id": "dd35e4f6",
   "metadata": {},
   "outputs": [],
   "source": []
  }
 ],
 "metadata": {
  "kernelspec": {
   "display_name": "Python 3 (ipykernel)",
   "language": "python",
   "name": "python3"
  },
  "language_info": {
   "codemirror_mode": {
    "name": "ipython",
    "version": 3
   },
   "file_extension": ".py",
   "mimetype": "text/x-python",
   "name": "python",
   "nbconvert_exporter": "python",
   "pygments_lexer": "ipython3",
   "version": "3.9.12"
  }
 },
 "nbformat": 4,
 "nbformat_minor": 5
}

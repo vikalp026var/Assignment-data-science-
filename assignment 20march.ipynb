{
 "cells": [
  {
   "cell_type": "code",
   "execution_count": 1,
   "id": "526400c8",
   "metadata": {},
   "outputs": [],
   "source": [
    "#ANs1:Data encoding is a way that we transfer categorical value into the numerical value in a feature \n",
    "#It is very useful in Datascience so that computer opearte the binary numbers or transmit that textual information\n"
   ]
  },
  {
   "cell_type": "code",
   "execution_count": 2,
   "id": "b0facd12",
   "metadata": {},
   "outputs": [],
   "source": [
    "#Ans:When we have a feature where variables are just names and there is no order or rank to this variable's feature. For example: City of person lives in, Gender of person, Marital Status, etc"
   ]
  },
  {
   "cell_type": "code",
   "execution_count": 3,
   "id": "1f544657",
   "metadata": {},
   "outputs": [],
   "source": [
    "#ANs3:Nominal encoding, also known as label encoding, is preferred over one-hot encoding in situations where the categorical variable has a meaningful order or hierarchy. "
   ]
  },
  {
   "cell_type": "code",
   "execution_count": 4,
   "id": "be9ea81c",
   "metadata": {},
   "outputs": [],
   "source": [
    "#ANs4:The encodinding techiques is used in this encoding is oe hot  encoding .One-hot encoding creates binary features for each category, representing the presence or absence of that category."
   ]
  },
  {
   "cell_type": "code",
   "execution_count": 5,
   "id": "4f9d164a",
   "metadata": {},
   "outputs": [],
   "source": [
    "#ANs5:2*2=4+3=7"
   ]
  },
  {
   "cell_type": "code",
   "execution_count": 6,
   "id": "3277d32a",
   "metadata": {},
   "outputs": [],
   "source": [
    "#Ans6:One hot encoding is the best way to choose the tranform the categorical vaiable into bnary form "
   ]
  },
  {
   "cell_type": "code",
   "execution_count": 7,
   "id": "ae20e45c",
   "metadata": {},
   "outputs": [],
   "source": [
    "#Ans7:One hot encoding .\n",
    "#Firstly decide the categorical fetaures and import one hot encoder with the help of one hot encoding and then apply feature and do one hot encoding ."
   ]
  },
  {
   "cell_type": "code",
   "execution_count": null,
   "id": "c82d82ae",
   "metadata": {},
   "outputs": [],
   "source": []
  },
  {
   "cell_type": "code",
   "execution_count": null,
   "id": "48261a58",
   "metadata": {},
   "outputs": [],
   "source": []
  }
 ],
 "metadata": {
  "kernelspec": {
   "display_name": "Python 3 (ipykernel)",
   "language": "python",
   "name": "python3"
  },
  "language_info": {
   "codemirror_mode": {
    "name": "ipython",
    "version": 3
   },
   "file_extension": ".py",
   "mimetype": "text/x-python",
   "name": "python",
   "nbconvert_exporter": "python",
   "pygments_lexer": "ipython3",
   "version": "3.9.12"
  }
 },
 "nbformat": 4,
 "nbformat_minor": 5
}

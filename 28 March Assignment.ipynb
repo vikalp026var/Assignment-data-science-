{
 "cells": [
  {
   "cell_type": "code",
   "execution_count": null,
   "id": "fdac871d",
   "metadata": {},
   "outputs": [],
   "source": [
    "#Ans1: Ridge Regression is used to reduce the overfitting it is differ to ordinary least square regression asthe cost is added by a penality to mse"
   ]
  },
  {
   "cell_type": "code",
   "execution_count": 1,
   "id": "dc5d81cc",
   "metadata": {},
   "outputs": [],
   "source": [
    "# Ans2:Assumption of ridge regression is features are near to best fir line"
   ]
  },
  {
   "cell_type": "code",
   "execution_count": 2,
   "id": "a905d380",
   "metadata": {},
   "outputs": [],
   "source": [
    "#Ans3:By slope if slope is more then guess the parameter is high "
   ]
  },
  {
   "cell_type": "code",
   "execution_count": 3,
   "id": "6ff920d1",
   "metadata": {},
   "outputs": [],
   "source": [
    "#Ans4:NO it is not use for feature selection .Lasso is used for feature selection and it is use only for reduce the overfitting "
   ]
  },
  {
   "cell_type": "code",
   "execution_count": 4,
   "id": "748547c5",
   "metadata": {},
   "outputs": [],
   "source": [
    "#Ans5:Multicollinearity happens when predictor variables exhibit a correlation among themselves. Ridge regression aims at reducing the standard error by adding some bias in the estimates of the regression."
   ]
  },
  {
   "cell_type": "code",
   "execution_count": 5,
   "id": "b2562d63",
   "metadata": {},
   "outputs": [],
   "source": [
    "#Ans6:it is not for categorical it is only for continous indepedent variables"
   ]
  },
  {
   "cell_type": "code",
   "execution_count": 6,
   "id": "9c284dcd",
   "metadata": {},
   "outputs": [],
   "source": [
    "#Ans7:by putting the parameter"
   ]
  },
  {
   "cell_type": "code",
   "execution_count": 7,
   "id": "1fddb740",
   "metadata": {},
   "outputs": [],
   "source": [
    "#Ans8:yes it can be use for time data analysis  beacuse time series is dynamic datasets means the data will change based on time .So it does not effect the ridge regression"
   ]
  },
  {
   "cell_type": "code",
   "execution_count": null,
   "id": "11a9e05a",
   "metadata": {},
   "outputs": [],
   "source": []
  }
 ],
 "metadata": {
  "kernelspec": {
   "display_name": "Python 3 (ipykernel)",
   "language": "python",
   "name": "python3"
  },
  "language_info": {
   "codemirror_mode": {
    "name": "ipython",
    "version": 3
   },
   "file_extension": ".py",
   "mimetype": "text/x-python",
   "name": "python",
   "nbconvert_exporter": "python",
   "pygments_lexer": "ipython3",
   "version": "3.9.12"
  }
 },
 "nbformat": 4,
 "nbformat_minor": 5
}

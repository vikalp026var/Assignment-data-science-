{
 "cells": [
  {
   "cell_type": "code",
   "execution_count": 21,
   "id": "b8ecfd10",
   "metadata": {},
   "outputs": [],
   "source": [
    "#Ans1:Nominal encoding is a technique used to transform the catgorical variable into numerical variable that can be used in ml models and \n",
    "#label ecoding is a encoding to descrbe the feature acording to their  label \n",
    "#when the variable  is  catgeorical use the one hot encoding and the variable is ordianl then use the label encoding "
   ]
  },
  {
   "cell_type": "code",
   "execution_count": null,
   "id": "601e9a18",
   "metadata": {},
   "outputs": [],
   "source": [
    "#ANs2:It is the technique used to encode the categorical variable on their relationship with the target variable "
   ]
  },
  {
   "cell_type": "code",
   "execution_count": 33,
   "id": "bcacd156",
   "metadata": {},
   "outputs": [],
   "source": [
    "#ANs3#It is used to find the variance between two continous variable that how much one variable is vary with the other .\n",
    "#FOrmula is summation i to n (xi-x(mean))(yi-y(mean)/n-1)"
   ]
  },
  {
   "cell_type": "code",
   "execution_count": 5,
   "id": "4fb34192",
   "metadata": {},
   "outputs": [],
   "source": [
    "#Ans4:\n",
    "from sklearn.preprocessing import LabelEncoder\n",
    "import pandas as pd"
   ]
  },
  {
   "cell_type": "code",
   "execution_count": 3,
   "id": "b9b17eb2",
   "metadata": {},
   "outputs": [],
   "source": [
    "label=LabelEncoder()"
   ]
  },
  {
   "cell_type": "code",
   "execution_count": 13,
   "id": "249e7b2c",
   "metadata": {},
   "outputs": [],
   "source": [
    "colors=['red','green','blue']\n",
    "sizes=['small','medium','large']\n",
    "materials=['wood','metal','plastic']"
   ]
  },
  {
   "cell_type": "code",
   "execution_count": 14,
   "id": "2daddf85",
   "metadata": {},
   "outputs": [
    {
     "data": {
      "text/html": [
       "<div>\n",
       "<style scoped>\n",
       "    .dataframe tbody tr th:only-of-type {\n",
       "        vertical-align: middle;\n",
       "    }\n",
       "\n",
       "    .dataframe tbody tr th {\n",
       "        vertical-align: top;\n",
       "    }\n",
       "\n",
       "    .dataframe thead th {\n",
       "        text-align: right;\n",
       "    }\n",
       "</style>\n",
       "<table border=\"1\" class=\"dataframe\">\n",
       "  <thead>\n",
       "    <tr style=\"text-align: right;\">\n",
       "      <th></th>\n",
       "      <th>color</th>\n",
       "      <th>size</th>\n",
       "      <th>material</th>\n",
       "    </tr>\n",
       "  </thead>\n",
       "  <tbody>\n",
       "    <tr>\n",
       "      <th>0</th>\n",
       "      <td>red</td>\n",
       "      <td>small</td>\n",
       "      <td>wood</td>\n",
       "    </tr>\n",
       "    <tr>\n",
       "      <th>1</th>\n",
       "      <td>green</td>\n",
       "      <td>medium</td>\n",
       "      <td>metal</td>\n",
       "    </tr>\n",
       "    <tr>\n",
       "      <th>2</th>\n",
       "      <td>blue</td>\n",
       "      <td>large</td>\n",
       "      <td>plastic</td>\n",
       "    </tr>\n",
       "  </tbody>\n",
       "</table>\n",
       "</div>"
      ],
      "text/plain": [
       "   color    size material\n",
       "0    red   small     wood\n",
       "1  green  medium    metal\n",
       "2   blue   large  plastic"
      ]
     },
     "execution_count": 14,
     "metadata": {},
     "output_type": "execute_result"
    }
   ],
   "source": [
    "pd.DataFrame(data)"
   ]
  },
  {
   "cell_type": "code",
   "execution_count": 15,
   "id": "3e8471cb",
   "metadata": {},
   "outputs": [],
   "source": [
    "color_label=label.fit_transform(colors)"
   ]
  },
  {
   "cell_type": "code",
   "execution_count": 16,
   "id": "5128d6a6",
   "metadata": {},
   "outputs": [],
   "source": [
    "size_label=label.fit_transform(sizes)"
   ]
  },
  {
   "cell_type": "code",
   "execution_count": 17,
   "id": "74542212",
   "metadata": {},
   "outputs": [],
   "source": [
    "material_label=label.fit_transform(materials)"
   ]
  },
  {
   "cell_type": "code",
   "execution_count": 18,
   "id": "d62e2d7a",
   "metadata": {},
   "outputs": [
    {
     "name": "stdout",
     "output_type": "stream",
     "text": [
      "ENcoded colors [2 1 0]\n"
     ]
    }
   ],
   "source": [
    "print('ENcoded colors',color_label)"
   ]
  },
  {
   "cell_type": "code",
   "execution_count": 19,
   "id": "feb0c7a7",
   "metadata": {},
   "outputs": [
    {
     "data": {
      "text/plain": [
       "array([2, 1, 0], dtype=int64)"
      ]
     },
     "execution_count": 19,
     "metadata": {},
     "output_type": "execute_result"
    }
   ],
   "source": [
    "size_label"
   ]
  },
  {
   "cell_type": "code",
   "execution_count": 20,
   "id": "d8bf1f0c",
   "metadata": {},
   "outputs": [
    {
     "data": {
      "text/plain": [
       "array([2, 0, 1], dtype=int64)"
      ]
     },
     "execution_count": 20,
     "metadata": {},
     "output_type": "execute_result"
    }
   ],
   "source": [
    "material_label"
   ]
  },
  {
   "cell_type": "code",
   "execution_count": 23,
   "id": "d285e6b8",
   "metadata": {},
   "outputs": [],
   "source": [
    "#Ans5:\n",
    "import numpy as np\n",
    "age = [25, 30, 35, 40, 45]\n",
    "income = [50000, 60000, 70000, 80000, 90000]\n",
    "education_level = [12, 14, 16, 18, 20]"
   ]
  },
  {
   "cell_type": "code",
   "execution_count": 24,
   "id": "3c490b33",
   "metadata": {},
   "outputs": [],
   "source": [
    "data=np.array([age,income,education_level])"
   ]
  },
  {
   "cell_type": "code",
   "execution_count": 25,
   "id": "44c865af",
   "metadata": {},
   "outputs": [],
   "source": [
    "covaiance_matrix=np.cov(data)"
   ]
  },
  {
   "cell_type": "code",
   "execution_count": 26,
   "id": "03f165d3",
   "metadata": {},
   "outputs": [
    {
     "data": {
      "text/plain": [
       "array([[6.25e+01, 1.25e+05, 2.50e+01],\n",
       "       [1.25e+05, 2.50e+08, 5.00e+04],\n",
       "       [2.50e+01, 5.00e+04, 1.00e+01]])"
      ]
     },
     "execution_count": 26,
     "metadata": {},
     "output_type": "execute_result"
    }
   ],
   "source": [
    "covaiance_matrix"
   ]
  },
  {
   "cell_type": "code",
   "execution_count": 27,
   "id": "19d410ee",
   "metadata": {},
   "outputs": [],
   "source": [
    "#Ans6:One hot Encoding because the variable is catgeorical"
   ]
  },
  {
   "cell_type": "code",
   "execution_count": 28,
   "id": "d5371aa4",
   "metadata": {},
   "outputs": [],
   "source": [
    "#Ans7:\n",
    "temperature = [25, 30, 35, 40, 45]\n",
    "humidity = [50, 60, 70, 80, 90]"
   ]
  },
  {
   "cell_type": "code",
   "execution_count": 29,
   "id": "dd36af74",
   "metadata": {},
   "outputs": [],
   "source": [
    "data=np.array([temperature,humidity])"
   ]
  },
  {
   "cell_type": "code",
   "execution_count": 30,
   "id": "fc482390",
   "metadata": {},
   "outputs": [],
   "source": [
    "covaiance_matrix1=np.cov(data)"
   ]
  },
  {
   "cell_type": "code",
   "execution_count": 31,
   "id": "bc22ffe6",
   "metadata": {},
   "outputs": [
    {
     "data": {
      "text/plain": [
       "array([[ 62.5, 125. ],\n",
       "       [125. , 250. ]])"
      ]
     },
     "execution_count": 31,
     "metadata": {},
     "output_type": "execute_result"
    }
   ],
   "source": [
    "covaiance_matrix1"
   ]
  },
  {
   "cell_type": "code",
   "execution_count": 32,
   "id": "1dc44c0f",
   "metadata": {},
   "outputs": [],
   "source": [
    "#As the weather condition and wind direction is not continuous variable "
   ]
  },
  {
   "cell_type": "code",
   "execution_count": null,
   "id": "45f47098",
   "metadata": {},
   "outputs": [],
   "source": []
  }
 ],
 "metadata": {
  "kernelspec": {
   "display_name": "Python 3 (ipykernel)",
   "language": "python",
   "name": "python3"
  },
  "language_info": {
   "codemirror_mode": {
    "name": "ipython",
    "version": 3
   },
   "file_extension": ".py",
   "mimetype": "text/x-python",
   "name": "python",
   "nbconvert_exporter": "python",
   "pygments_lexer": "ipython3",
   "version": "3.9.12"
  }
 },
 "nbformat": 4,
 "nbformat_minor": 5
}

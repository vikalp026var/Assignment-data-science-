{
 "cells": [
  {
   "cell_type": "code",
   "execution_count": 2,
   "id": "15f21e82",
   "metadata": {},
   "outputs": [],
   "source": [
    "#Ans 1:\n",
    "#For loop is use when we need to execute a data again and again and while loop also use in similar way for loop intialisation updation and test expression in one line but in while there is diiferent way .\n",
    "def value():\n",
    "    for i in range(10):\n",
    "        print(i)"
   ]
  },
  {
   "cell_type": "code",
   "execution_count": 3,
   "id": "b6bfb4d0",
   "metadata": {},
   "outputs": [
    {
     "name": "stdout",
     "output_type": "stream",
     "text": [
      "0\n",
      "1\n",
      "2\n",
      "3\n",
      "4\n",
      "5\n",
      "6\n",
      "7\n",
      "8\n",
      "9\n"
     ]
    }
   ],
   "source": [
    "value()"
   ]
  },
  {
   "cell_type": "code",
   "execution_count": 6,
   "id": "09b71779",
   "metadata": {},
   "outputs": [],
   "source": [
    "#Example of while loop \n",
    "def value():\n",
    "    i=0\n",
    "    while i <10:\n",
    "        print(i)\n",
    "        i+=1"
   ]
  },
  {
   "cell_type": "code",
   "execution_count": 7,
   "id": "c3ad3b44",
   "metadata": {},
   "outputs": [
    {
     "name": "stdout",
     "output_type": "stream",
     "text": [
      "0\n",
      "1\n",
      "2\n",
      "3\n",
      "4\n",
      "5\n",
      "6\n",
      "7\n",
      "8\n",
      "9\n"
     ]
    }
   ],
   "source": [
    "value()"
   ]
  },
  {
   "cell_type": "code",
   "execution_count": 12,
   "id": "a6044109",
   "metadata": {},
   "outputs": [],
   "source": [
    "#Ans 2:\n",
    "def sum():\n",
    "    count=0\n",
    "    for i in range (11):\n",
    "        count+=i\n",
    "    print(count)"
   ]
  },
  {
   "cell_type": "code",
   "execution_count": 13,
   "id": "fa93d0aa",
   "metadata": {},
   "outputs": [
    {
     "name": "stdout",
     "output_type": "stream",
     "text": [
      "55\n"
     ]
    }
   ],
   "source": [
    "sum()"
   ]
  },
  {
   "cell_type": "code",
   "execution_count": 16,
   "id": "d8eb8dca",
   "metadata": {},
   "outputs": [],
   "source": [
    "def product():\n",
    "    count=1\n",
    "    for i in range(1,11):\n",
    "        count*=i\n",
    "    print(count)"
   ]
  },
  {
   "cell_type": "code",
   "execution_count": 17,
   "id": "47515c85",
   "metadata": {},
   "outputs": [
    {
     "name": "stdout",
     "output_type": "stream",
     "text": [
      "3628800\n"
     ]
    }
   ],
   "source": [
    "product()"
   ]
  },
  {
   "cell_type": "code",
   "execution_count": 18,
   "id": "1c2f1dc6",
   "metadata": {},
   "outputs": [],
   "source": [
    "def sum():\n",
    "    count=0\n",
    "    i=1\n",
    "    while i<=10:\n",
    "        count+=i\n",
    "        i+=1\n",
    "    print(count)"
   ]
  },
  {
   "cell_type": "code",
   "execution_count": 19,
   "id": "45589e3c",
   "metadata": {},
   "outputs": [
    {
     "name": "stdout",
     "output_type": "stream",
     "text": [
      "55\n"
     ]
    }
   ],
   "source": [
    "sum()"
   ]
  },
  {
   "cell_type": "code",
   "execution_count": 20,
   "id": "e7c4e65e",
   "metadata": {},
   "outputs": [],
   "source": [
    "def product():\n",
    "    count=1\n",
    "    i=1\n",
    "    while i<=10:\n",
    "        count*=i\n",
    "        i+=1\n",
    "    print(count)"
   ]
  },
  {
   "cell_type": "code",
   "execution_count": 21,
   "id": "4a8a97e2",
   "metadata": {},
   "outputs": [
    {
     "name": "stdout",
     "output_type": "stream",
     "text": [
      "3628800\n"
     ]
    }
   ],
   "source": [
    "product()"
   ]
  },
  {
   "cell_type": "code",
   "execution_count": 22,
   "id": "e28ac7ab",
   "metadata": {},
   "outputs": [
    {
     "name": "stdout",
     "output_type": "stream",
     "text": [
      "2250.0\n"
     ]
    }
   ],
   "source": [
    "#Ans 3:\n",
    "def electricity_bill(units):\n",
    "    if units <= 100:\n",
    "        return units * 4.5\n",
    "    elif units <= 200:\n",
    "        return 100 * 4.5 + (units - 100) * 6\n",
    "    elif units <= 300:\n",
    "        return 100 * 4.5 + 100 * 6 + (units - 200) * 10\n",
    "    else:\n",
    "        return 100 * 4.5 + 100 * 6 + 100 * 10 + (units - 300) * 20\n",
    "\n",
    "print(electricity_bill(310)) \n"
   ]
  },
  {
   "cell_type": "code",
   "execution_count": 23,
   "id": "b5479a08",
   "metadata": {},
   "outputs": [],
   "source": [
    "#Ans 4:\n",
    "def cube(n):\n",
    "    return n*n*n"
   ]
  },
  {
   "cell_type": "code",
   "execution_count": 28,
   "id": "7b466898",
   "metadata": {},
   "outputs": [],
   "source": [
    "def prin():\n",
    "    l=[]\n",
    "    for i in range(1,100):\n",
    "        n=cube(i)\n",
    "        if n%4==0 or n%5==0:\n",
    "            l.append(i)\n",
    "    print(l)"
   ]
  },
  {
   "cell_type": "code",
   "execution_count": 29,
   "id": "50d5a6d2",
   "metadata": {},
   "outputs": [
    {
     "name": "stdout",
     "output_type": "stream",
     "text": [
      "[2, 4, 5, 6, 8, 10, 12, 14, 15, 16, 18, 20, 22, 24, 25, 26, 28, 30, 32, 34, 35, 36, 38, 40, 42, 44, 45, 46, 48, 50, 52, 54, 55, 56, 58, 60, 62, 64, 65, 66, 68, 70, 72, 74, 75, 76, 78, 80, 82, 84, 85, 86, 88, 90, 92, 94, 95, 96, 98]\n"
     ]
    }
   ],
   "source": [
    "prin()"
   ]
  },
  {
   "cell_type": "code",
   "execution_count": null,
   "id": "c1599610",
   "metadata": {},
   "outputs": [],
   "source": [
    "\n"
   ]
  },
  {
   "cell_type": "code",
   "execution_count": 38,
   "id": "e7e340a1",
   "metadata": {},
   "outputs": [],
   "source": [
    "#Ans5:\n",
    "def count(string):\n",
    "    vowels=\"aeiouAEIOU\"\n",
    "    count=0\n",
    "    for char in string:\n",
    "        if char in vowels:\n",
    "            count+=1\n",
    "    return count"
   ]
  },
  {
   "cell_type": "code",
   "execution_count": null,
   "id": "26ba996e",
   "metadata": {},
   "outputs": [],
   "source": [
    "string = \"I want to become a data scientist\""
   ]
  },
  {
   "cell_type": "code",
   "execution_count": null,
   "id": "e5689110",
   "metadata": {},
   "outputs": [],
   "source": [
    "count"
   ]
  }
 ],
 "metadata": {
  "kernelspec": {
   "display_name": "Python 3 (ipykernel)",
   "language": "python",
   "name": "python3"
  },
  "language_info": {
   "codemirror_mode": {
    "name": "ipython",
    "version": 3
   },
   "file_extension": ".py",
   "mimetype": "text/x-python",
   "name": "python",
   "nbconvert_exporter": "python",
   "pygments_lexer": "ipython3",
   "version": "3.9.12"
  }
 },
 "nbformat": 4,
 "nbformat_minor": 5
}

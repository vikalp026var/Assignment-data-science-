{
 "cells": [
  {
   "cell_type": "code",
   "execution_count": 2,
   "id": "6e1154ee",
   "metadata": {},
   "outputs": [],
   "source": [
    "#Ans1:T test is used to when the sample size is below than 30 and the Z_test is used when the sample size is more than 30 .\n",
    "#Example:if we have the sample size is 40 and we have to find the confindence interval then we have use th Z Test "
   ]
  },
  {
   "cell_type": "code",
   "execution_count": 3,
   "id": "d018f3a2",
   "metadata": {},
   "outputs": [],
   "source": [
    "#Ans2:One tailed test is T test and the two Tailed test is Z Test "
   ]
  },
  {
   "cell_type": "code",
   "execution_count": 5,
   "id": "0d5ee587",
   "metadata": {},
   "outputs": [],
   "source": [
    "#Ans3:Type 1 Error is when we reject the Null Hypothesis when the reality it is True\n",
    "#Type 2 error is when we retain  the Null Hypothesis when the reality it is False\n",
    "#Example person is guilty but in reality it is not guilty so Type Errors is rised. "
   ]
  },
  {
   "cell_type": "code",
   "execution_count": 7,
   "id": "f871181f",
   "metadata": {},
   "outputs": [],
   "source": [
    "#Ans 4:Bayesian  Statiscis is an approach to data analysis and the parameter estimation based on bayes theorem .\n",
    "#Example :-Rolling a dice \n",
    "#formula is P(A/B)=P(A)P(B/A)/P(B)"
   ]
  },
  {
   "cell_type": "code",
   "execution_count": 8,
   "id": "a8f3a7c1",
   "metadata": {},
   "outputs": [],
   "source": [
    "#Ans5:Confidence interval is the interval to check the hypothesis is accept or reject.\n",
    "# C.I=X+Z std/n^1/2"
   ]
  },
  {
   "cell_type": "code",
   "execution_count": 9,
   "id": "280c4d60",
   "metadata": {},
   "outputs": [],
   "source": [
    "#Ans6:P(A/B)=P(A)P(B/A)/P(B)\n"
   ]
  },
  {
   "cell_type": "code",
   "execution_count": 10,
   "id": "53f18a84",
   "metadata": {},
   "outputs": [],
   "source": [
    "#Ans7:95% confidence interval = 50 ± (1.96 * (5 / sqrt(n)\n",
    "#47.8 and 52.2 is the confidence interval"
   ]
  },
  {
   "cell_type": "code",
   "execution_count": 11,
   "id": "f3ca62dd",
   "metadata": {},
   "outputs": [],
   "source": [
    "#Ans8:We construct a confidence interval to help estimate what the actual value of the unknown population mean is.\n",
    "#If the sample size is large than the margin of error is low and the sample size is low than the margin error is high.\n",
    "#For the sample size of 1000, the margin of error is:\n",
    "#Margin of error = 1.96 * (sqrt(0.5 * 0.5 / 1000)) = 0.03\n",
    "#For the sample size of 500, the margin of error is:"
   ]
  },
  {
   "cell_type": "code",
   "execution_count": 12,
   "id": "e298fa49",
   "metadata": {},
   "outputs": [],
   "source": [
    "#Ans9:Z score=75-70/5 =1"
   ]
  },
  {
   "cell_type": "code",
   "execution_count": 13,
   "id": "445f6ed4",
   "metadata": {},
   "outputs": [],
   "source": [
    "#Ans10:Null Hpothesis:The population mean weight loss from the drug is equal to 0.\n",
    "#Alternate Hpothesis :The population mean weight loss from the drug is grater than  0\n",
    "#t score=6-0/2.5/50^1/2=18.97\n",
    "#degree of freedom =49\n",
    "#C.I=1.67 from T table Now 1.67<18.97\n",
    "#So we reject the Null Hypothesis and accept the Alternate Hpothesis ."
   ]
  },
  {
   "cell_type": "code",
   "execution_count": 14,
   "id": "92b0aa50",
   "metadata": {},
   "outputs": [],
   "source": [
    "#Ans11:C.I =0.65+-1.96sqrt(0.65*(1-0.65)/500)\n",
    "#C.I=(0.611,0.689)"
   ]
  },
  {
   "cell_type": "code",
   "execution_count": 16,
   "id": "c8a96786",
   "metadata": {},
   "outputs": [],
   "source": [
    "#Ans12:Null Hypothesis:Two teaching methods have a significant difference in student performance is equlto 0\n",
    "#Alternate Hypothesis :the two teaching methods have  significant difference in student performance is not  equlto 0\n",
    "#t test= (85 - 82 - 0) / (sqrt((6^2/50) + (5^2/50))) = 2.24\n",
    "#2.24 >0.01\n",
    "#So the Null Hypothesis is reject "
   ]
  },
  {
   "cell_type": "code",
   "execution_count": 17,
   "id": "dce52cf0",
   "metadata": {},
   "outputs": [],
   "source": [
    "#Ans13:C.I=60+-1.2*8/50^1/2\n",
    "#Z=60-50/8=1.2"
   ]
  },
  {
   "cell_type": "code",
   "execution_count": null,
   "id": "23135512",
   "metadata": {},
   "outputs": [],
   "source": [
    "#Ans14:    Null hypothesis (H0): The true mean reaction time is equal to 0.3 seconds.\n",
    "    #Alternative hypothesis (Ha): The true mean reaction time is not equal to 0.3 seconds.\n",
    "    #t = (0.25 - 0.3) / (0.05 / sqrt(30)) = -3.87\n",
    "    #D.O.F=29 from t table \n",
    "\n"
   ]
  }
 ],
 "metadata": {
  "kernelspec": {
   "display_name": "Python 3 (ipykernel)",
   "language": "python",
   "name": "python3"
  },
  "language_info": {
   "codemirror_mode": {
    "name": "ipython",
    "version": 3
   },
   "file_extension": ".py",
   "mimetype": "text/x-python",
   "name": "python",
   "nbconvert_exporter": "python",
   "pygments_lexer": "ipython3",
   "version": "3.9.12"
  }
 },
 "nbformat": 4,
 "nbformat_minor": 5
}

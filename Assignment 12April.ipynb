{
 "cells": [
  {
   "cell_type": "code",
   "execution_count": 1,
   "id": "69d10630",
   "metadata": {},
   "outputs": [],
   "source": [
    "#Ans1:Bagging is a technique in which we train the model parallely and models gives the acccuracy and find the which model have the highest accuracy so by this it reduce the overfitting in decision trees "
   ]
  },
  {
   "cell_type": "code",
   "execution_count": 2,
   "id": "3b720faa",
   "metadata": {},
   "outputs": [],
   "source": [
    "#Ans2:Advantage :\n",
    "#It reduces the overfitting .\n",
    "#It gives the highest accuracy .\n",
    "#Disadvantage :\n",
    "# it introduces a loss of interpretability of a model. "
   ]
  },
  {
   "cell_type": "code",
   "execution_count": 3,
   "id": "b45929d9",
   "metadata": {},
   "outputs": [],
   "source": [
    "#Ans3:If the model have the high variance then then prediction output have a high chance that it has high bias and vice versa "
   ]
  },
  {
   "cell_type": "code",
   "execution_count": 4,
   "id": "b7aa019c",
   "metadata": {},
   "outputs": [],
   "source": [
    "#Ans4:Yes .\n",
    "#If the bagging is classification then the accuracy be calculated by majority voting and if the regression then accuracy is calculated by the avearge of accuracy which is get by the different models . "
   ]
  },
  {
   "cell_type": "code",
   "execution_count": 5,
   "id": "7e45eb85",
   "metadata": {},
   "outputs": [],
   "source": [
    "#Ans5:As the size of the bagging is increase then the overfittting reduce have the more chance to get the more accurate result "
   ]
  },
  {
   "cell_type": "code",
   "execution_count": 6,
   "id": "b9e9e3e8",
   "metadata": {},
   "outputs": [],
   "source": [
    "#Ans6: One real-world application of bagging in machine learning is in the field of medical diagnosis, particularly in the classification of diseases based on patient data. Bagging can be employed to improve the accuracy and robustness of the diagnostic system."
   ]
  },
  {
   "cell_type": "code",
   "execution_count": null,
   "id": "c5b3f161",
   "metadata": {},
   "outputs": [],
   "source": []
  }
 ],
 "metadata": {
  "kernelspec": {
   "display_name": "Python 3 (ipykernel)",
   "language": "python",
   "name": "python3"
  },
  "language_info": {
   "codemirror_mode": {
    "name": "ipython",
    "version": 3
   },
   "file_extension": ".py",
   "mimetype": "text/x-python",
   "name": "python",
   "nbconvert_exporter": "python",
   "pygments_lexer": "ipython3",
   "version": "3.9.12"
  }
 },
 "nbformat": 4,
 "nbformat_minor": 5
}

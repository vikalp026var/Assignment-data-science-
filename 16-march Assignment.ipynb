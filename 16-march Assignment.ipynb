{
 "cells": [
  {
   "cell_type": "markdown",
   "id": "1e092772",
   "metadata": {},
   "source": [
    "Ans1:"
   ]
  },
  {
   "cell_type": "code",
   "execution_count": 1,
   "id": "61403ef1",
   "metadata": {},
   "outputs": [],
   "source": [
    "#Overfitting is defined as when the model is work well with training set not well with test set .\n",
    "#Underfittingis defined as the when the model is not work well with training and test set both then this is siuation is under the underfitting .\n",
    "#Model is again and agin train till the test error toward to zero."
   ]
  },
  {
   "cell_type": "markdown",
   "id": "7c782b0a",
   "metadata": {},
   "source": [
    "Ans2:"
   ]
  },
  {
   "cell_type": "code",
   "execution_count": 2,
   "id": "20ff8673",
   "metadata": {},
   "outputs": [],
   "source": [
    "#By again and agin train the model until model have the zero error ."
   ]
  },
  {
   "cell_type": "markdown",
   "id": "62b5e532",
   "metadata": {},
   "source": [
    "Ans3:"
   ]
  },
  {
   "cell_type": "code",
   "execution_count": 3,
   "id": "18f81ce0",
   "metadata": {},
   "outputs": [],
   "source": [
    "#Underfittingis defined as the when the model is not work well with training and test set both then this is siuation is under the underfitting \n",
    "#If the model not train well it will give poor result ."
   ]
  },
  {
   "cell_type": "markdown",
   "id": "81f2795d",
   "metadata": {},
   "source": [
    "Ans4:"
   ]
  },
  {
   "cell_type": "code",
   "execution_count": 4,
   "id": "add78cb5",
   "metadata": {},
   "outputs": [],
   "source": [
    "#if the model is flexival then bias is low and variance is high this is known as bias variance trade off.\n",
    "#If the train error is low and test error is high then bias is low and the variance is high ,if the train error is high and the test error is low then the bias is high and variance is low .\n"
   ]
  },
  {
   "cell_type": "markdown",
   "id": "16a5bc6d",
   "metadata": {},
   "source": [
    "Ans5:"
   ]
  },
  {
   "cell_type": "code",
   "execution_count": 5,
   "id": "b1b621dc",
   "metadata": {},
   "outputs": [],
   "source": [
    "#By the calculate the score of model we can get the underfitting if the model have the train nad test error will high and if the model have train error is low and the test error is high the this is overfitting."
   ]
  },
  {
   "cell_type": "markdown",
   "id": "3c25d648",
   "metadata": {},
   "source": [
    "Ans6:"
   ]
  },
  {
   "cell_type": "code",
   "execution_count": 6,
   "id": "87a77567",
   "metadata": {},
   "outputs": [],
   "source": [
    "#Bias is the gap between the predictors and the actual value and the variance is the scatter point that the data is how much vary .\n",
    "#Means the model is train well."
   ]
  },
  {
   "cell_type": "markdown",
   "id": "ab62f606",
   "metadata": {},
   "source": [
    "Ans7:"
   ]
  },
  {
   "cell_type": "code",
   "execution_count": null,
   "id": "083537cd",
   "metadata": {},
   "outputs": [],
   "source": [
    "#Lasso is the regularisation which means the estimate cofficient shrinks towards the zero and it help in prevent the overfitting.\n",
    "#L1 Regularisation and L2 Regularisation ."
   ]
  }
 ],
 "metadata": {
  "kernelspec": {
   "display_name": "Python 3 (ipykernel)",
   "language": "python",
   "name": "python3"
  },
  "language_info": {
   "codemirror_mode": {
    "name": "ipython",
    "version": 3
   },
   "file_extension": ".py",
   "mimetype": "text/x-python",
   "name": "python",
   "nbconvert_exporter": "python",
   "pygments_lexer": "ipython3",
   "version": "3.9.12"
  }
 },
 "nbformat": 4,
 "nbformat_minor": 5
}

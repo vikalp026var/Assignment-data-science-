{
 "cells": [
  {
   "cell_type": "code",
   "execution_count": 2,
   "id": "977001ef",
   "metadata": {},
   "outputs": [],
   "source": [
    "#Ans1:\n",
    "tuple_list = [('Sachin Tendulkar', 34357), ('Ricky Ponting', 27483), ('Jack Kallis', 25534), ('Virat Kohli', 24936)]\n",
    "\n",
    "\n"
   ]
  },
  {
   "cell_type": "code",
   "execution_count": 3,
   "id": "cace0128",
   "metadata": {},
   "outputs": [
    {
     "name": "stdout",
     "output_type": "stream",
     "text": [
      "[('Virat Kohli', 24936), ('Jack Kallis', 25534), ('Ricky Ponting', 27483), ('Sachin Tendulkar', 34357)]\n"
     ]
    }
   ],
   "source": [
    "sorted_list = sorted(tuple_list, key=lambda x: x[1])\n",
    "\n",
    "print(sorted_list)"
   ]
  },
  {
   "cell_type": "code",
   "execution_count": 5,
   "id": "86d041c8",
   "metadata": {},
   "outputs": [],
   "source": [
    "#Ans 2:\n",
    "l=[1, 2, 3, 4, 5, 6, 7, 8, 9, 10]\n",
    "def sq(n):\n",
    "    return n**2\n"
   ]
  },
  {
   "cell_type": "code",
   "execution_count": 6,
   "id": "9b84715b",
   "metadata": {},
   "outputs": [
    {
     "data": {
      "text/plain": [
       "[1, 4, 9, 16, 25, 36, 49, 64, 81, 100]"
      ]
     },
     "execution_count": 6,
     "metadata": {},
     "output_type": "execute_result"
    }
   ],
   "source": [
    "list(map(lambda x:x**2,l))"
   ]
  },
  {
   "cell_type": "code",
   "execution_count": 7,
   "id": "b3ac5aee",
   "metadata": {},
   "outputs": [],
   "source": [
    "#Ans3:\n",
    "l=[1, 2, 3, 4, 5, 6, 7, 8, 9, 10]"
   ]
  },
  {
   "cell_type": "code",
   "execution_count": 10,
   "id": "67e85b5b",
   "metadata": {},
   "outputs": [
    {
     "data": {
      "text/plain": [
       "('1', '2', '3', '4', '5', '6', '7', '8', '9', '10')"
      ]
     },
     "execution_count": 10,
     "metadata": {},
     "output_type": "execute_result"
    }
   ],
   "source": [
    "tuple(map(lambda x:str(x),l))"
   ]
  },
  {
   "cell_type": "code",
   "execution_count": 11,
   "id": "4d2ffd34",
   "metadata": {},
   "outputs": [
    {
     "data": {
      "text/plain": [
       "15511210043330985984000000"
      ]
     },
     "execution_count": 11,
     "metadata": {},
     "output_type": "execute_result"
    }
   ],
   "source": [
    "#Ans 4:\n",
    "from functools import reduce \n",
    "l=[1,2,3,4,5,6,7,8,9,10,11,12,13,14,15,16,17,18,19,20,21,22,23,24,25]\n",
    "reduce(lambda x,y:x*y,l)"
   ]
  },
  {
   "cell_type": "code",
   "execution_count": 17,
   "id": "232ad3cc",
   "metadata": {},
   "outputs": [],
   "source": [
    "#Ans5:\n",
    "l=[2, 3, 6, 9, 27, 60, 90, 120, 55, 46]\n"
   ]
  },
  {
   "cell_type": "code",
   "execution_count": 19,
   "id": "d01f1c6b",
   "metadata": {},
   "outputs": [
    {
     "data": {
      "text/plain": [
       "[6, 60, 90, 120]"
      ]
     },
     "execution_count": 19,
     "metadata": {},
     "output_type": "execute_result"
    }
   ],
   "source": [
    "list(filter(lambda x:x%2==0 and x%3==0,l))"
   ]
  },
  {
   "cell_type": "code",
   "execution_count": 20,
   "id": "739acef8",
   "metadata": {},
   "outputs": [],
   "source": [
    "#Ans6:\n",
    "l1=['python', 'php', 'aba', 'radar', 'level']"
   ]
  },
  {
   "cell_type": "code",
   "execution_count": 21,
   "id": "b237c33c",
   "metadata": {},
   "outputs": [
    {
     "data": {
      "text/plain": [
       "['php', 'aba', 'radar', 'level']"
      ]
     },
     "execution_count": 21,
     "metadata": {},
     "output_type": "execute_result"
    }
   ],
   "source": [
    "list(filter(lambda x:x ==x[::-1],l1))"
   ]
  },
  {
   "cell_type": "code",
   "execution_count": null,
   "id": "cc45c519",
   "metadata": {},
   "outputs": [],
   "source": []
  }
 ],
 "metadata": {
  "kernelspec": {
   "display_name": "Python 3 (ipykernel)",
   "language": "python",
   "name": "python3"
  },
  "language_info": {
   "codemirror_mode": {
    "name": "ipython",
    "version": 3
   },
   "file_extension": ".py",
   "mimetype": "text/x-python",
   "name": "python",
   "nbconvert_exporter": "python",
   "pygments_lexer": "ipython3",
   "version": "3.9.12"
  }
 },
 "nbformat": 4,
 "nbformat_minor": 5
}

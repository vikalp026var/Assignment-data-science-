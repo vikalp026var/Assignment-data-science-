{
 "cells": [
  {
   "cell_type": "code",
   "execution_count": 1,
   "id": "4c3852a2",
   "metadata": {},
   "outputs": [],
   "source": [
    "#Ans1:An Exception is error that happen during the execution of program.\n",
    "#The difference between them is exeception is erroe that happen during the execurion of program and the syntax errors is error that arise from the syntax if the syntax is error that it raise the syntax error ."
   ]
  },
  {
   "cell_type": "code",
   "execution_count": 3,
   "id": "9e9f4ff9",
   "metadata": {},
   "outputs": [
    {
     "name": "stdout",
     "output_type": "stream",
     "text": [
      "This is jatin\n"
     ]
    }
   ],
   "source": [
    "#Ans2:\n",
    "try :\n",
    "    print(\"This is jatin\")\n",
    "    \n",
    "except:\n",
    "    f=open(\"test1.txt\",'w')\n",
    "    f.read(\"hello its vikalp\")\n",
    "    "
   ]
  },
  {
   "cell_type": "code",
   "execution_count": 4,
   "id": "8b91ae38",
   "metadata": {},
   "outputs": [],
   "source": [
    "#Here is exception is failed for execution so the try is run "
   ]
  },
  {
   "cell_type": "code",
   "execution_count": 5,
   "id": "5d45b065",
   "metadata": {},
   "outputs": [],
   "source": [
    "#Ans3:The try and except block is used to catch and handle exceptions."
   ]
  },
  {
   "cell_type": "code",
   "execution_count": 6,
   "id": "99cda59e",
   "metadata": {},
   "outputs": [
    {
     "name": "stdout",
     "output_type": "stream",
     "text": [
      "This is jatin\n"
     ]
    }
   ],
   "source": [
    "#Example:\n",
    "try :\n",
    "    print(\"This is jatin\")\n",
    "    \n",
    "except:\n",
    "    f=open(\"test1.txt\",'w')\n",
    "    f.read(\"hello its vikalp\")\n",
    "    "
   ]
  },
  {
   "cell_type": "code",
   "execution_count": 15,
   "id": "2528cb15",
   "metadata": {},
   "outputs": [
    {
     "name": "stdout",
     "output_type": "stream",
     "text": [
      "Enter your age: 20\n",
      "You are not allowed to enter, you are too young\n"
     ]
    }
   ],
   "source": [
    "#Ans4:\n",
    "try:\n",
    "    age=int(input('Enter your age: ')) \n",
    "except: print ('You have entered an invalid value. ')\n",
    "else:\n",
    "    if age <= 21:\n",
    "        print('You are not allowed to enter, you are too young')\n",
    "#try is execution then else part will be execute but if the except is execute then the else part is not execute  "
   ]
  },
  {
   "cell_type": "code",
   "execution_count": 16,
   "id": "623e6d08",
   "metadata": {},
   "outputs": [
    {
     "name": "stdout",
     "output_type": "stream",
     "text": [
      "Enter your age: 14\n",
      "You are not allowed to enter, you are too young\n"
     ]
    }
   ],
   "source": [
    "#finally-->\n",
    "try:\n",
    "    age=int(input('Enter your age: ')) \n",
    "except: print ('You have entered an invalid value. ')\n",
    "finally:\n",
    "    if age <= 21:\n",
    "        print('You are not allowed to enter, you are too young')\n",
    "#finally part will be execute even when the try and execept part will not execute "
   ]
  },
  {
   "cell_type": "code",
   "execution_count": 5,
   "id": "de70f873",
   "metadata": {},
   "outputs": [],
   "source": [
    "#raise-->\n",
    "\n",
    "class validdate(Exception):\n",
    "    def __init__(self,msg):\n",
    "        self.msg=msg"
   ]
  },
  {
   "cell_type": "code",
   "execution_count": 6,
   "id": "9a7abc77",
   "metadata": {},
   "outputs": [],
   "source": [
    "def validdate(age):\n",
    "    if age < 0:\n",
    "        raise validdate(\"Entered age is negative\")\n",
    "    elif age > 200:\n",
    "        raise validdate(\"ENtered age is very high \")\n",
    "    else:\n",
    "        print(\"age is valid \")"
   ]
  },
  {
   "cell_type": "code",
   "execution_count": 7,
   "id": "a3cac0db",
   "metadata": {},
   "outputs": [
    {
     "name": "stdout",
     "output_type": "stream",
     "text": [
      "enter your age85\n",
      "age is valid \n"
     ]
    }
   ],
   "source": [
    "try:\n",
    "    age=int(input(\"enter your age\"))\n",
    "    validdate(age)\n",
    "except validdate as e:\n",
    "    print(e)"
   ]
  },
  {
   "cell_type": "code",
   "execution_count": 8,
   "id": "807944db",
   "metadata": {},
   "outputs": [],
   "source": [
    "#Ans5:Custom Exceptions in pyhton is  creating a new class that is derived from the built-in Exception class\n",
    "# its need because add information about project-related problems.\n",
    "#Example:\n",
    "#raise-->\n",
    "\n",
    "class validdate(Exception):\n",
    "    def __init__(self,msg):\n",
    "        self.msg=msg"
   ]
  },
  {
   "cell_type": "code",
   "execution_count": 9,
   "id": "521c295e",
   "metadata": {},
   "outputs": [],
   "source": [
    "def validdate(age):\n",
    "    if age < 0:\n",
    "        raise validdate(\"Entered age is negative\")\n",
    "    elif age > 200:\n",
    "        raise validdate(\"ENtered age is very high \")\n",
    "    else:\n",
    "        print(\"age is valid \")"
   ]
  },
  {
   "cell_type": "code",
   "execution_count": 10,
   "id": "b187a228",
   "metadata": {},
   "outputs": [
    {
     "name": "stdout",
     "output_type": "stream",
     "text": [
      "enter your age54\n",
      "age is valid \n"
     ]
    }
   ],
   "source": [
    "try:\n",
    "    age=int(input(\"enter your age\"))\n",
    "    validdate(age)\n",
    "except validdate as e:\n",
    "    print(e)"
   ]
  },
  {
   "cell_type": "code",
   "execution_count": 11,
   "id": "78acd897",
   "metadata": {},
   "outputs": [
    {
     "name": "stdout",
     "output_type": "stream",
     "text": [
      "enter your age42\n",
      "age is valid \n"
     ]
    }
   ],
   "source": [
    "#Ans6:\n",
    "class validdate(Exception):\n",
    "    def __init__(self,msg):\n",
    "        self.msg=msg\n",
    "def validdate(age):\n",
    "    if age < 0:\n",
    "        raise validdate(\"Entered age is negative\")\n",
    "    elif age > 200:\n",
    "        raise validdate(\"ENtered age is very high \")\n",
    "    else:\n",
    "        print(\"age is valid \")\n",
    "try:\n",
    "    age=int(input(\"enter your age\"))\n",
    "    validdate(age)\n",
    "except validdate as e:\n",
    "    print(e)\n"
   ]
  },
  {
   "cell_type": "code",
   "execution_count": null,
   "id": "3d82fab6",
   "metadata": {},
   "outputs": [],
   "source": []
  }
 ],
 "metadata": {
  "kernelspec": {
   "display_name": "Python 3 (ipykernel)",
   "language": "python",
   "name": "python3"
  },
  "language_info": {
   "codemirror_mode": {
    "name": "ipython",
    "version": 3
   },
   "file_extension": ".py",
   "mimetype": "text/x-python",
   "name": "python",
   "nbconvert_exporter": "python",
   "pygments_lexer": "ipython3",
   "version": "3.9.12"
  }
 },
 "nbformat": 4,
 "nbformat_minor": 5
}

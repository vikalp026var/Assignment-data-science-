{
 "cells": [
  {
   "cell_type": "code",
   "execution_count": 1,
   "id": "5ad0017e",
   "metadata": {},
   "outputs": [],
   "source": [
    "#Ans1:Activation Function that decides that the pearticular neuron fires or not."
   ]
  },
  {
   "cell_type": "code",
   "execution_count": 2,
   "id": "894c7eef",
   "metadata": {},
   "outputs": [],
   "source": [
    "#Ans2:1.Softmax,Sigmoid,Tangent,ReLU,Leaky ReLu,Parametric ReLu."
   ]
  },
  {
   "cell_type": "code",
   "execution_count": 3,
   "id": "d926eb15",
   "metadata": {},
   "outputs": [],
   "source": [
    "#Ans3:An Activation Function decides whether a neuron should be activated or not.\n",
    "#linear activation functions maintain a constant, non-linear activation functions create more variation which utilizes the build of the neural network."
   ]
  },
  {
   "cell_type": "code",
   "execution_count": 4,
   "id": "2a3e5f09",
   "metadata": {},
   "outputs": [],
   "source": [
    "#ANs4:sign(x)=1/1+e^-x where its value lies between 0 and 1 .Advantage it is well work but its disadvantage is it is not work below 0 ."
   ]
  },
  {
   "cell_type": "code",
   "execution_count": 5,
   "id": "8310ebea",
   "metadata": {},
   "outputs": [],
   "source": [
    "#ANs5:It defines the function has max(x,0) where x lies between 0 and 1 .It is differ from the sigmoid function its fuction"
   ]
  },
  {
   "cell_type": "code",
   "execution_count": 6,
   "id": "da5a63ea",
   "metadata": {},
   "outputs": [],
   "source": [
    "#Ans6:Benefits is ReLu is faster to compute than the sigmoid function, and its derivative is faster to compute. "
   ]
  },
  {
   "cell_type": "code",
   "execution_count": 7,
   "id": "013ab71e",
   "metadata": {},
   "outputs": [],
   "source": [
    "#Ans7:Leaky relu is work on the negative axis by multiplying the some contant but the relu is not work ."
   ]
  },
  {
   "cell_type": "code",
   "execution_count": 8,
   "id": "70f28255",
   "metadata": {},
   "outputs": [],
   "source": [
    "#Ans8:It is use in multiclass problem where it select which class has high probaility ."
   ]
  },
  {
   "cell_type": "code",
   "execution_count": 9,
   "id": "26ccbc4b",
   "metadata": {},
   "outputs": [],
   "source": [
    "#Ans9:Tangent function is e^x-e^-x/e^x+e^-x.Sigmoid function lies in 0 to 1 where tangeng lies between -1 to 1."
   ]
  },
  {
   "cell_type": "code",
   "execution_count": null,
   "id": "32d13544",
   "metadata": {},
   "outputs": [],
   "source": []
  }
 ],
 "metadata": {
  "kernelspec": {
   "display_name": "Python 3 (ipykernel)",
   "language": "python",
   "name": "python3"
  },
  "language_info": {
   "codemirror_mode": {
    "name": "ipython",
    "version": 3
   },
   "file_extension": ".py",
   "mimetype": "text/x-python",
   "name": "python",
   "nbconvert_exporter": "python",
   "pygments_lexer": "ipython3",
   "version": "3.9.12"
  }
 },
 "nbformat": 4,
 "nbformat_minor": 5
}

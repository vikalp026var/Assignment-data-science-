{
 "cells": [
  {
   "cell_type": "code",
   "execution_count": 2,
   "id": "783c81c3",
   "metadata": {},
   "outputs": [
    {
     "data": {
      "text/plain": [
       "<function bokeh.io.output.output_notebook(resources: 'Resources | None' = None, verbose: 'bool' = False, hide_banner: 'bool' = False, load_timeout: 'int' = 5000, notebook_type: 'NotebookType' = 'jupyter') -> 'None'>"
      ]
     },
     "execution_count": 2,
     "metadata": {},
     "output_type": "execute_result"
    }
   ],
   "source": [
    "#Ans1:\n",
    "import bokeh.io\n",
    "import bokeh.plotting\n",
    "bokeh.io.output_notebook"
   ]
  },
  {
   "cell_type": "code",
   "execution_count": 3,
   "id": "6c29c11a",
   "metadata": {},
   "outputs": [],
   "source": [
    "from bokeh.plotting import figure,output_file,show\n",
    "from bokeh.sampledata.iris import flowers\n",
    "output_file('test.html')\n"
   ]
  },
  {
   "cell_type": "code",
   "execution_count": 6,
   "id": "32d2301a",
   "metadata": {},
   "outputs": [],
   "source": [
    "p=figure(title='test flower')\n",
    "p.xaxis.axis_label=\"patel length \"\n",
    "p.yaxis.axis_label='patel width'\n",
    "p.circle(flowers['petal_length'],flowers['petal_width'])\n",
    "show(p)"
   ]
  },
  {
   "cell_type": "code",
   "execution_count": 7,
   "id": "036b5059",
   "metadata": {},
   "outputs": [],
   "source": [
    "#Ans2:Glyphs in Bokeh refer to the visual components of a plot such as circles, squares, lines, and bars. "
   ]
  },
  {
   "cell_type": "code",
   "execution_count": 8,
   "id": "cde13ed9",
   "metadata": {},
   "outputs": [],
   "source": [
    "p=figure(title='test flower')\n",
    "p.xaxis.axis_label=\"patel length \"\n",
    "p.yaxis.axis_label='patel width'\n",
    "p.circle(flowers['petal_length'],flowers['petal_width'])\n",
    "show(p)"
   ]
  },
  {
   "cell_type": "code",
   "execution_count": 10,
   "id": "ed2ebbf6",
   "metadata": {},
   "outputs": [],
   "source": [
    "#Ans3:\n",
    "x=[2,3,4,5,6]\n",
    "y=[3,4,5,6,7]\n",
    "output_file(\"line.html\")\n",
    "p=figure(title=\"line\")\n",
    "p.scatter(x,y,fill_color='red',size=20,legend_label='redpoint')\n",
    "show(p)"
   ]
  },
  {
   "cell_type": "code",
   "execution_count": 12,
   "id": "82d55958",
   "metadata": {},
   "outputs": [],
   "source": [
    "#Ans4:A Bokeh server is a Python process that allows you to create interactive data visualizations that can be updated in real time, using Bokeh's powerful tools and widgets. \n",
    "from bokeh.io import curdoc\n",
    "from bokeh.models import ColumnDataSource\n",
    "from bokeh.plotting import figure\n",
    "import numpy as np\n",
    "source = ColumnDataSource(data=dict(x=[], y=[]))\n",
    "plot = figure(x_range=(0, 1), y_range=(0, 1))\n",
    "plot.circle(x='x', y='y', source=source)\n",
    "def update():\n",
    "    new_data = dict(x=[np.random.random()], y=[np.random.random()])\n",
    "    source.stream(new_data, rollover=10)\n",
    "curdoc().add_periodic_callback(update, 1000)\n",
    "curdoc().title = \"Real-time Scatter Plot\"\n",
    "curdoc().add_root(plot)\n"
   ]
  },
  {
   "cell_type": "code",
   "execution_count": 13,
   "id": "ab60a756",
   "metadata": {},
   "outputs": [],
   "source": [
    "#Ans5:\n",
    "from flask import Flask, render_template\n",
    "from bokeh.embed import components\n",
    "from bokeh.plotting import figure\n",
    "from bokeh.resources import CDN\n"
   ]
  },
  {
   "cell_type": "code",
   "execution_count": 14,
   "id": "55c02630",
   "metadata": {},
   "outputs": [],
   "source": [
    "app = Flask(__name__)\n",
    "\n",
    "@app.route('/')\n",
    "def index():\n",
    "    plot = figure()\n",
    "    plot.circle([1, 2, 3], [4, 5, 6])\n",
    "    script, div = components(plot, CDN)\n",
    "    return render_template('index.html', script=script, div=div)\n"
   ]
  },
  {
   "cell_type": "code",
   "execution_count": null,
   "id": "3f38c594",
   "metadata": {},
   "outputs": [],
   "source": []
  }
 ],
 "metadata": {
  "kernelspec": {
   "display_name": "Python 3 (ipykernel)",
   "language": "python",
   "name": "python3"
  },
  "language_info": {
   "codemirror_mode": {
    "name": "ipython",
    "version": 3
   },
   "file_extension": ".py",
   "mimetype": "text/x-python",
   "name": "python",
   "nbconvert_exporter": "python",
   "pygments_lexer": "ipython3",
   "version": "3.9.12"
  }
 },
 "nbformat": 4,
 "nbformat_minor": 5
}

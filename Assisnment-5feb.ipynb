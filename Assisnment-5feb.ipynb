{
 "cells": [
  {
   "cell_type": "code",
   "execution_count": 5,
   "id": "26a8e45a",
   "metadata": {},
   "outputs": [],
   "source": [
    "#Ans1:A Class is like an object constructor, or a \"blueprint\" for creating object And object is an instance of class\n",
    "#Ex :\n",
    "class name:\n",
    "    def __init__(self,data,rank):\n",
    "        self.data=data\n",
    "        self.rank=rank\n",
    "    def na():\n",
    "        return self.data,self.rank"
   ]
  },
  {
   "cell_type": "code",
   "execution_count": 6,
   "id": "627d44f9",
   "metadata": {},
   "outputs": [],
   "source": [
    "vikalp=name(50,60)"
   ]
  },
  {
   "cell_type": "code",
   "execution_count": 9,
   "id": "9c309450",
   "metadata": {},
   "outputs": [
    {
     "data": {
      "text/plain": [
       "50"
      ]
     },
     "execution_count": 9,
     "metadata": {},
     "output_type": "execute_result"
    }
   ],
   "source": [
    "vikalp.data"
   ]
  },
  {
   "cell_type": "code",
   "execution_count": 10,
   "id": "a0238ad9",
   "metadata": {},
   "outputs": [
    {
     "data": {
      "text/plain": [
       "60"
      ]
     },
     "execution_count": 10,
     "metadata": {},
     "output_type": "execute_result"
    }
   ],
   "source": [
    "vikalp.rank"
   ]
  },
  {
   "cell_type": "code",
   "execution_count": 11,
   "id": "af31d1ff",
   "metadata": {},
   "outputs": [],
   "source": [
    "#Ans 2:Four pillars of oops is :Encapsulation,Inheritance,Polymorphishm,Abstraction"
   ]
  },
  {
   "cell_type": "code",
   "execution_count": 12,
   "id": "8da71504",
   "metadata": {},
   "outputs": [],
   "source": [
    "#Ans 3:__init __() function is constructor that any object use automatically at the time of object declartion."
   ]
  },
  {
   "cell_type": "code",
   "execution_count": 14,
   "id": "7036f7ed",
   "metadata": {},
   "outputs": [],
   "source": [
    "#Ans 4:self is not reserved data type that is denote that a function is for different functions for different object."
   ]
  },
  {
   "cell_type": "code",
   "execution_count": null,
   "id": "1cd322e2",
   "metadata": {},
   "outputs": [],
   "source": [
    "#Ans 5:Inheritance is a process that a class become  reusable to another class through which we have not a declare a same class for same function for  "
   ]
  }
 ],
 "metadata": {
  "kernelspec": {
   "display_name": "Python 3 (ipykernel)",
   "language": "python",
   "name": "python3"
  },
  "language_info": {
   "codemirror_mode": {
    "name": "ipython",
    "version": 3
   },
   "file_extension": ".py",
   "mimetype": "text/x-python",
   "name": "python",
   "nbconvert_exporter": "python",
   "pygments_lexer": "ipython3",
   "version": "3.9.12"
  }
 },
 "nbformat": 4,
 "nbformat_minor": 5
}

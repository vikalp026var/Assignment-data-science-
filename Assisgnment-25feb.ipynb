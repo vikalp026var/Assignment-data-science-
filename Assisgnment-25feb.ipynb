{
 "cells": [
  {
   "cell_type": "code",
   "execution_count": null,
   "id": "db814edc",
   "metadata": {},
   "outputs": [],
   "source": [
    "import pandas as pd\n",
    "from datetime import timedelta\n",
    "course_name = {'A':[\"Data Science\", \"Machine Learning\", \"Big Data\", \"Data Engineer\"]}\n",
    "\n",
    "df = pd.DataFrame(course_name,index=[1,2,3,4])"
   ]
  },
  {
   "cell_type": "code",
   "execution_count": null,
   "id": "42717db4",
   "metadata": {},
   "outputs": [],
   "source": [
    "#Ans1\n",
    "df"
   ]
  },
  {
   "cell_type": "code",
   "execution_count": null,
   "id": "b404310f",
   "metadata": {},
   "outputs": [],
   "source": [
    "#Ans2:\n",
    "df = pd.DataFrame(course_name,index=['1','2','3','4'])"
   ]
  },
  {
   "cell_type": "code",
   "execution_count": null,
   "id": "90230a73",
   "metadata": {},
   "outputs": [],
   "source": [
    "df"
   ]
  },
  {
   "cell_type": "code",
   "execution_count": null,
   "id": "e52be4a1",
   "metadata": {},
   "outputs": [],
   "source": [
    "\n",
    "df.iloc[1:3,[0]]"
   ]
  },
  {
   "cell_type": "code",
   "execution_count": null,
   "id": "7bc52977",
   "metadata": {},
   "outputs": [],
   "source": [
    "df.loc['1']"
   ]
  },
  {
   "cell_type": "code",
   "execution_count": null,
   "id": "dce9db05",
   "metadata": {},
   "outputs": [],
   "source": [
    "#Ans3:\n",
    "new_df=pd.DataFrame(course_name,index=[3,0,1,2])"
   ]
  },
  {
   "cell_type": "code",
   "execution_count": null,
   "id": "ec9291f9",
   "metadata": {},
   "outputs": [],
   "source": [
    "new_df"
   ]
  },
  {
   "cell_type": "code",
   "execution_count": null,
   "id": "f8831eee",
   "metadata": {},
   "outputs": [],
   "source": [
    "new_df.loc[2]"
   ]
  },
  {
   "cell_type": "code",
   "execution_count": null,
   "id": "c87ef5eb",
   "metadata": {},
   "outputs": [],
   "source": [
    "new_df.iloc[2]"
   ]
  },
  {
   "cell_type": "code",
   "execution_count": null,
   "id": "4cda83f5",
   "metadata": {},
   "outputs": [],
   "source": [
    "#yes we observe the difference bettween the outputs means that in loc function that at index is 2 which is define in the index at the time dataframe but in iloc at 2 it means that pandas automatic given index to Big data at time of dataframe so it we observe the different data "
   ]
  },
  {
   "cell_type": "code",
   "execution_count": null,
   "id": "3cb199d8",
   "metadata": {},
   "outputs": [],
   "source": [
    "#Ans4:\n",
    "import pandas as pd\n",
    "import numpy as np\n",
    "columns = ['column_1', 'column_2', 'column_3', 'column_4', 'column_5', 'column_6']\n",
    "indices = [1,2,3,4,5,6]\n",
    "#Creating a dataframe:\n",
    "df1 = pd.DataFrame(np.random.rand(6,6), columns = columns, index = indices)"
   ]
  },
  {
   "cell_type": "code",
   "execution_count": null,
   "id": "11e4ba43",
   "metadata": {},
   "outputs": [],
   "source": [
    "df1.mean()"
   ]
  },
  {
   "cell_type": "code",
   "execution_count": null,
   "id": "d4dfeffb",
   "metadata": {},
   "outputs": [],
   "source": [
    "df1.std()[2]"
   ]
  },
  {
   "cell_type": "code",
   "execution_count": null,
   "id": "a6b58c51",
   "metadata": {},
   "outputs": [],
   "source": [
    "#ANs5:\n",
    "df1['col']=df1.loc[0:6,['column_2']]"
   ]
  },
  {
   "cell_type": "code",
   "execution_count": null,
   "id": "f4fcd439",
   "metadata": {},
   "outputs": [],
   "source": [
    "df1"
   ]
  },
  {
   "cell_type": "code",
   "execution_count": null,
   "id": "5b12b6b4",
   "metadata": {},
   "outputs": [],
   "source": [
    "df1['col'].mean()"
   ]
  },
  {
   "cell_type": "code",
   "execution_count": null,
   "id": "115314a9",
   "metadata": {},
   "outputs": [],
   "source": [
    "#Ans6:\n",
    "#window means that it wrap the data \n",
    "#mean\n",
    "#std\n",
    "#add\n"
   ]
  },
  {
   "cell_type": "code",
   "execution_count": 1,
   "id": "31ea47ae",
   "metadata": {},
   "outputs": [
    {
     "ename": "NameError",
     "evalue": "name 'pd' is not defined",
     "output_type": "error",
     "traceback": [
      "\u001b[1;31m---------------------------------------------------------------------------\u001b[0m",
      "\u001b[1;31mNameError\u001b[0m                                 Traceback (most recent call last)",
      "Input \u001b[1;32mIn [1]\u001b[0m, in \u001b[0;36m<cell line: 4>\u001b[1;34m()\u001b[0m\n\u001b[0;32m      2\u001b[0m \u001b[38;5;28;01mimport\u001b[39;00m \u001b[38;5;21;01mdatetime\u001b[39;00m \u001b[38;5;28;01mas\u001b[39;00m \u001b[38;5;21;01mdt\u001b[39;00m\n\u001b[0;32m      3\u001b[0m data\u001b[38;5;241m=\u001b[39m{\u001b[38;5;124m'\u001b[39m\u001b[38;5;124mdate\u001b[39m\u001b[38;5;124m'\u001b[39m:[\u001b[38;5;124m'\u001b[39m\u001b[38;5;124m27-02-2023\u001b[39m\u001b[38;5;124m'\u001b[39m]}\n\u001b[1;32m----> 4\u001b[0m df\u001b[38;5;241m=\u001b[39m\u001b[43mpd\u001b[49m\u001b[38;5;241m.\u001b[39mDataFrame(data,index\u001b[38;5;241m=\u001b[39m[\u001b[38;5;241m1\u001b[39m,\u001b[38;5;241m2\u001b[39m,\u001b[38;5;241m3\u001b[39m])\n\u001b[0;32m      5\u001b[0m df[\u001b[38;5;124m'\u001b[39m\u001b[38;5;124myear\u001b[39m\u001b[38;5;124m'\u001b[39m] \u001b[38;5;241m=\u001b[39m df[\u001b[38;5;124m'\u001b[39m\u001b[38;5;124mdate\u001b[39m\u001b[38;5;124m'\u001b[39m]\u001b[38;5;241m.\u001b[39myear\n\u001b[0;32m      6\u001b[0m df[\u001b[38;5;124m'\u001b[39m\u001b[38;5;124mmonth\u001b[39m\u001b[38;5;124m'\u001b[39m] \u001b[38;5;241m=\u001b[39m df[\u001b[38;5;124m'\u001b[39m\u001b[38;5;124mdate\u001b[39m\u001b[38;5;124m'\u001b[39m]\u001b[38;5;241m.\u001b[39mmonth\n",
      "\u001b[1;31mNameError\u001b[0m: name 'pd' is not defined"
     ]
    }
   ],
   "source": [
    "#Ans7:\n",
    "import datetime as dt\n",
    "data={'date':['27-02-2023']}\n",
    "df=pd.DataFrame(data,index=[1,2,3])\n",
    "df['year'] = df['date'].year\n",
    "df['month'] = df['date'].month"
   ]
  },
  {
   "cell_type": "code",
   "execution_count": 3,
   "id": "64d8484c",
   "metadata": {},
   "outputs": [
    {
     "name": "stdout",
     "output_type": "stream",
     "text": [
      "Enter the date 12023-02-25\n",
      "Enter the date 22023-02-27\n"
     ]
    },
    {
     "ename": "TypeError",
     "evalue": "an integer is required (got type str)",
     "output_type": "error",
     "traceback": [
      "\u001b[1;31m---------------------------------------------------------------------------\u001b[0m",
      "\u001b[1;31mTypeError\u001b[0m                                 Traceback (most recent call last)",
      "Input \u001b[1;32mIn [3]\u001b[0m, in \u001b[0;36m<cell line: 5>\u001b[1;34m()\u001b[0m\n\u001b[0;32m      3\u001b[0m f_date \u001b[38;5;241m=\u001b[39m \u001b[38;5;28minput\u001b[39m(\u001b[38;5;124m\"\u001b[39m\u001b[38;5;124mEnter the date 1\u001b[39m\u001b[38;5;124m\"\u001b[39m)\n\u001b[0;32m      4\u001b[0m l_date \u001b[38;5;241m=\u001b[39m\u001b[38;5;28minput\u001b[39m(\u001b[38;5;124m\"\u001b[39m\u001b[38;5;124mEnter the date 2\u001b[39m\u001b[38;5;124m\"\u001b[39m)\n\u001b[1;32m----> 5\u001b[0m delta \u001b[38;5;241m=\u001b[39m \u001b[43mdate\u001b[49m\u001b[43m(\u001b[49m\u001b[43ml_date\u001b[49m\u001b[43m)\u001b[49m \u001b[38;5;241m-\u001b[39m date(f_date)\n\u001b[0;32m      6\u001b[0m \u001b[38;5;28mprint\u001b[39m(delta\u001b[38;5;241m.\u001b[39mdays)\n",
      "\u001b[1;31mTypeError\u001b[0m: an integer is required (got type str)"
     ]
    }
   ],
   "source": [
    "#Ans8:\n",
    "from datetime import date\n",
    "f_date = input(\"Enter the date 1\")\n",
    "l_date =input(\"Enter the date 2\")\n",
    "delta = date(l_date) - date(f_date)\n",
    "print(delta.days)\n"
   ]
  },
  {
   "cell_type": "code",
   "execution_count": 3,
   "id": "b33fc8de",
   "metadata": {},
   "outputs": [],
   "source": [
    "import pandas as pd"
   ]
  },
  {
   "cell_type": "code",
   "execution_count": 6,
   "id": "ebbe5d31",
   "metadata": {},
   "outputs": [
    {
     "name": "stdout",
     "output_type": "stream",
     "text": [
      "Enter file path: amazon_product_details.csv\n",
      "Enter column name: Selling_Price\n",
      "Enter category order (comma-separated): 1,2,4\n",
      "                                                  Title  Actual_Price  \\\n",
      "0     Dylect in-Ear Wired Earphone I Stereo Quality ...         299.0   \n",
      "1     Jabra Engage 65 Wireless Headset, Mono – Telep...       77914.0   \n",
      "2     Jabra Elite 3 in Ear Bluetooth Truly Wireless ...        6999.0   \n",
      "3     Zebronics Zeb-Sound Bomb 3 TWS In Ear Earbuds ...        3499.0   \n",
      "4     (Renewed) boAt Airdopes 402 Bluetooth Truly Wi...           NaN   \n",
      "...                                                 ...           ...   \n",
      "1401  Meyaar Alpha-2 Ultralight Weight Wired On Ear ...        1499.0   \n",
      "1402  Jabra Evolve2 75 PC Wireless Headset with 8-Mi...       48212.0   \n",
      "1403  Noise ColorFit Ultra 2 with 1.78\"(4.5cm) AMOLE...           NaN   \n",
      "1404  Jabra EarWave Corded Headset - Compatible with...       11540.0   \n",
      "1405  Skullcandy Inkd Plus Wireless in-Earphone with...        3999.0   \n",
      "\n",
      "     Selling_Price       Brand                      Model        Colour  \\\n",
      "0              NaN      Dylect      Dylect Wired Earphone         Black   \n",
      "1              NaN       Jabra             Engage 65 Mono         Black   \n",
      "2              NaN       Jabra                    Elite 3     Dark Grey   \n",
      "3              NaN   ZEBRONICS  Zeb - Sound Bomb 3 (Blue)          Blue   \n",
      "4              NaN        boAt          Boat Airdopes 408         Black   \n",
      "...            ...         ...                        ...           ...   \n",
      "1401           NaN      Meyaar                    Alpha-2  Carbon Black   \n",
      "1402           NaN       Jabra                 Evolve2 75         Black   \n",
      "1403           NaN       Noise                        NaN         Clear   \n",
      "1404           NaN       Jabra                        NaN         Black   \n",
      "1405           NaN  Skullcandy              Ink'd Plus BT          Blue   \n",
      "\n",
      "     Form_Factor Connectivity_Type  \n",
      "0         In Ear             Wired  \n",
      "1         On Ear          Wireless  \n",
      "2            NaN               NaN  \n",
      "3         In Ear          Wireless  \n",
      "4         In Ear          Wireless  \n",
      "...          ...               ...  \n",
      "1401      On Ear             Wired  \n",
      "1402      On Ear          Wireless  \n",
      "1403         NaN               NaN  \n",
      "1404         NaN             Wired  \n",
      "1405      In Ear         Bluetooth  \n",
      "\n",
      "[1406 rows x 8 columns]\n"
     ]
    }
   ],
   "source": [
    "file_path = input(\"Enter file path: \")\n",
    "df = pd.read_csv(file_path)\n",
    "column_name = input(\"Enter column name: \")\n",
    "category_order = input(\"Enter category order (comma-separated): \").split(\",\")\n",
    "df[column_name] = pd.Categorical(df[column_name], categories=category_order)\n",
    "df_sorted = df.sort_values(column_name)\n",
    "print(df_sorted)\n"
   ]
  },
  {
   "cell_type": "code",
   "execution_count": 5,
   "id": "bf1c3860",
   "metadata": {},
   "outputs": [
    {
     "name": "stdout",
     "output_type": "stream",
     "text": [
      "Enter file path: amazon_product_details.csv\n"
     ]
    },
    {
     "data": {
      "text/plain": [
       "<AxesSubplot:xlabel='Brand'>"
      ]
     },
     "execution_count": 5,
     "metadata": {},
     "output_type": "execute_result"
    },
    {
     "data": {
      "image/png": "[encoded data removed]",
      "text/plain": [
       "<Figure size 432x288 with 1 Axes>"
      ]
     },
     "metadata": {
      "needs_background": "light"
     },
     "output_type": "display_data"
    }
   ],
   "source": [
    "#Ans10:\n",
    "import pandas as pd\n",
    "file_path = input(\"Enter file path: \")\n",
    "df = pd.read_csv(file_path)\n",
    "sales_data = df.groupby(['Brand', 'Selling_Price'])\n",
    "xlabel='Brand'\n",
    "ylabel='Selling_Price'\n",
    "df.plot.bar(xlabel,ylabel)\n",
    "\n",
    "\n"
   ]
  },
  {
   "cell_type": "code",
   "execution_count": 6,
   "id": "5f5b5777",
   "metadata": {},
   "outputs": [
    {
     "data": {
      "text/html": [
       "<div>\n",
       "<style scoped>\n",
       "    .dataframe tbody tr th:only-of-type {\n",
       "        vertical-align: middle;\n",
       "    }\n",
       "\n",
       "    .dataframe tbody tr th {\n",
       "        vertical-align: top;\n",
       "    }\n",
       "\n",
       "    .dataframe thead th {\n",
       "        text-align: right;\n",
       "    }\n",
       "</style>\n",
       "<table border=\"1\" class=\"dataframe\">\n",
       "  <thead>\n",
       "    <tr style=\"text-align: right;\">\n",
       "      <th></th>\n",
       "      <th>gender</th>\n",
       "      <th>race/ethnicity</th>\n",
       "      <th>parental level of education</th>\n",
       "      <th>lunch</th>\n",
       "      <th>test preparation course</th>\n",
       "      <th>math score</th>\n",
       "      <th>reading score</th>\n",
       "      <th>writing score</th>\n",
       "    </tr>\n",
       "  </thead>\n",
       "  <tbody>\n",
       "    <tr>\n",
       "      <th>0</th>\n",
       "      <td>female</td>\n",
       "      <td>group B</td>\n",
       "      <td>bachelor's degree</td>\n",
       "      <td>standard</td>\n",
       "      <td>none</td>\n",
       "      <td>72</td>\n",
       "      <td>72</td>\n",
       "      <td>74</td>\n",
       "    </tr>\n",
       "    <tr>\n",
       "      <th>1</th>\n",
       "      <td>female</td>\n",
       "      <td>group C</td>\n",
       "      <td>some college</td>\n",
       "      <td>standard</td>\n",
       "      <td>completed</td>\n",
       "      <td>69</td>\n",
       "      <td>90</td>\n",
       "      <td>88</td>\n",
       "    </tr>\n",
       "    <tr>\n",
       "      <th>2</th>\n",
       "      <td>female</td>\n",
       "      <td>group B</td>\n",
       "      <td>master's degree</td>\n",
       "      <td>standard</td>\n",
       "      <td>none</td>\n",
       "      <td>90</td>\n",
       "      <td>95</td>\n",
       "      <td>93</td>\n",
       "    </tr>\n",
       "    <tr>\n",
       "      <th>3</th>\n",
       "      <td>male</td>\n",
       "      <td>group A</td>\n",
       "      <td>associate's degree</td>\n",
       "      <td>free/reduced</td>\n",
       "      <td>none</td>\n",
       "      <td>47</td>\n",
       "      <td>57</td>\n",
       "      <td>44</td>\n",
       "    </tr>\n",
       "    <tr>\n",
       "      <th>4</th>\n",
       "      <td>male</td>\n",
       "      <td>group C</td>\n",
       "      <td>some college</td>\n",
       "      <td>standard</td>\n",
       "      <td>none</td>\n",
       "      <td>76</td>\n",
       "      <td>78</td>\n",
       "      <td>75</td>\n",
       "    </tr>\n",
       "    <tr>\n",
       "      <th>...</th>\n",
       "      <td>...</td>\n",
       "      <td>...</td>\n",
       "      <td>...</td>\n",
       "      <td>...</td>\n",
       "      <td>...</td>\n",
       "      <td>...</td>\n",
       "      <td>...</td>\n",
       "      <td>...</td>\n",
       "    </tr>\n",
       "    <tr>\n",
       "      <th>995</th>\n",
       "      <td>female</td>\n",
       "      <td>group E</td>\n",
       "      <td>master's degree</td>\n",
       "      <td>standard</td>\n",
       "      <td>completed</td>\n",
       "      <td>88</td>\n",
       "      <td>99</td>\n",
       "      <td>95</td>\n",
       "    </tr>\n",
       "    <tr>\n",
       "      <th>996</th>\n",
       "      <td>male</td>\n",
       "      <td>group C</td>\n",
       "      <td>high school</td>\n",
       "      <td>free/reduced</td>\n",
       "      <td>none</td>\n",
       "      <td>62</td>\n",
       "      <td>55</td>\n",
       "      <td>55</td>\n",
       "    </tr>\n",
       "    <tr>\n",
       "      <th>997</th>\n",
       "      <td>female</td>\n",
       "      <td>group C</td>\n",
       "      <td>high school</td>\n",
       "      <td>free/reduced</td>\n",
       "      <td>completed</td>\n",
       "      <td>59</td>\n",
       "      <td>71</td>\n",
       "      <td>65</td>\n",
       "    </tr>\n",
       "    <tr>\n",
       "      <th>998</th>\n",
       "      <td>female</td>\n",
       "      <td>group D</td>\n",
       "      <td>some college</td>\n",
       "      <td>standard</td>\n",
       "      <td>completed</td>\n",
       "      <td>68</td>\n",
       "      <td>78</td>\n",
       "      <td>77</td>\n",
       "    </tr>\n",
       "    <tr>\n",
       "      <th>999</th>\n",
       "      <td>female</td>\n",
       "      <td>group D</td>\n",
       "      <td>some college</td>\n",
       "      <td>free/reduced</td>\n",
       "      <td>none</td>\n",
       "      <td>77</td>\n",
       "      <td>86</td>\n",
       "      <td>86</td>\n",
       "    </tr>\n",
       "  </tbody>\n",
       "</table>\n",
       "<p>1000 rows × 8 columns</p>\n",
       "</div>"
      ],
      "text/plain": [
       "     gender race/ethnicity parental level of education         lunch  \\\n",
       "0    female        group B           bachelor's degree      standard   \n",
       "1    female        group C                some college      standard   \n",
       "2    female        group B             master's degree      standard   \n",
       "3      male        group A          associate's degree  free/reduced   \n",
       "4      male        group C                some college      standard   \n",
       "..      ...            ...                         ...           ...   \n",
       "995  female        group E             master's degree      standard   \n",
       "996    male        group C                 high school  free/reduced   \n",
       "997  female        group C                 high school  free/reduced   \n",
       "998  female        group D                some college      standard   \n",
       "999  female        group D                some college  free/reduced   \n",
       "\n",
       "    test preparation course  math score  reading score  writing score  \n",
       "0                      none          72             72             74  \n",
       "1                 completed          69             90             88  \n",
       "2                      none          90             95             93  \n",
       "3                      none          47             57             44  \n",
       "4                      none          76             78             75  \n",
       "..                      ...         ...            ...            ...  \n",
       "995               completed          88             99             95  \n",
       "996                    none          62             55             55  \n",
       "997               completed          59             71             65  \n",
       "998               completed          68             78             77  \n",
       "999                    none          77             86             86  \n",
       "\n",
       "[1000 rows x 8 columns]"
      ]
     },
     "execution_count": 6,
     "metadata": {},
     "output_type": "execute_result"
    }
   ],
   "source": [
    "pd.read_csv(\"StudentsPerformance.csv\")"
   ]
  },
  {
   "cell_type": "code",
   "execution_count": 9,
   "id": "c29619bf",
   "metadata": {},
   "outputs": [
    {
     "name": "stdout",
     "output_type": "stream",
     "text": [
      "Enter file path: StudentsPerformance.csv\n"
     ]
    }
   ],
   "source": [
    "#Ans11:\n",
    "import pandas as pd\n",
    "file_path = input(\"Enter file path: \")\n",
    "df = pd.read_csv(file_path)\n",
    "sales_data = df.describe()"
   ]
  },
  {
   "cell_type": "code",
   "execution_count": null,
   "id": "31be34b7",
   "metadata": {},
   "outputs": [],
   "source": []
  }
 ],
 "metadata": {
  "kernelspec": {
   "display_name": "Python 3 (ipykernel)",
   "language": "python",
   "name": "python3"
  },
  "language_info": {
   "codemirror_mode": {
    "name": "ipython",
    "version": 3
   },
   "file_extension": ".py",
   "mimetype": "text/x-python",
   "name": "python",
   "nbconvert_exporter": "python",
   "pygments_lexer": "ipython3",
   "version": "3.9.12"
  }
 },
 "nbformat": 4,
 "nbformat_minor": 5
}

{
 "cells": [
  {
   "cell_type": "code",
   "execution_count": 1,
   "id": "f9831afd",
   "metadata": {},
   "outputs": [],
   "source": [
    "#Ans1:Batch normalisation is just like we train our model by giving the batch data for making the training faster."
   ]
  },
  {
   "cell_type": "code",
   "execution_count": 2,
   "id": "6cafbb94",
   "metadata": {},
   "outputs": [],
   "source": [
    "#Ans2:Faster Training ,Stability,Internal covariant shift are the benfits of using the batch normalisation during training."
   ]
  },
  {
   "cell_type": "code",
   "execution_count": 3,
   "id": "542a267e",
   "metadata": {},
   "outputs": [],
   "source": [
    "#ANs3:Just putting the layer of batch normailsation between the dense layer then the training data will normalise by adding the two trainable parameter ."
   ]
  },
  {
   "cell_type": "markdown",
   "id": "13aeeb10",
   "metadata": {},
   "source": [
    "# Implementation\n"
   ]
  },
  {
   "cell_type": "code",
   "execution_count": 1,
   "id": "dc60b165",
   "metadata": {},
   "outputs": [],
   "source": [
    "#ANs1:\n",
    "import numpy as np\n",
    "import pandas as pd\n",
    "import seaborn as sns \n",
    "import matplotlib.pyplot as plt\n",
    "%matplotlib inline\n",
    "import tensorflow as tf \n",
    "from tensorflow.keras.layers import Dense,Flatten,BatchNormalization\n",
    "from tensorflow.keras.models import Sequential\n",
    "from tensorflow.keras.datasets import mnist"
   ]
  },
  {
   "cell_type": "code",
   "execution_count": 2,
   "id": "a47bc3fc",
   "metadata": {},
   "outputs": [],
   "source": [
    "(X_train,y_train),(X_test,y_test)=mnist.load_data()"
   ]
  },
  {
   "cell_type": "code",
   "execution_count": 3,
   "id": "d43abffd",
   "metadata": {},
   "outputs": [
    {
     "data": {
      "text/plain": [
       "((60000, 28, 28), (10000, 28, 28))"
      ]
     },
     "execution_count": 3,
     "metadata": {},
     "output_type": "execute_result"
    }
   ],
   "source": [
    "X_train.shape,X_test.shape"
   ]
  },
  {
   "cell_type": "code",
   "execution_count": 4,
   "id": "f18a1661",
   "metadata": {},
   "outputs": [
    {
     "data": {
      "text/plain": [
       "((60000,), (10000,))"
      ]
     },
     "execution_count": 4,
     "metadata": {},
     "output_type": "execute_result"
    }
   ],
   "source": [
    "y_train.shape,y_test.shape"
   ]
  },
  {
   "cell_type": "code",
   "execution_count": 5,
   "id": "6b09cbb0",
   "metadata": {},
   "outputs": [],
   "source": [
    "X_train_scale=X_train/255.0"
   ]
  },
  {
   "cell_type": "code",
   "execution_count": 6,
   "id": "886f4417",
   "metadata": {},
   "outputs": [],
   "source": [
    "X_test_scale=X_test/255.0"
   ]
  },
  {
   "cell_type": "code",
   "execution_count": 7,
   "id": "c24f11c2",
   "metadata": {},
   "outputs": [],
   "source": [
    "X_valid,X_train=X_train_scale[:5000],X_train_scale[5000:]\n",
    "y_valid,y_train=y_train[:5000],y_train[5000:]"
   ]
  },
  {
   "cell_type": "code",
   "execution_count": 8,
   "id": "5f4a8e2c",
   "metadata": {},
   "outputs": [],
   "source": [
    "model=Sequential()"
   ]
  },
  {
   "cell_type": "code",
   "execution_count": 9,
   "id": "ba481283",
   "metadata": {},
   "outputs": [],
   "source": [
    "model.add(Flatten(input_shape=[28,28]))"
   ]
  },
  {
   "cell_type": "code",
   "execution_count": 10,
   "id": "5ac9a8f2",
   "metadata": {},
   "outputs": [],
   "source": [
    "model.add(Dense(300,activation='relu'))"
   ]
  },
  {
   "cell_type": "code",
   "execution_count": 11,
   "id": "ed68262b",
   "metadata": {},
   "outputs": [],
   "source": [
    "model.add(Dense(300,activation='relu'))"
   ]
  },
  {
   "cell_type": "code",
   "execution_count": 12,
   "id": "ad8cdd0d",
   "metadata": {},
   "outputs": [],
   "source": [
    "model.add(Dense(10,activation='softmax'))"
   ]
  },
  {
   "cell_type": "code",
   "execution_count": 13,
   "id": "053254fb",
   "metadata": {},
   "outputs": [],
   "source": [
    "model.compile(loss='sparse_categorical_crossentropy',optimizer='SGD',metrics=['accuracy'])"
   ]
  },
  {
   "cell_type": "code",
   "execution_count": 14,
   "id": "fefb462d",
   "metadata": {},
   "outputs": [
    {
     "name": "stdout",
     "output_type": "stream",
     "text": [
      "Model: \"sequential\"\n",
      "_________________________________________________________________\n",
      " Layer (type)                Output Shape              Param #   \n",
      "=================================================================\n",
      " flatten (Flatten)           (None, 784)               0         \n",
      "                                                                 \n",
      " dense (Dense)               (None, 300)               235500    \n",
      "                                                                 \n",
      " dense_1 (Dense)             (None, 300)               90300     \n",
      "                                                                 \n",
      " dense_2 (Dense)             (None, 10)                3010      \n",
      "                                                                 \n",
      "=================================================================\n",
      "Total params: 328,810\n",
      "Trainable params: 328,810\n",
      "Non-trainable params: 0\n",
      "_________________________________________________________________\n"
     ]
    }
   ],
   "source": [
    "model.summary()"
   ]
  },
  {
   "cell_type": "code",
   "execution_count": 15,
   "id": "2d1dd47d",
   "metadata": {},
   "outputs": [
    {
     "name": "stdout",
     "output_type": "stream",
     "text": [
      "Epoch 1/10\n",
      "1719/1719 [==============================] - 4s 2ms/step - loss: 0.6196 - accuracy: 0.8415\n",
      "Epoch 2/10\n",
      "1719/1719 [==============================] - 4s 2ms/step - loss: 0.2943 - accuracy: 0.9163\n",
      "Epoch 3/10\n",
      "1719/1719 [==============================] - 4s 2ms/step - loss: 0.2418 - accuracy: 0.9318\n",
      "Epoch 4/10\n",
      "1719/1719 [==============================] - 4s 2ms/step - loss: 0.2067 - accuracy: 0.9409\n",
      "Epoch 5/10\n",
      "1719/1719 [==============================] - 4s 2ms/step - loss: 0.1808 - accuracy: 0.9489\n",
      "Epoch 6/10\n",
      "1719/1719 [==============================] - 4s 2ms/step - loss: 0.1603 - accuracy: 0.9548\n",
      "Epoch 7/10\n",
      "1719/1719 [==============================] - 4s 2ms/step - loss: 0.1442 - accuracy: 0.9595\n",
      "Epoch 8/10\n",
      "1719/1719 [==============================] - 4s 2ms/step - loss: 0.1301 - accuracy: 0.9629\n",
      "Epoch 9/10\n",
      "1719/1719 [==============================] - 4s 2ms/step - loss: 0.1192 - accuracy: 0.9665\n",
      "Epoch 10/10\n",
      "1719/1719 [==============================] - 4s 2ms/step - loss: 0.1089 - accuracy: 0.9690\n"
     ]
    },
    {
     "data": {
      "text/plain": [
       "<keras.callbacks.History at 0x21e3614e610>"
      ]
     },
     "execution_count": 15,
     "metadata": {},
     "output_type": "execute_result"
    }
   ],
   "source": [
    "model.fit(X_train,y_train,epochs=10,batch_size=32)"
   ]
  },
  {
   "cell_type": "code",
   "execution_count": 16,
   "id": "bd70c834",
   "metadata": {},
   "outputs": [
    {
     "name": "stdout",
     "output_type": "stream",
     "text": [
      "313/313 [==============================] - 1s 1ms/step - loss: 16.6705 - accuracy: 0.9639\n"
     ]
    },
    {
     "data": {
      "text/plain": [
       "[16.670480728149414, 0.9639000296592712]"
      ]
     },
     "execution_count": 16,
     "metadata": {},
     "output_type": "execute_result"
    }
   ],
   "source": [
    "model.evaluate(X_test,y_test)"
   ]
  },
  {
   "cell_type": "code",
   "execution_count": 17,
   "id": "9da91dca",
   "metadata": {},
   "outputs": [],
   "source": [
    "#Using batch normalisation"
   ]
  },
  {
   "cell_type": "code",
   "execution_count": 18,
   "id": "d3326335",
   "metadata": {},
   "outputs": [],
   "source": [
    "model.add(Flatten(input_shape=[28,28]))"
   ]
  },
  {
   "cell_type": "code",
   "execution_count": 19,
   "id": "b41f7a7b",
   "metadata": {},
   "outputs": [],
   "source": [
    "model.add(BatchNormalization())"
   ]
  },
  {
   "cell_type": "code",
   "execution_count": 20,
   "id": "2456cae2",
   "metadata": {},
   "outputs": [],
   "source": [
    "model.add(Dense(300,activation='relu'))"
   ]
  },
  {
   "cell_type": "code",
   "execution_count": 21,
   "id": "4b70a7f6",
   "metadata": {},
   "outputs": [],
   "source": [
    "model.add(BatchNormalization())"
   ]
  },
  {
   "cell_type": "code",
   "execution_count": 22,
   "id": "f9fa5263",
   "metadata": {},
   "outputs": [],
   "source": [
    "model.add(Dense(300,activation='relu'))"
   ]
  },
  {
   "cell_type": "code",
   "execution_count": 23,
   "id": "a100c634",
   "metadata": {},
   "outputs": [],
   "source": [
    "model.add(BatchNormalization())"
   ]
  },
  {
   "cell_type": "code",
   "execution_count": 24,
   "id": "d7519432",
   "metadata": {},
   "outputs": [],
   "source": [
    "model.add(Dense(10,activation='softmax'))"
   ]
  },
  {
   "cell_type": "code",
   "execution_count": 25,
   "id": "40fa2dfa",
   "metadata": {},
   "outputs": [
    {
     "name": "stdout",
     "output_type": "stream",
     "text": [
      "Model: \"sequential\"\n",
      "_________________________________________________________________\n",
      " Layer (type)                Output Shape              Param #   \n",
      "=================================================================\n",
      " flatten (Flatten)           (None, 784)               0         \n",
      "                                                                 \n",
      " dense (Dense)               (None, 300)               235500    \n",
      "                                                                 \n",
      " dense_1 (Dense)             (None, 300)               90300     \n",
      "                                                                 \n",
      " dense_2 (Dense)             (None, 10)                3010      \n",
      "                                                                 \n",
      " flatten_1 (Flatten)         (None, 10)                0         \n",
      "                                                                 \n",
      " batch_normalization (BatchN  (None, 10)               40        \n",
      " ormalization)                                                   \n",
      "                                                                 \n",
      " dense_3 (Dense)             (None, 300)               3300      \n",
      "                                                                 \n",
      " batch_normalization_1 (Batc  (None, 300)              1200      \n",
      " hNormalization)                                                 \n",
      "                                                                 \n",
      " dense_4 (Dense)             (None, 300)               90300     \n",
      "                                                                 \n",
      " batch_normalization_2 (Batc  (None, 300)              1200      \n",
      " hNormalization)                                                 \n",
      "                                                                 \n",
      " dense_5 (Dense)             (None, 10)                3010      \n",
      "                                                                 \n",
      "=================================================================\n",
      "Total params: 427,860\n",
      "Trainable params: 426,640\n",
      "Non-trainable params: 1,220\n",
      "_________________________________________________________________\n"
     ]
    }
   ],
   "source": [
    "model.summary()"
   ]
  },
  {
   "cell_type": "code",
   "execution_count": 26,
   "id": "a0c296be",
   "metadata": {},
   "outputs": [
    {
     "name": "stdout",
     "output_type": "stream",
     "text": [
      "Epoch 1/10\n",
      "1719/1719 [==============================] - 5s 3ms/step - loss: 0.1002 - accuracy: 0.9722 - val_loss: 2.3300 - val_accuracy: 0.0034\n",
      "Epoch 2/10\n",
      "1719/1719 [==============================] - 4s 2ms/step - loss: 0.0925 - accuracy: 0.9746 - val_loss: 2.3297 - val_accuracy: 0.0036\n",
      "Epoch 3/10\n",
      "1719/1719 [==============================] - 4s 2ms/step - loss: 0.0861 - accuracy: 0.9762 - val_loss: 2.3299 - val_accuracy: 0.0028\n",
      "Epoch 4/10\n",
      "1719/1719 [==============================] - 4s 2ms/step - loss: 0.0797 - accuracy: 0.9778 - val_loss: 2.3299 - val_accuracy: 0.0028\n",
      "Epoch 5/10\n",
      "1719/1719 [==============================] - 4s 2ms/step - loss: 0.0743 - accuracy: 0.9795 - val_loss: 2.3301 - val_accuracy: 0.0030\n",
      "Epoch 6/10\n",
      "1719/1719 [==============================] - 4s 2ms/step - loss: 0.0695 - accuracy: 0.9809 - val_loss: 2.3302 - val_accuracy: 0.0030\n",
      "Epoch 7/10\n",
      "1719/1719 [==============================] - 4s 2ms/step - loss: 0.0652 - accuracy: 0.9819 - val_loss: 2.3301 - val_accuracy: 0.0030\n",
      "Epoch 8/10\n",
      "1719/1719 [==============================] - 4s 2ms/step - loss: 0.0610 - accuracy: 0.9835 - val_loss: 2.3298 - val_accuracy: 0.0030\n",
      "Epoch 9/10\n",
      "1719/1719 [==============================] - 4s 3ms/step - loss: 0.0571 - accuracy: 0.9847 - val_loss: 2.3305 - val_accuracy: 0.0022\n",
      "Epoch 10/10\n",
      "1719/1719 [==============================] - 4s 3ms/step - loss: 0.0535 - accuracy: 0.9857 - val_loss: 2.3304 - val_accuracy: 0.0024\n"
     ]
    },
    {
     "data": {
      "text/plain": [
       "<keras.callbacks.History at 0x21e3864ed00>"
      ]
     },
     "execution_count": 26,
     "metadata": {},
     "output_type": "execute_result"
    }
   ],
   "source": [
    "model.fit(X_train,y_train,epochs=10,batch_size=32,validation_data=[X_valid,y_valid])"
   ]
  },
  {
   "cell_type": "code",
   "execution_count": 27,
   "id": "d8d82df2",
   "metadata": {},
   "outputs": [
    {
     "name": "stdout",
     "output_type": "stream",
     "text": [
      "313/313 [==============================] - 1s 1ms/step - loss: 11.8447 - accuracy: 0.9758\n"
     ]
    },
    {
     "data": {
      "text/plain": [
       "[11.844671249389648, 0.9757999777793884]"
      ]
     },
     "execution_count": 27,
     "metadata": {},
     "output_type": "execute_result"
    }
   ],
   "source": [
    "model.evaluate(X_test,y_test)"
   ]
  },
  {
   "cell_type": "code",
   "execution_count": 29,
   "id": "14b8ee3b",
   "metadata": {},
   "outputs": [
    {
     "name": "stdout",
     "output_type": "stream",
     "text": [
      "Epoch 1/10\n",
      "860/860 [==============================] - 2s 3ms/step - loss: 0.0487 - accuracy: 0.9873 - val_loss: 2.3302 - val_accuracy: 0.0028\n",
      "Epoch 2/10\n",
      "860/860 [==============================] - 2s 3ms/step - loss: 0.0472 - accuracy: 0.9877 - val_loss: 2.3302 - val_accuracy: 0.0022\n",
      "Epoch 3/10\n",
      "860/860 [==============================] - 2s 3ms/step - loss: 0.0458 - accuracy: 0.9880 - val_loss: 2.3301 - val_accuracy: 0.0032\n",
      "Epoch 4/10\n",
      "860/860 [==============================] - 2s 3ms/step - loss: 0.0442 - accuracy: 0.9883 - val_loss: 2.3302 - val_accuracy: 0.0024\n",
      "Epoch 5/10\n",
      "860/860 [==============================] - 2s 3ms/step - loss: 0.0427 - accuracy: 0.9891 - val_loss: 2.3302 - val_accuracy: 0.0030\n",
      "Epoch 6/10\n",
      "860/860 [==============================] - 2s 3ms/step - loss: 0.0417 - accuracy: 0.9892 - val_loss: 2.3304 - val_accuracy: 0.0028\n",
      "Epoch 7/10\n",
      "860/860 [==============================] - 2s 3ms/step - loss: 0.0405 - accuracy: 0.9899 - val_loss: 2.3304 - val_accuracy: 0.0028\n",
      "Epoch 8/10\n",
      "860/860 [==============================] - 2s 3ms/step - loss: 0.0393 - accuracy: 0.9902 - val_loss: 2.3304 - val_accuracy: 0.0028\n",
      "Epoch 9/10\n",
      "860/860 [==============================] - 3s 3ms/step - loss: 0.0380 - accuracy: 0.9904 - val_loss: 2.3302 - val_accuracy: 0.0028\n",
      "Epoch 10/10\n",
      "860/860 [==============================] - 3s 3ms/step - loss: 0.0370 - accuracy: 0.9909 - val_loss: 2.3303 - val_accuracy: 0.0022\n"
     ]
    },
    {
     "data": {
      "text/plain": [
       "<keras.callbacks.History at 0x21e360dd580>"
      ]
     },
     "execution_count": 29,
     "metadata": {},
     "output_type": "execute_result"
    }
   ],
   "source": [
    "##Ans3:with differeent batch size\n",
    "model.fit(X_train,y_train,epochs=10,batch_size=64,validation_data=[X_valid,y_valid])"
   ]
  },
  {
   "cell_type": "code",
   "execution_count": 30,
   "id": "88e9b129",
   "metadata": {},
   "outputs": [
    {
     "name": "stdout",
     "output_type": "stream",
     "text": [
      "313/313 [==============================] - 1s 2ms/step - loss: 12.1768 - accuracy: 0.9770\n"
     ]
    },
    {
     "data": {
      "text/plain": [
       "[12.17678451538086, 0.9769999980926514]"
      ]
     },
     "execution_count": 30,
     "metadata": {},
     "output_type": "execute_result"
    }
   ],
   "source": [
    "model.evaluate(X_test,y_test)"
   ]
  },
  {
   "cell_type": "code",
   "execution_count": 31,
   "id": "d1283406",
   "metadata": {},
   "outputs": [
    {
     "name": "stdout",
     "output_type": "stream",
     "text": [
      "Epoch 1/10\n",
      "430/430 [==============================] - 2s 4ms/step - loss: 0.0351 - accuracy: 0.9917 - val_loss: 2.3304 - val_accuracy: 0.0024\n",
      "Epoch 2/10\n",
      "430/430 [==============================] - 2s 4ms/step - loss: 0.0345 - accuracy: 0.9919 - val_loss: 2.3304 - val_accuracy: 0.0024\n",
      "Epoch 3/10\n",
      "430/430 [==============================] - 2s 4ms/step - loss: 0.0340 - accuracy: 0.9921 - val_loss: 2.3304 - val_accuracy: 0.0030\n",
      "Epoch 4/10\n",
      "430/430 [==============================] - 2s 4ms/step - loss: 0.0336 - accuracy: 0.9920 - val_loss: 2.3304 - val_accuracy: 0.0022\n",
      "Epoch 5/10\n",
      "430/430 [==============================] - 2s 4ms/step - loss: 0.0330 - accuracy: 0.9924 - val_loss: 2.3304 - val_accuracy: 0.0020\n",
      "Epoch 6/10\n",
      "430/430 [==============================] - 2s 4ms/step - loss: 0.0326 - accuracy: 0.9924 - val_loss: 2.3304 - val_accuracy: 0.0024\n",
      "Epoch 7/10\n",
      "430/430 [==============================] - 2s 4ms/step - loss: 0.0321 - accuracy: 0.9927 - val_loss: 2.3304 - val_accuracy: 0.0022\n",
      "Epoch 8/10\n",
      "430/430 [==============================] - 2s 4ms/step - loss: 0.0316 - accuracy: 0.9930 - val_loss: 2.3305 - val_accuracy: 0.0020\n",
      "Epoch 9/10\n",
      "430/430 [==============================] - 2s 4ms/step - loss: 0.0312 - accuracy: 0.9928 - val_loss: 2.3305 - val_accuracy: 0.0020\n",
      "Epoch 10/10\n",
      "430/430 [==============================] - 2s 4ms/step - loss: 0.0307 - accuracy: 0.9930 - val_loss: 2.3303 - val_accuracy: 0.0024\n"
     ]
    },
    {
     "data": {
      "text/plain": [
       "<keras.callbacks.History at 0x21e2d781250>"
      ]
     },
     "execution_count": 31,
     "metadata": {},
     "output_type": "execute_result"
    }
   ],
   "source": [
    "model.fit(X_train,y_train,epochs=10,batch_size=128,validation_data=[X_valid,y_valid])"
   ]
  },
  {
   "cell_type": "code",
   "execution_count": 32,
   "id": "3212293f",
   "metadata": {},
   "outputs": [
    {
     "name": "stdout",
     "output_type": "stream",
     "text": [
      "313/313 [==============================] - 1s 2ms/step - loss: 12.8579 - accuracy: 0.9755\n"
     ]
    },
    {
     "data": {
      "text/plain": [
       "[12.857901573181152, 0.9754999876022339]"
      ]
     },
     "execution_count": 32,
     "metadata": {},
     "output_type": "execute_result"
    }
   ],
   "source": [
    "model.evaluate(X_test,y_test)"
   ]
  },
  {
   "cell_type": "code",
   "execution_count": 33,
   "id": "179bf187",
   "metadata": {},
   "outputs": [],
   "source": [
    "#As we increase the batchsize then the accuracy is increase by some increasing the batch size .but as we increasing countinuously the acccuracy will decrease "
   ]
  },
  {
   "cell_type": "code",
   "execution_count": null,
   "id": "a811ea27",
   "metadata": {},
   "outputs": [],
   "source": []
  }
 ],
 "metadata": {
  "kernelspec": {
   "display_name": "Python 3 (ipykernel)",
   "language": "python",
   "name": "python3"
  },
  "language_info": {
   "codemirror_mode": {
    "name": "ipython",
    "version": 3
   },
   "file_extension": ".py",
   "mimetype": "text/x-python",
   "name": "python",
   "nbconvert_exporter": "python",
   "pygments_lexer": "ipython3",
   "version": "3.9.12"
  }
 },
 "nbformat": 4,
 "nbformat_minor": 5
}

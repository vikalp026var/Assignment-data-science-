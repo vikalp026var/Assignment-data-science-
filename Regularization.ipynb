{
 "cells": [
  {
   "cell_type": "code",
   "execution_count": 1,
   "id": "680c9447",
   "metadata": {},
   "outputs": [],
   "source": [
    "#Ans1:Regularization in deep learning is a technique used to prevent overfitting and improve the generalization of neural networks. "
   ]
  },
  {
   "cell_type": "code",
   "execution_count": 2,
   "id": "e271e8a6",
   "metadata": {},
   "outputs": [],
   "source": [
    "#ANs2:Bias and Variance is compliment to each other in which the one is increase then other decrease so Regularisation help to achieve the finding the right balance of values is known as the Bias-Variance Tradeoff. "
   ]
  },
  {
   "cell_type": "code",
   "execution_count": 3,
   "id": "6ccb7836",
   "metadata": {},
   "outputs": [],
   "source": [
    "#Ans3:L1 normalisation is the ridge regression and to reduce the overfitting and L2 is the Lasso Regression which is use to feature Selection \n",
    "#L1 Regularsation:\n",
    "#Cost_Function=1/Nsummation(y^-y)^2+lambda(wi)^2\n",
    "#L2 Regularsion:\n",
    "#cost Function=1/N summation(y^-y)^2+lambda|slope|"
   ]
  },
  {
   "cell_type": "code",
   "execution_count": 4,
   "id": "82f030f2",
   "metadata": {},
   "outputs": [],
   "source": [
    "#Ans4:Regularization will help select a midpoint between the first scenario of high bias and the later scenario of high variance. This ideal goal of generalization in terms of bias and variance is a low bias and a low variance which is near impossible or difficult to achieve. Hence, the need of the trade-off."
   ]
  },
  {
   "cell_type": "code",
   "execution_count": 18,
   "id": "046e47fd",
   "metadata": {},
   "outputs": [],
   "source": [
    "from tensorflow.keras.datasets import mnist\n",
    "import matplotlib.pyplot as plt"
   ]
  },
  {
   "cell_type": "code",
   "execution_count": 10,
   "id": "c1051772",
   "metadata": {},
   "outputs": [],
   "source": [
    "(X_train_full,y_train_full),(X_test,y_test)=mnist.load_data()"
   ]
  },
  {
   "cell_type": "code",
   "execution_count": 12,
   "id": "418dd37f",
   "metadata": {},
   "outputs": [
    {
     "data": {
      "text/plain": [
       "array([[  0,   0,   0,   0,   0,   0,   0,   0,   0,   0,   0,   0,   0,\n",
       "          0,   0,   0,   0,   0,   0,   0,   0,   0,   0,   0,   0,   0,\n",
       "          0,   0],\n",
       "       [  0,   0,   0,   0,   0,   0,   0,   0,   0,   0,   0,   0,   0,\n",
       "          0,   0,   0,   0,   0,   0,   0,   0,   0,   0,   0,   0,   0,\n",
       "          0,   0],\n",
       "       [  0,   0,   0,   0,   0,   0,   0,   0,   0,   0,   0,   0,   0,\n",
       "          0,   0,   0,   0,   0,   0,   0,   0,   0,   0,   0,   0,   0,\n",
       "          0,   0],\n",
       "       [  0,   0,   0,   0,   0,   0,   0,   0,   0,   0,   0,   0,   0,\n",
       "          0,   0,   0,   0,   0,   0,   0,   0,   0,   0,   0,   0,   0,\n",
       "          0,   0],\n",
       "       [  0,   0,   0,   0,   0,   0,   0,   0,   0,   0,   0,   0,   0,\n",
       "          0,   0,   0,   0,   0,   0,   0,   0,   0,   0,   0,   0,   0,\n",
       "          0,   0],\n",
       "       [  0,   0,   0,   0,   0,   0,   0,   0,   0,   0,   0,   0,   3,\n",
       "         18,  18,  18, 126, 136, 175,  26, 166, 255, 247, 127,   0,   0,\n",
       "          0,   0],\n",
       "       [  0,   0,   0,   0,   0,   0,   0,   0,  30,  36,  94, 154, 170,\n",
       "        253, 253, 253, 253, 253, 225, 172, 253, 242, 195,  64,   0,   0,\n",
       "          0,   0],\n",
       "       [  0,   0,   0,   0,   0,   0,   0,  49, 238, 253, 253, 253, 253,\n",
       "        253, 253, 253, 253, 251,  93,  82,  82,  56,  39,   0,   0,   0,\n",
       "          0,   0],\n",
       "       [  0,   0,   0,   0,   0,   0,   0,  18, 219, 253, 253, 253, 253,\n",
       "        253, 198, 182, 247, 241,   0,   0,   0,   0,   0,   0,   0,   0,\n",
       "          0,   0],\n",
       "       [  0,   0,   0,   0,   0,   0,   0,   0,  80, 156, 107, 253, 253,\n",
       "        205,  11,   0,  43, 154,   0,   0,   0,   0,   0,   0,   0,   0,\n",
       "          0,   0],\n",
       "       [  0,   0,   0,   0,   0,   0,   0,   0,   0,  14,   1, 154, 253,\n",
       "         90,   0,   0,   0,   0,   0,   0,   0,   0,   0,   0,   0,   0,\n",
       "          0,   0],\n",
       "       [  0,   0,   0,   0,   0,   0,   0,   0,   0,   0,   0, 139, 253,\n",
       "        190,   2,   0,   0,   0,   0,   0,   0,   0,   0,   0,   0,   0,\n",
       "          0,   0],\n",
       "       [  0,   0,   0,   0,   0,   0,   0,   0,   0,   0,   0,  11, 190,\n",
       "        253,  70,   0,   0,   0,   0,   0,   0,   0,   0,   0,   0,   0,\n",
       "          0,   0],\n",
       "       [  0,   0,   0,   0,   0,   0,   0,   0,   0,   0,   0,   0,  35,\n",
       "        241, 225, 160, 108,   1,   0,   0,   0,   0,   0,   0,   0,   0,\n",
       "          0,   0],\n",
       "       [  0,   0,   0,   0,   0,   0,   0,   0,   0,   0,   0,   0,   0,\n",
       "         81, 240, 253, 253, 119,  25,   0,   0,   0,   0,   0,   0,   0,\n",
       "          0,   0],\n",
       "       [  0,   0,   0,   0,   0,   0,   0,   0,   0,   0,   0,   0,   0,\n",
       "          0,  45, 186, 253, 253, 150,  27,   0,   0,   0,   0,   0,   0,\n",
       "          0,   0],\n",
       "       [  0,   0,   0,   0,   0,   0,   0,   0,   0,   0,   0,   0,   0,\n",
       "          0,   0,  16,  93, 252, 253, 187,   0,   0,   0,   0,   0,   0,\n",
       "          0,   0],\n",
       "       [  0,   0,   0,   0,   0,   0,   0,   0,   0,   0,   0,   0,   0,\n",
       "          0,   0,   0,   0, 249, 253, 249,  64,   0,   0,   0,   0,   0,\n",
       "          0,   0],\n",
       "       [  0,   0,   0,   0,   0,   0,   0,   0,   0,   0,   0,   0,   0,\n",
       "          0,  46, 130, 183, 253, 253, 207,   2,   0,   0,   0,   0,   0,\n",
       "          0,   0],\n",
       "       [  0,   0,   0,   0,   0,   0,   0,   0,   0,   0,   0,   0,  39,\n",
       "        148, 229, 253, 253, 253, 250, 182,   0,   0,   0,   0,   0,   0,\n",
       "          0,   0],\n",
       "       [  0,   0,   0,   0,   0,   0,   0,   0,   0,   0,  24, 114, 221,\n",
       "        253, 253, 253, 253, 201,  78,   0,   0,   0,   0,   0,   0,   0,\n",
       "          0,   0],\n",
       "       [  0,   0,   0,   0,   0,   0,   0,   0,  23,  66, 213, 253, 253,\n",
       "        253, 253, 198,  81,   2,   0,   0,   0,   0,   0,   0,   0,   0,\n",
       "          0,   0],\n",
       "       [  0,   0,   0,   0,   0,   0,  18, 171, 219, 253, 253, 253, 253,\n",
       "        195,  80,   9,   0,   0,   0,   0,   0,   0,   0,   0,   0,   0,\n",
       "          0,   0],\n",
       "       [  0,   0,   0,   0,  55, 172, 226, 253, 253, 253, 253, 244, 133,\n",
       "         11,   0,   0,   0,   0,   0,   0,   0,   0,   0,   0,   0,   0,\n",
       "          0,   0],\n",
       "       [  0,   0,   0,   0, 136, 253, 253, 253, 212, 135, 132,  16,   0,\n",
       "          0,   0,   0,   0,   0,   0,   0,   0,   0,   0,   0,   0,   0,\n",
       "          0,   0],\n",
       "       [  0,   0,   0,   0,   0,   0,   0,   0,   0,   0,   0,   0,   0,\n",
       "          0,   0,   0,   0,   0,   0,   0,   0,   0,   0,   0,   0,   0,\n",
       "          0,   0],\n",
       "       [  0,   0,   0,   0,   0,   0,   0,   0,   0,   0,   0,   0,   0,\n",
       "          0,   0,   0,   0,   0,   0,   0,   0,   0,   0,   0,   0,   0,\n",
       "          0,   0],\n",
       "       [  0,   0,   0,   0,   0,   0,   0,   0,   0,   0,   0,   0,   0,\n",
       "          0,   0,   0,   0,   0,   0,   0,   0,   0,   0,   0,   0,   0,\n",
       "          0,   0]], dtype=uint8)"
      ]
     },
     "execution_count": 12,
     "metadata": {},
     "output_type": "execute_result"
    }
   ],
   "source": [
    "X_train_full[0]"
   ]
  },
  {
   "cell_type": "code",
   "execution_count": 13,
   "id": "b1b42cfd",
   "metadata": {},
   "outputs": [
    {
     "data": {
      "text/plain": [
       "5"
      ]
     },
     "execution_count": 13,
     "metadata": {},
     "output_type": "execute_result"
    }
   ],
   "source": [
    "y_train_full[0]"
   ]
  },
  {
   "cell_type": "code",
   "execution_count": 14,
   "id": "c7ee4530",
   "metadata": {},
   "outputs": [
    {
     "data": {
      "text/plain": [
       "(28, 28)"
      ]
     },
     "execution_count": 14,
     "metadata": {},
     "output_type": "execute_result"
    }
   ],
   "source": [
    "X_train_full[0].shape"
   ]
  },
  {
   "cell_type": "code",
   "execution_count": 15,
   "id": "8c8f9a8e",
   "metadata": {},
   "outputs": [],
   "source": [
    "X_valid,X_train=X_train_full[:5000]/255.,X_train_full[5000:]/255.\n",
    "y_valid,y_train=y_train_full[:5000]/255.,y_train_full[5000:]/255."
   ]
  },
  {
   "cell_type": "code",
   "execution_count": 16,
   "id": "0f20748b",
   "metadata": {},
   "outputs": [],
   "source": [
    "X_test=X_test/255."
   ]
  },
  {
   "cell_type": "code",
   "execution_count": 26,
   "id": "1cbb85a6",
   "metadata": {},
   "outputs": [
    {
     "data": {
      "text/plain": [
       "<matplotlib.image.AxesImage at 0x14c77320a90>"
      ]
     },
     "execution_count": 26,
     "metadata": {},
     "output_type": "execute_result"
    },
    {
     "data": {
      "image/png": "[encoded data removed]",
      "text/plain": [
       "<Figure size 432x288 with 1 Axes>"
      ]
     },
     "metadata": {
      "needs_background": "light"
     },
     "output_type": "display_data"
    }
   ],
   "source": [
    "plt.imshow(X_train[1],cmap='binary')"
   ]
  },
  {
   "cell_type": "code",
   "execution_count": 65,
   "id": "38d024d4",
   "metadata": {},
   "outputs": [],
   "source": [
    "from tensorflow.keras import regularizers\n",
    "from tensorflow.keras.layers import Dropout,Dense,Flatten,BatchNormalization\n",
    "from tensorflow.keras.models import Sequential"
   ]
  },
  {
   "cell_type": "code",
   "execution_count": 66,
   "id": "7a40fb04",
   "metadata": {},
   "outputs": [],
   "source": [
    "model=Sequential()"
   ]
  },
  {
   "cell_type": "code",
   "execution_count": 67,
   "id": "7724b1ea",
   "metadata": {},
   "outputs": [],
   "source": [
    "model.add(Flatten(input_shape=[28,28],name=\"inputLayer\"))"
   ]
  },
  {
   "cell_type": "code",
   "execution_count": 68,
   "id": "7aa2af71",
   "metadata": {},
   "outputs": [],
   "source": [
    "model.add(Dense(300,activation='relu',name=\"hiddenlayer1\",kernel_regularizer=regularizers.L2(1e-4)))"
   ]
  },
  {
   "cell_type": "code",
   "execution_count": 69,
   "id": "3eb0cb79",
   "metadata": {},
   "outputs": [],
   "source": [
    "model.add(BatchNormalization())"
   ]
  },
  {
   "cell_type": "code",
   "execution_count": 70,
   "id": "58f8534c",
   "metadata": {},
   "outputs": [],
   "source": [
    "model.add(Dense(100,activation='relu',name=\"hiddenLayer2\"))"
   ]
  },
  {
   "cell_type": "code",
   "execution_count": 71,
   "id": "e5dea9ab",
   "metadata": {},
   "outputs": [],
   "source": [
    "model.add(Dropout(0.2))"
   ]
  },
  {
   "cell_type": "code",
   "execution_count": 72,
   "id": "444b584e",
   "metadata": {},
   "outputs": [],
   "source": [
    "model.add(Dense(10,activation='softmax',name='outputLayer'))"
   ]
  },
  {
   "cell_type": "code",
   "execution_count": 73,
   "id": "d06cf94d",
   "metadata": {},
   "outputs": [
    {
     "name": "stdout",
     "output_type": "stream",
     "text": [
      "Model: \"sequential_2\"\n",
      "_________________________________________________________________\n",
      " Layer (type)                Output Shape              Param #   \n",
      "=================================================================\n",
      " inputLayer (Flatten)        (None, 784)               0         \n",
      "                                                                 \n",
      " hiddenlayer1 (Dense)        (None, 300)               235500    \n",
      "                                                                 \n",
      " batch_normalization_2 (Batc  (None, 300)              1200      \n",
      " hNormalization)                                                 \n",
      "                                                                 \n",
      " hiddenLayer2 (Dense)        (None, 100)               30100     \n",
      "                                                                 \n",
      " dropout_2 (Dropout)         (None, 100)               0         \n",
      "                                                                 \n",
      " outputLayer (Dense)         (None, 10)                1010      \n",
      "                                                                 \n",
      "=================================================================\n",
      "Total params: 267,810\n",
      "Trainable params: 267,210\n",
      "Non-trainable params: 600\n",
      "_________________________________________________________________\n"
     ]
    }
   ],
   "source": [
    "model.summary()"
   ]
  },
  {
   "cell_type": "code",
   "execution_count": 74,
   "id": "9cf987ea",
   "metadata": {},
   "outputs": [],
   "source": [
    "Loss='sparse_categorical_crossentropy'\n",
    "optimizer=\"SGD\"\n",
    "metrics=['accuracy']\n",
    "model.compile(loss=Loss,optimizer=optimizer,metrics=metrics)"
   ]
  },
  {
   "cell_type": "code",
   "execution_count": 75,
   "id": "a7e85f0c",
   "metadata": {},
   "outputs": [
    {
     "name": "stdout",
     "output_type": "stream",
     "text": [
      "Epoch 1/10\n",
      "1719/1719 [==============================] - 8s 4ms/step - loss: 0.0683 - accuracy: 0.0986 - val_loss: 0.0437 - val_accuracy: 0.0958\n",
      "Epoch 2/10\n",
      "1719/1719 [==============================] - 7s 4ms/step - loss: 0.0442 - accuracy: 0.0990 - val_loss: 0.0431 - val_accuracy: 0.0958\n",
      "Epoch 3/10\n",
      "1719/1719 [==============================] - 7s 4ms/step - loss: 0.0433 - accuracy: 0.0990 - val_loss: 0.0427 - val_accuracy: 0.0958\n",
      "Epoch 4/10\n",
      "1719/1719 [==============================] - 7s 4ms/step - loss: 0.0429 - accuracy: 0.0990 - val_loss: 0.0423 - val_accuracy: 0.0958\n",
      "Epoch 5/10\n",
      "1719/1719 [==============================] - 7s 4ms/step - loss: 0.0425 - accuracy: 0.0990 - val_loss: 0.0420 - val_accuracy: 0.0958\n",
      "Epoch 6/10\n",
      "1719/1719 [==============================] - 7s 4ms/step - loss: 0.0421 - accuracy: 0.0990 - val_loss: 0.0417 - val_accuracy: 0.0958\n",
      "Epoch 7/10\n",
      "1719/1719 [==============================] - 7s 4ms/step - loss: 0.0418 - accuracy: 0.0990 - val_loss: 0.0414 - val_accuracy: 0.0958\n",
      "Epoch 8/10\n",
      "1719/1719 [==============================] - 7s 4ms/step - loss: 0.0414 - accuracy: 0.0990 - val_loss: 0.0411 - val_accuracy: 0.0958\n",
      "Epoch 9/10\n",
      "1719/1719 [==============================] - 7s 4ms/step - loss: 0.0411 - accuracy: 0.0990 - val_loss: 0.0408 - val_accuracy: 0.0958\n",
      "Epoch 10/10\n",
      "1719/1719 [==============================] - 7s 4ms/step - loss: 0.0408 - accuracy: 0.0990 - val_loss: 0.0406 - val_accuracy: 0.0958\n"
     ]
    },
    {
     "data": {
      "text/plain": [
       "<keras.callbacks.History at 0x14c01f24760>"
      ]
     },
     "execution_count": 75,
     "metadata": {},
     "output_type": "execute_result"
    }
   ],
   "source": [
    "model.fit(X_train,y_train,epochs=10,batch_size=32,validation_data=(X_valid,y_valid))"
   ]
  },
  {
   "cell_type": "code",
   "execution_count": 59,
   "id": "ee86b616",
   "metadata": {},
   "outputs": [
    {
     "name": "stdout",
     "output_type": "stream",
     "text": [
      "313/313 [==============================] - 1s 2ms/step - loss: 11.9797 - accuracy: 0.0980\n"
     ]
    },
    {
     "data": {
      "text/plain": [
       "[11.979654312133789, 0.09799999743700027]"
      ]
     },
     "execution_count": 59,
     "metadata": {},
     "output_type": "execute_result"
    }
   ],
   "source": [
    "model.evaluate(X_test,y_test)"
   ]
  },
  {
   "cell_type": "code",
   "execution_count": 47,
   "id": "2e46b024",
   "metadata": {},
   "outputs": [],
   "source": [
    "#Ans5:Basically Droup is used to deactivate the neuron so that the model will not overfit ,It increase the accuracy of model "
   ]
  },
  {
   "cell_type": "code",
   "execution_count": 60,
   "id": "7dca3580",
   "metadata": {},
   "outputs": [],
   "source": [
    "#Ans6:If the data is fit into model then the early stopping is used to stop the futher train if their accuracy is not increase "
   ]
  },
  {
   "cell_type": "code",
   "execution_count": 61,
   "id": "db55624f",
   "metadata": {},
   "outputs": [],
   "source": [
    "#Ans7: Batch Normalization acts as a regularizer by adding some noise to the activations during training. This noise helps to reduce overfitting by reducing the sensitivity of the network to the specific values of the inputs. It makes the network more robust and less prone to memorizing the training data."
   ]
  },
  {
   "cell_type": "code",
   "execution_count": 89,
   "id": "856126b2",
   "metadata": {},
   "outputs": [],
   "source": [
    "#ANs8:With DropOut the accuracy is 98.6% ans without the Dropout accuracy is 98%"
   ]
  },
  {
   "cell_type": "code",
   "execution_count": 77,
   "id": "fb2e7323",
   "metadata": {},
   "outputs": [],
   "source": [
    "models=Sequential()"
   ]
  },
  {
   "cell_type": "code",
   "execution_count": 78,
   "id": "b291c783",
   "metadata": {},
   "outputs": [],
   "source": [
    "models.add(Flatten(input_shape=[28,28],name=\"inputLayer\"))"
   ]
  },
  {
   "cell_type": "code",
   "execution_count": 79,
   "id": "8509adf7",
   "metadata": {},
   "outputs": [],
   "source": [
    "models.add(Dense(300,activation='relu',name=\"hiddenlayer1\",kernel_regularizer=regularizers.L2(1e-4)))"
   ]
  },
  {
   "cell_type": "code",
   "execution_count": 80,
   "id": "b8c51669",
   "metadata": {},
   "outputs": [],
   "source": [
    "models.add(BatchNormalization())"
   ]
  },
  {
   "cell_type": "code",
   "execution_count": 82,
   "id": "0a713c2d",
   "metadata": {},
   "outputs": [],
   "source": [
    "models.add(Dense(100,activation='relu',name=\"hiddenLayer2\"))"
   ]
  },
  {
   "cell_type": "code",
   "execution_count": 83,
   "id": "6ba36689",
   "metadata": {},
   "outputs": [],
   "source": [
    "models.add(BatchNormalization())"
   ]
  },
  {
   "cell_type": "code",
   "execution_count": 84,
   "id": "68228917",
   "metadata": {},
   "outputs": [],
   "source": [
    "models.add(Dense(10,activation='softmax',name='outputLayer'))"
   ]
  },
  {
   "cell_type": "code",
   "execution_count": 85,
   "id": "14d515ba",
   "metadata": {},
   "outputs": [
    {
     "name": "stdout",
     "output_type": "stream",
     "text": [
      "Model: \"sequential_3\"\n",
      "_________________________________________________________________\n",
      " Layer (type)                Output Shape              Param #   \n",
      "=================================================================\n",
      " inputLayer (Flatten)        (None, 784)               0         \n",
      "                                                                 \n",
      " hiddenlayer1 (Dense)        (None, 300)               235500    \n",
      "                                                                 \n",
      " batch_normalization_3 (Batc  (None, 300)              1200      \n",
      " hNormalization)                                                 \n",
      "                                                                 \n",
      " hiddenLayer2 (Dense)        (None, 100)               30100     \n",
      "                                                                 \n",
      " batch_normalization_4 (Batc  (None, 100)              400       \n",
      " hNormalization)                                                 \n",
      "                                                                 \n",
      " outputLayer (Dense)         (None, 10)                1010      \n",
      "                                                                 \n",
      "=================================================================\n",
      "Total params: 268,210\n",
      "Trainable params: 267,410\n",
      "Non-trainable params: 800\n",
      "_________________________________________________________________\n"
     ]
    }
   ],
   "source": [
    "models.summary()"
   ]
  },
  {
   "cell_type": "code",
   "execution_count": 86,
   "id": "8121b427",
   "metadata": {},
   "outputs": [],
   "source": [
    "Loss='sparse_categorical_crossentropy'\n",
    "optimizer=\"SGD\"\n",
    "metrics=['accuracy']\n",
    "models.compile(loss=Loss,optimizer=optimizer,metrics=metrics)"
   ]
  },
  {
   "cell_type": "code",
   "execution_count": 87,
   "id": "ce0ba16e",
   "metadata": {},
   "outputs": [
    {
     "name": "stdout",
     "output_type": "stream",
     "text": [
      "Epoch 1/10\n",
      "1719/1719 [==============================] - 8s 4ms/step - loss: 0.1859 - accuracy: 0.0957 - val_loss: 0.0485 - val_accuracy: 0.0958\n",
      "Epoch 2/10\n",
      "1719/1719 [==============================] - 7s 4ms/step - loss: 0.0463 - accuracy: 0.0990 - val_loss: 0.0449 - val_accuracy: 0.0958\n",
      "Epoch 3/10\n",
      "1719/1719 [==============================] - 7s 4ms/step - loss: 0.0444 - accuracy: 0.0990 - val_loss: 0.0438 - val_accuracy: 0.0958\n",
      "Epoch 4/10\n",
      "1719/1719 [==============================] - 7s 4ms/step - loss: 0.0435 - accuracy: 0.0990 - val_loss: 0.0431 - val_accuracy: 0.0958\n",
      "Epoch 5/10\n",
      "1719/1719 [==============================] - 7s 4ms/step - loss: 0.0429 - accuracy: 0.0990 - val_loss: 0.0426 - val_accuracy: 0.0958\n",
      "Epoch 6/10\n",
      "1719/1719 [==============================] - 7s 4ms/step - loss: 0.0424 - accuracy: 0.0990 - val_loss: 0.0422 - val_accuracy: 0.0958\n",
      "Epoch 7/10\n",
      "1719/1719 [==============================] - 7s 4ms/step - loss: 0.0420 - accuracy: 0.0990 - val_loss: 0.0418 - val_accuracy: 0.0958\n",
      "Epoch 8/10\n",
      "1719/1719 [==============================] - 7s 4ms/step - loss: 0.0416 - accuracy: 0.0990 - val_loss: 0.0415 - val_accuracy: 0.0958\n",
      "Epoch 9/10\n",
      "1719/1719 [==============================] - 7s 4ms/step - loss: 0.0413 - accuracy: 0.0990 - val_loss: 0.0411 - val_accuracy: 0.0958\n",
      "Epoch 10/10\n",
      "1719/1719 [==============================] - 7s 4ms/step - loss: 0.0410 - accuracy: 0.0990 - val_loss: 0.0408 - val_accuracy: 0.0958\n"
     ]
    },
    {
     "data": {
      "text/plain": [
       "<keras.callbacks.History at 0x14c01a1c550>"
      ]
     },
     "execution_count": 87,
     "metadata": {},
     "output_type": "execute_result"
    }
   ],
   "source": [
    "models.fit(X_train,y_train,epochs=10,batch_size=32,validation_data=(X_valid,y_valid))"
   ]
  },
  {
   "cell_type": "code",
   "execution_count": 88,
   "id": "cf351c14",
   "metadata": {},
   "outputs": [
    {
     "name": "stdout",
     "output_type": "stream",
     "text": [
      "313/313 [==============================] - 1s 2ms/step - loss: 9.8873 - accuracy: 0.0980\n"
     ]
    },
    {
     "data": {
      "text/plain": [
       "[9.887301445007324, 0.09799999743700027]"
      ]
     },
     "execution_count": 88,
     "metadata": {},
     "output_type": "execute_result"
    }
   ],
   "source": [
    "models.evaluate(X_test,y_test)"
   ]
  },
  {
   "cell_type": "code",
   "execution_count": null,
   "id": "e32340c3",
   "metadata": {},
   "outputs": [],
   "source": [
    "#Ans9:"
   ]
  }
 ],
 "metadata": {
  "kernelspec": {
   "display_name": "Python 3 (ipykernel)",
   "language": "python",
   "name": "python3"
  },
  "language_info": {
   "codemirror_mode": {
    "name": "ipython",
    "version": 3
   },
   "file_extension": ".py",
   "mimetype": "text/x-python",
   "name": "python",
   "nbconvert_exporter": "python",
   "pygments_lexer": "ipython3",
   "version": "3.9.12"
  }
 },
 "nbformat": 4,
 "nbformat_minor": 5
}

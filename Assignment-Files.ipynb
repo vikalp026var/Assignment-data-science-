{
 "cells": [
  {
   "cell_type": "code",
   "execution_count": 1,
   "id": "06daed3e",
   "metadata": {},
   "outputs": [],
   "source": [
    "#Ans1:  f=open(\"test.txt\",\"w\")\n",
    "#There are different modes of modes of opening a file -\n",
    "#1.read\n",
    "#2.write\n",
    "#3.append\n",
    "#With mode of file opening are-\n",
    "#1:write mode\n",
    "   #f=open(\"test.txt\",'w')\n",
    "#2.read mode:-\n",
    "   #f=open(\"test.txt\",'r')\n",
    "#3:append mode:-\n",
    "   #f=open(\"test.txt\",'a')\n",
    "    "
   ]
  },
  {
   "cell_type": "code",
   "execution_count": 2,
   "id": "dd93de59",
   "metadata": {},
   "outputs": [
    {
     "data": {
      "text/plain": [
       "20"
      ]
     },
     "execution_count": 2,
     "metadata": {},
     "output_type": "execute_result"
    }
   ],
   "source": [
    "#Ans2:Because when the file is not closed then the next statement that we want to write into another file is not happen so we have to close file and this is bad habitat when the file is not closed.\n",
    "#Important:-\n",
    "#Example:-\n",
    "f=open(\"test.txt\",'w')\n",
    "f.write(\"Hello this is vikalp\")"
   ]
  },
  {
   "cell_type": "code",
   "execution_count": 5,
   "id": "5c0a17ac",
   "metadata": {},
   "outputs": [
    {
     "data": {
      "text/plain": [
       "'Hello this is vikalp'"
      ]
     },
     "execution_count": 5,
     "metadata": {},
     "output_type": "execute_result"
    }
   ],
   "source": [
    "f=open(\"test.txt\",'r')\n",
    "f.read()"
   ]
  },
  {
   "cell_type": "code",
   "execution_count": 6,
   "id": "56f069a7",
   "metadata": {},
   "outputs": [],
   "source": [
    "#takiing the experiment we do not close the file so what happen let's see:"
   ]
  },
  {
   "cell_type": "code",
   "execution_count": 7,
   "id": "26e8e5dc",
   "metadata": {},
   "outputs": [
    {
     "data": {
      "text/plain": [
       "15"
      ]
     },
     "execution_count": 7,
     "metadata": {},
     "output_type": "execute_result"
    }
   ],
   "source": [
    "f1=open(\"test1.txt\",'w')\n",
    "f1.write(\"Hello its jatin\")"
   ]
  },
  {
   "cell_type": "code",
   "execution_count": 10,
   "id": "0faeb7cc",
   "metadata": {},
   "outputs": [
    {
     "ename": "NameError",
     "evalue": "name 'f1' is not defined",
     "output_type": "error",
     "traceback": [
      "\u001b[1;31m---------------------------------------------------------------------------\u001b[0m",
      "\u001b[1;31mNameError\u001b[0m                                 Traceback (most recent call last)",
      "Input \u001b[1;32mIn [10]\u001b[0m, in \u001b[0;36m<cell line: 1>\u001b[1;34m()\u001b[0m\n\u001b[1;32m----> 1\u001b[0m \u001b[43mf1\u001b[49m\u001b[38;5;241m.\u001b[39mread()\n",
      "\u001b[1;31mNameError\u001b[0m: name 'f1' is not defined"
     ]
    }
   ],
   "source": [
    "f1.read()"
   ]
  },
  {
   "cell_type": "code",
   "execution_count": 9,
   "id": "e463bba8",
   "metadata": {},
   "outputs": [],
   "source": [
    "#so the interprete is cofuse that which file is readable so now we close the file "
   ]
  },
  {
   "cell_type": "code",
   "execution_count": 11,
   "id": "7cec7a98",
   "metadata": {},
   "outputs": [],
   "source": [
    "f.close()"
   ]
  },
  {
   "cell_type": "code",
   "execution_count": 12,
   "id": "1e44c676",
   "metadata": {},
   "outputs": [
    {
     "data": {
      "text/plain": [
       "'Hello its jatin'"
      ]
     },
     "execution_count": 12,
     "metadata": {},
     "output_type": "execute_result"
    }
   ],
   "source": [
    "#ANs3:\n",
    "f1=open(\"test1.txt\",'r')\n",
    "f1.read()"
   ]
  },
  {
   "cell_type": "code",
   "execution_count": 13,
   "id": "b5ac8d7a",
   "metadata": {},
   "outputs": [
    {
     "data": {
      "text/plain": [
       "33"
      ]
     },
     "execution_count": 13,
     "metadata": {},
     "output_type": "execute_result"
    }
   ],
   "source": [
    "f2=open(\"pyth.txt\",'w')\n",
    "f2.write(\"I want to become a Data Scientist\")"
   ]
  },
  {
   "cell_type": "code",
   "execution_count": 14,
   "id": "a84b21f5",
   "metadata": {},
   "outputs": [],
   "source": [
    "f2.close()"
   ]
  },
  {
   "cell_type": "code",
   "execution_count": 15,
   "id": "173d8b8c",
   "metadata": {},
   "outputs": [
    {
     "data": {
      "text/plain": [
       "'I want to become a Data Scientist'"
      ]
     },
     "execution_count": 15,
     "metadata": {},
     "output_type": "execute_result"
    }
   ],
   "source": [
    "f2=open(\"pyth.txt\",'r')\n",
    "f2.read()"
   ]
  },
  {
   "cell_type": "code",
   "execution_count": 16,
   "id": "e9fbfc5d",
   "metadata": {},
   "outputs": [
    {
     "data": {
      "text/plain": [
       "335"
      ]
     },
     "execution_count": 16,
     "metadata": {},
     "output_type": "execute_result"
    }
   ],
   "source": [
    "#Ans4:\n",
    "f3=open(\"test3.txt\",'w')\n",
    "f3.write(\"Hello its vikalp i am from bahjoi uttar pradesh .my college name is Zakir huasin college of Enginerring And Technology Aligarh Muslim University Aligarh Uttar pradesh .I am doing Btech in Artificial Intelligence .I want to become a perfect data Scientist .I want to do any work with the full dedication and perfection for the country .\")\n"
   ]
  },
  {
   "cell_type": "code",
   "execution_count": 17,
   "id": "f20ecfb4",
   "metadata": {},
   "outputs": [
    {
     "data": {
      "text/plain": [
       "'Hello its vikalp i am from bahjoi uttar pradesh .my college name is Zakir huasin college of Enginerring And Technology Aligarh Muslim University Aligarh Uttar pradesh .I am doing Btech in Artificial Intelligence .I want to become a perfect data Scientist .I want to do any work with the full dedication and perfection for the country .'"
      ]
     },
     "execution_count": 17,
     "metadata": {},
     "output_type": "execute_result"
    }
   ],
   "source": [
    "f3=open(\"test3.txt\",'r')\n",
    "f3.read()"
   ]
  },
  {
   "cell_type": "code",
   "execution_count": 26,
   "id": "1972769f",
   "metadata": {},
   "outputs": [
    {
     "data": {
      "text/plain": [
       "10"
      ]
     },
     "execution_count": 26,
     "metadata": {},
     "output_type": "execute_result"
    }
   ],
   "source": [
    "f3.seek(10)"
   ]
  },
  {
   "cell_type": "code",
   "execution_count": 27,
   "id": "0d1d01d2",
   "metadata": {},
   "outputs": [
    {
     "data": {
      "text/plain": [
       "'vikalp i am from bahjoi uttar pradesh .my college name is Zakir huasin college of Enginerring And Technology Aligarh Muslim University Aligarh Uttar pradesh .I am doing Btech in Artificial Intelligence .I want to become a perfect data Scientist .I want to do any work with the full dedication and perfection for the country .'"
      ]
     },
     "execution_count": 27,
     "metadata": {},
     "output_type": "execute_result"
    }
   ],
   "source": [
    "f3.readline()"
   ]
  },
  {
   "cell_type": "code",
   "execution_count": 31,
   "id": "ed65ae80",
   "metadata": {},
   "outputs": [
    {
     "data": {
      "text/plain": [
       "[]"
      ]
     },
     "execution_count": 31,
     "metadata": {},
     "output_type": "execute_result"
    }
   ],
   "source": [
    "f3.readlines()"
   ]
  },
  {
   "cell_type": "code",
   "execution_count": 32,
   "id": "c5450b6c",
   "metadata": {},
   "outputs": [],
   "source": [
    "#Ans5:Because when we want to write any content in file so we have to made the file so we use the open so the file is made immediately with the statement \n",
    "#f=open(\"usd.txt\",'r')\n",
    "#Using with means that the file will be closed as soon as you leave the block"
   ]
  },
  {
   "cell_type": "code",
   "execution_count": 33,
   "id": "89565f9f",
   "metadata": {},
   "outputs": [
    {
     "data": {
      "text/plain": [
       "17"
      ]
     },
     "execution_count": 33,
     "metadata": {},
     "output_type": "execute_result"
    }
   ],
   "source": [
    "#Ans6:\n",
    "f4=open(\"td.txt\",'w')\n",
    "f4.write(\"Hello ists vikalp\")"
   ]
  },
  {
   "cell_type": "code",
   "execution_count": 42,
   "id": "7844931e",
   "metadata": {},
   "outputs": [],
   "source": [
    "f4=open(\"td.txt\",'r')"
   ]
  },
  {
   "cell_type": "code",
   "execution_count": 43,
   "id": "7b9c45b9",
   "metadata": {},
   "outputs": [
    {
     "data": {
      "text/plain": [
       "''"
      ]
     },
     "execution_count": 43,
     "metadata": {},
     "output_type": "execute_result"
    }
   ],
   "source": [
    "f4.read()\n"
   ]
  },
  {
   "cell_type": "code",
   "execution_count": 44,
   "id": "025c2d44",
   "metadata": {},
   "outputs": [
    {
     "name": "stdout",
     "output_type": "stream",
     "text": [
      "Enter the name: vikalp\n",
      "Enter the name: jatin\n",
      "Enter the name: krish\n",
      "Data is written into the file.\n"
     ]
    }
   ],
   "source": [
    "file1 = open(\"Emp.txt\", \"w\")\n",
    "lst = []\n",
    "for i in range(3):\n",
    "    name = input(\"Enter the name: \")\n",
    "    lst.append(name + '\\n')\n",
    "      \n",
    "file1.writelines(lst)\n",
    "file1.close()\n",
    "print(\"Data is written into the file.\") "
   ]
  },
  {
   "cell_type": "code",
   "execution_count": null,
   "id": "4692eb4e",
   "metadata": {},
   "outputs": [],
   "source": []
  }
 ],
 "metadata": {
  "kernelspec": {
   "display_name": "Python 3 (ipykernel)",
   "language": "python",
   "name": "python3"
  },
  "language_info": {
   "codemirror_mode": {
    "name": "ipython",
    "version": 3
   },
   "file_extension": ".py",
   "mimetype": "text/x-python",
   "name": "python",
   "nbconvert_exporter": "python",
   "pygments_lexer": "ipython3",
   "version": "3.9.12"
  }
 },
 "nbformat": 4,
 "nbformat_minor": 5
}

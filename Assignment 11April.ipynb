{
 "cells": [
  {
   "cell_type": "code",
   "execution_count": 1,
   "id": "bc8ece3e",
   "metadata": {},
   "outputs": [],
   "source": [
    "#Ans1:When the data is train over different models and then esemble and get the accuracy and then select the best accurate model."
   ]
  },
  {
   "cell_type": "code",
   "execution_count": 2,
   "id": "4e034d9b",
   "metadata": {},
   "outputs": [],
   "source": [
    "#Ans2:Because we can directly select the models by appling once and get the most accurate model ."
   ]
  },
  {
   "cell_type": "code",
   "execution_count": 4,
   "id": "c6545c7d",
   "metadata": {},
   "outputs": [],
   "source": [
    "#Ans3:If the data is train over different models and check accuracy if the particular model are the best accuracy then we select the model .It is parallel processing means that the different models have the values and then select the majority one.Example:Random Forest etc. "
   ]
  },
  {
   "cell_type": "code",
   "execution_count": null,
   "id": "6820dce0",
   "metadata": {},
   "outputs": [],
   "source": [
    "#Ans: In this process the data is train over multiple classifier .It is sequential processing .Example Adaboost,Xgboost "
   ]
  },
  {
   "cell_type": "code",
   "execution_count": 5,
   "id": "e4ffe02c",
   "metadata": {},
   "outputs": [],
   "source": [
    "#Ans5:if we have the multiple models then we select the mojority accuracy ."
   ]
  },
  {
   "cell_type": "code",
   "execution_count": 6,
   "id": "ebe003d8",
   "metadata": {},
   "outputs": [],
   "source": [
    "#Ans6:No"
   ]
  },
  {
   "cell_type": "code",
   "execution_count": 1,
   "id": "be448600",
   "metadata": {},
   "outputs": [],
   "source": [
    "#Ans7:Once the standard error is calculated, the confidence interval is determined by multiplying the standard error by a constant that reflects the level of significance desired, based on the normal distribution. "
   ]
  },
  {
   "cell_type": "code",
   "execution_count": 2,
   "id": "e25d8287",
   "metadata": {},
   "outputs": [],
   "source": [
    "#Ans8:when we have the dataset then the dataset is split to different models and the find the best model by abbriviation  "
   ]
  },
  {
   "cell_type": "code",
   "execution_count": null,
   "id": "fd685d08",
   "metadata": {},
   "outputs": [],
   "source": [
    "#Ans9:# create a vector of the sample heights\n",
    "heights <- c(15, rep(NA, 49))\n",
    "# generate 50 bootstrap samples and calculate the sample means\n",
    "boot_means <- boot::boot(heights, function(x) mean(x, na.rm = TRUE), R = 50)\n",
    "# calculate the mean and standard error of the bootstrap sample means\n",
    "mean_boot <- mean(boot_means$t)\n",
    "se_boot <- sd(boot_means$t)\n",
    "# calculate the 95% confidence interval\n",
    "ci_boot <- c(mean_boot - 1.96 * se_boot, mean_boot + 1.96 * se_boot)\n",
    "ci_boot\n"
   ]
  }
 ],
 "metadata": {
  "kernelspec": {
   "display_name": "Python 3 (ipykernel)",
   "language": "python",
   "name": "python3"
  },
  "language_info": {
   "codemirror_mode": {
    "name": "ipython",
    "version": 3
   },
   "file_extension": ".py",
   "mimetype": "text/x-python",
   "name": "python",
   "nbconvert_exporter": "python",
   "pygments_lexer": "ipython3",
   "version": "3.9.12"
  }
 },
 "nbformat": 4,
 "nbformat_minor": 5
}
